{
 "cells": [
  {
   "cell_type": "code",
   "execution_count": 3,
   "id": "772e3536-e085-46ee-928e-b57df0616e22",
   "metadata": {},
   "outputs": [],
   "source": [
    "import numpy as np\n",
    "import pandas as pd\n",
    "import matplotlib.pyplot as plt\n",
    "import seaborn as sns"
   ]
  },
  {
   "cell_type": "code",
   "execution_count": 4,
   "id": "be2d38eb-60ba-4c43-bf30-41bfde8e66f3",
   "metadata": {},
   "outputs": [],
   "source": [
    "import warnings\n",
    "warnings.filterwarnings('ignore')"
   ]
  },
  {
   "cell_type": "code",
   "execution_count": 108,
   "id": "b2cbfd87-226f-42e4-9a8b-411d9120b533",
   "metadata": {},
   "outputs": [
    {
     "name": "stdout",
     "output_type": "stream",
     "text": [
      "Requirement already satisfied: xgboost in c:\\users\\private\\anaconda3\\lib\\site-packages (1.5.2)Note: you may need to restart the kernel to use updated packages.\n",
      "\n",
      "Requirement already satisfied: scipy in c:\\users\\private\\anaconda3\\lib\\site-packages (from xgboost) (1.7.1)\n",
      "Requirement already satisfied: numpy in c:\\users\\private\\anaconda3\\lib\\site-packages (from xgboost) (1.20.3)\n"
     ]
    }
   ],
   "source": [
    "pip install xgboost"
   ]
  },
  {
   "cell_type": "code",
   "execution_count": 1,
   "id": "8d917d90-7590-4b18-a68b-e6d666c753a4",
   "metadata": {
    "scrolled": true,
    "tags": []
   },
   "outputs": [
    {
     "name": "stdout",
     "output_type": "stream",
     "text": [
      "Collecting imbalanced-learn\n",
      "  Downloading imbalanced_learn-0.9.0-py3-none-any.whl (199 kB)\n",
      "Collecting scikit-learn>=1.0.1\n",
      "  Downloading scikit_learn-1.0.2-cp39-cp39-win_amd64.whl (7.2 MB)\n",
      "Requirement already satisfied: scipy>=1.1.0 in c:\\users\\private\\anaconda3\\lib\\site-packages (from imbalanced-learn) (1.7.1)\n",
      "Requirement already satisfied: numpy>=1.14.6 in c:\\users\\private\\anaconda3\\lib\\site-packages (from imbalanced-learn) (1.20.3)\n",
      "Requirement already satisfied: threadpoolctl>=2.0.0 in c:\\users\\private\\anaconda3\\lib\\site-packages (from imbalanced-learn) (2.2.0)\n",
      "Requirement already satisfied: joblib>=0.11 in c:\\users\\private\\anaconda3\\lib\\site-packages (from imbalanced-learn) (1.1.0)\n",
      "Installing collected packages: scikit-learn, imbalanced-learn\n",
      "  Attempting uninstall: scikit-learn\n",
      "    Found existing installation: scikit-learn 0.24.2\n",
      "    Uninstalling scikit-learn-0.24.2:\n",
      "      Successfully uninstalled scikit-learn-0.24.2\n",
      "Successfully installed imbalanced-learn-0.9.0 scikit-learn-1.0.2\n",
      "Note: you may need to restart the kernel to use updated packages.\n"
     ]
    }
   ],
   "source": [
    "pip install -U imbalanced-learn"
   ]
  },
  {
   "cell_type": "code",
   "execution_count": 2,
   "id": "289b4e4e-948d-45bb-a488-4bfb51d47113",
   "metadata": {
    "scrolled": true,
    "tags": []
   },
   "outputs": [
    {
     "name": "stdout",
     "output_type": "stream",
     "text": [
      "Collecting package metadata (current_repodata.json): ...working... done\n",
      "Solving environment: ...working... done\n",
      "\n",
      "## Package Plan ##\n",
      "\n",
      "  environment location: C:\\Users\\Private\\anaconda3\n",
      "\n",
      "  added / updated specs:\n",
      "    - imbalanced-learn\n",
      "\n",
      "\n",
      "The following packages will be downloaded:\n",
      "\n",
      "    package                    |            build\n",
      "    ---------------------------|-----------------\n",
      "    _anaconda_depends-2021.11  |           py39_0           7 KB\n",
      "    anaconda-custom            |           py39_1           4 KB\n",
      "    ca-certificates-2021.10.8  |       h5b45459_0         176 KB  conda-forge\n",
      "    certifi-2021.10.8          |   py39hcbf5309_2         145 KB  conda-forge\n",
      "    conda-4.12.0               |   py39hcbf5309_0         1.0 MB  conda-forge\n",
      "    imbalanced-learn-0.7.0     |             py_1          97 KB  conda-forge\n",
      "    openssl-1.1.1n             |       h8ffe710_0         5.7 MB  conda-forge\n",
      "    pandas-1.4.2               |   py39h2e25243_1        11.0 MB  conda-forge\n",
      "    python_abi-3.9             |           2_cp39           4 KB  conda-forge\n",
      "    ------------------------------------------------------------\n",
      "                                           Total:        18.2 MB\n",
      "\n",
      "The following NEW packages will be INSTALLED:\n",
      "\n",
      "  _anaconda_depends  pkgs/main/win-64::_anaconda_depends-2021.11-py39_0\n",
      "  imbalanced-learn   conda-forge/noarch::imbalanced-learn-0.7.0-py_1\n",
      "  pandas             conda-forge/win-64::pandas-1.4.2-py39h2e25243_1\n",
      "  python_abi         conda-forge/win-64::python_abi-3.9-2_cp39\n",
      "\n",
      "The following packages will be UPDATED:\n",
      "\n",
      "  certifi            pkgs/main::certifi-2021.10.8-py39haa9~ --> conda-forge::certifi-2021.10.8-py39hcbf5309_2\n",
      "  conda              pkgs/main::conda-4.10.3-py39haa95532_0 --> conda-forge::conda-4.12.0-py39hcbf5309_0\n",
      "  openssl              pkgs/main::openssl-1.1.1l-h2bbff1b_0 --> conda-forge::openssl-1.1.1n-h8ffe710_0\n",
      "\n",
      "The following packages will be SUPERSEDED by a higher-priority channel:\n",
      "\n",
      "  ca-certificates    pkgs/main::ca-certificates-2021.10.26~ --> conda-forge::ca-certificates-2021.10.8-h5b45459_0\n",
      "\n",
      "The following packages will be DOWNGRADED:\n",
      "\n",
      "  anaconda                                   2021.11-py39_0 --> custom-py39_1\n",
      "\n",
      "\n",
      "\n",
      "Downloading and Extracting Packages\n",
      "\n",
      "anaconda-custom      | 4 KB      |            |   0% \n",
      "anaconda-custom      | 4 KB      | ########## | 100% \n",
      "anaconda-custom      | 4 KB      | ########## | 100% \n",
      "\n",
      "conda-4.12.0         | 1.0 MB    |            |   0% \n",
      "conda-4.12.0         | 1.0 MB    | 1          |   2% \n",
      "conda-4.12.0         | 1.0 MB    | ###8       |  39% \n",
      "conda-4.12.0         | 1.0 MB    | ########## | 100% \n",
      "conda-4.12.0         | 1.0 MB    | ########## | 100% \n",
      "\n",
      "ca-certificates-2021 | 176 KB    |            |   0% \n",
      "ca-certificates-2021 | 176 KB    | 9          |   9% \n",
      "Note: you may need to restart the kernel to use updated packages.\n",
      "ca-certificates-2021 | 176 KB    | ########## | 100% \n",
      "\n",
      "pandas-1.4.2         | 11.0 MB   |            |   0% \n",
      "pandas-1.4.2         | 11.0 MB   | 3          |   4% \n",
      "pandas-1.4.2         | 11.0 MB   | #4         |  14% \n",
      "pandas-1.4.2         | 11.0 MB   | ##6        |  27% \n",
      "pandas-1.4.2         | 11.0 MB   | ####       |  40% \n",
      "pandas-1.4.2         | 11.0 MB   | #####6     |  56% \n",
      "pandas-1.4.2         | 11.0 MB   | ######8    |  69% \n",
      "\n",
      "pandas-1.4.2         | 11.0 MB   | ########3  |  83% \n"
     ]
    },
    {
     "name": "stderr",
     "output_type": "stream",
     "text": [
      "\n",
      "The environment is inconsistent, please check the package plan carefully\n",
      "The following packages are causing the inconsistency:\n",
      "\n",
      "  - defaults/win-64::anaconda==2021.11=py39_0\n",
      "  - defaults/win-64::bkcharts==0.2=py39haa95532_0\n",
      "  - defaults/noarch::dask==2021.10.0=pyhd3eb1b0_0\n",
      "  - defaults/noarch::seaborn==0.11.2=pyhd3eb1b0_0\n",
      "  - defaults/win-64::statsmodels==0.12.2=py39h2bbff1b_0\n",
      "\n",
      "\n",
      "==> WARNING: A newer version of conda exists. <==\n",
      "  current version: 4.10.3\n",
      "  latest version: 4.12.0\n",
      "\n",
      "Please update conda by running\n",
      "\n",
      "    $ conda update -n base -c defaults conda\n",
      "\n",
      "\n"
     ]
    },
    {
     "name": "stdout",
     "output_type": "stream",
     "text": [
      "pandas-1.4.2         | 11.0 MB   | #########5 |  96% \n",
      "pandas-1.4.2         | 11.0 MB   | ########## | 100% \n",
      "\n",
      "python_abi-3.9       | 4 KB      |            |   0% \n",
      "python_abi-3.9       | 4 KB      | ########## | 100% \n",
      "\n",
      "openssl-1.1.1n       | 5.7 MB    |            |   0% \n",
      "openssl-1.1.1n       | 5.7 MB    | 1          |   2% \n",
      "openssl-1.1.1n       | 5.7 MB    | ##3        |  24% \n",
      "openssl-1.1.1n       | 5.7 MB    | ####2      |  43% \n",
      "openssl-1.1.1n       | 5.7 MB    | ######7    |  67% \n",
      "openssl-1.1.1n       | 5.7 MB    | #########  |  91% \n",
      "openssl-1.1.1n       | 5.7 MB    | ########## | 100% \n",
      "\n",
      "certifi-2021.10.8    | 145 KB    |            |   0% \n",
      "certifi-2021.10.8    | 145 KB    | ########## | 100% \n",
      "certifi-2021.10.8    | 145 KB    | ########## | 100% \n",
      "\n",
      "imbalanced-learn-0.7 | 97 KB     |            |   0% \n",
      "imbalanced-learn-0.7 | 97 KB     | ########## | 100% \n",
      "imbalanced-learn-0.7 | 97 KB     | ########## | 100% \n",
      "\n",
      "_anaconda_depends-20 | 7 KB      |            |   0% \n",
      "_anaconda_depends-20 | 7 KB      | ########## | 100% \n",
      "_anaconda_depends-20 | 7 KB      | ########## | 100% \n",
      "Preparing transaction: ...working... done\n",
      "Verifying transaction: ...working... done\n",
      "Executing transaction: ...working... done\n"
     ]
    }
   ],
   "source": [
    "conda install -c conda-forge imbalanced-learn"
   ]
  },
  {
   "cell_type": "code",
   "execution_count": 5,
   "id": "81a07717-1dcf-43c9-b04d-ab38cd47916d",
   "metadata": {},
   "outputs": [],
   "source": [
    "import pandas as pd\n",
    "data = pd.read_csv('aug_train.csv')"
   ]
  },
  {
   "cell_type": "markdown",
   "id": "0957ebff-e5e3-4b91-b6c6-e4da81b126eb",
   "metadata": {
    "tags": []
   },
   "source": [
    "# Dataset"
   ]
  },
  {
   "cell_type": "code",
   "execution_count": 6,
   "id": "16fe7bba-74e5-4afc-b0ab-f6b48c0a7441",
   "metadata": {},
   "outputs": [
    {
     "name": "stdout",
     "output_type": "stream",
     "text": [
      "<class 'pandas.core.frame.DataFrame'>\n",
      "RangeIndex: 19158 entries, 0 to 19157\n",
      "Data columns (total 14 columns):\n",
      " #   Column                  Non-Null Count  Dtype  \n",
      "---  ------                  --------------  -----  \n",
      " 0   enrollee_id             19158 non-null  int64  \n",
      " 1   city                    19158 non-null  object \n",
      " 2   city_development_index  19158 non-null  float64\n",
      " 3   gender                  14650 non-null  object \n",
      " 4   relevent_experience     19158 non-null  object \n",
      " 5   enrolled_university     18772 non-null  object \n",
      " 6   education_level         18698 non-null  object \n",
      " 7   major_discipline        16345 non-null  object \n",
      " 8   experience              19093 non-null  object \n",
      " 9   company_size            13220 non-null  object \n",
      " 10  company_type            13018 non-null  object \n",
      " 11  last_new_job            18735 non-null  object \n",
      " 12  training_hours          19158 non-null  int64  \n",
      " 13  target                  19158 non-null  float64\n",
      "dtypes: float64(2), int64(2), object(10)\n",
      "memory usage: 2.0+ MB\n"
     ]
    }
   ],
   "source": [
    "data.info()"
   ]
  },
  {
   "cell_type": "markdown",
   "id": "f29ef723-a71c-48c0-bfcd-06e04069e092",
   "metadata": {},
   "source": [
    "Pengamatan\\:\n",
    "1. Data terdiri dari 19157 baris\n",
    "2. Terdapat 8 kolom yang memiliki missing values (count < rows)\n",
    "3. Sepertinya setiap kolom sudah sesuai tipe datanya"
   ]
  },
  {
   "cell_type": "markdown",
   "id": "093f45bd-06d2-40ae-8fb0-b722598c1b61",
   "metadata": {
    "tags": []
   },
   "source": [
    "# Cuplikan Data"
   ]
  },
  {
   "cell_type": "code",
   "execution_count": 7,
   "id": "3bec10b6-762c-421e-835c-327bec185200",
   "metadata": {},
   "outputs": [
    {
     "data": {
      "text/html": [
       "<div>\n",
       "<style scoped>\n",
       "    .dataframe tbody tr th:only-of-type {\n",
       "        vertical-align: middle;\n",
       "    }\n",
       "\n",
       "    .dataframe tbody tr th {\n",
       "        vertical-align: top;\n",
       "    }\n",
       "\n",
       "    .dataframe thead th {\n",
       "        text-align: right;\n",
       "    }\n",
       "</style>\n",
       "<table border=\"1\" class=\"dataframe\">\n",
       "  <thead>\n",
       "    <tr style=\"text-align: right;\">\n",
       "      <th></th>\n",
       "      <th>enrollee_id</th>\n",
       "      <th>city</th>\n",
       "      <th>city_development_index</th>\n",
       "      <th>gender</th>\n",
       "      <th>relevent_experience</th>\n",
       "      <th>enrolled_university</th>\n",
       "      <th>education_level</th>\n",
       "      <th>major_discipline</th>\n",
       "      <th>experience</th>\n",
       "      <th>company_size</th>\n",
       "      <th>company_type</th>\n",
       "      <th>last_new_job</th>\n",
       "      <th>training_hours</th>\n",
       "      <th>target</th>\n",
       "    </tr>\n",
       "  </thead>\n",
       "  <tbody>\n",
       "    <tr>\n",
       "      <th>7002</th>\n",
       "      <td>31531</td>\n",
       "      <td>city_16</td>\n",
       "      <td>0.910</td>\n",
       "      <td>Male</td>\n",
       "      <td>Has relevent experience</td>\n",
       "      <td>no_enrollment</td>\n",
       "      <td>Graduate</td>\n",
       "      <td>STEM</td>\n",
       "      <td>12</td>\n",
       "      <td>1000-4999</td>\n",
       "      <td>Pvt Ltd</td>\n",
       "      <td>4</td>\n",
       "      <td>108</td>\n",
       "      <td>0.0</td>\n",
       "    </tr>\n",
       "    <tr>\n",
       "      <th>10879</th>\n",
       "      <td>1490</td>\n",
       "      <td>city_104</td>\n",
       "      <td>0.924</td>\n",
       "      <td>NaN</td>\n",
       "      <td>No relevent experience</td>\n",
       "      <td>no_enrollment</td>\n",
       "      <td>High School</td>\n",
       "      <td>NaN</td>\n",
       "      <td>5</td>\n",
       "      <td>NaN</td>\n",
       "      <td>NaN</td>\n",
       "      <td>never</td>\n",
       "      <td>24</td>\n",
       "      <td>0.0</td>\n",
       "    </tr>\n",
       "    <tr>\n",
       "      <th>8632</th>\n",
       "      <td>10494</td>\n",
       "      <td>city_114</td>\n",
       "      <td>0.926</td>\n",
       "      <td>Male</td>\n",
       "      <td>Has relevent experience</td>\n",
       "      <td>no_enrollment</td>\n",
       "      <td>Masters</td>\n",
       "      <td>STEM</td>\n",
       "      <td>10</td>\n",
       "      <td>100-500</td>\n",
       "      <td>Pvt Ltd</td>\n",
       "      <td>1</td>\n",
       "      <td>28</td>\n",
       "      <td>0.0</td>\n",
       "    </tr>\n",
       "    <tr>\n",
       "      <th>5810</th>\n",
       "      <td>1672</td>\n",
       "      <td>city_160</td>\n",
       "      <td>0.920</td>\n",
       "      <td>Male</td>\n",
       "      <td>Has relevent experience</td>\n",
       "      <td>no_enrollment</td>\n",
       "      <td>Graduate</td>\n",
       "      <td>STEM</td>\n",
       "      <td>5</td>\n",
       "      <td>10000+</td>\n",
       "      <td>Pvt Ltd</td>\n",
       "      <td>1</td>\n",
       "      <td>49</td>\n",
       "      <td>0.0</td>\n",
       "    </tr>\n",
       "    <tr>\n",
       "      <th>10221</th>\n",
       "      <td>18386</td>\n",
       "      <td>city_21</td>\n",
       "      <td>0.624</td>\n",
       "      <td>NaN</td>\n",
       "      <td>No relevent experience</td>\n",
       "      <td>no_enrollment</td>\n",
       "      <td>Graduate</td>\n",
       "      <td>STEM</td>\n",
       "      <td>&lt;1</td>\n",
       "      <td>50-99</td>\n",
       "      <td>Public Sector</td>\n",
       "      <td>1</td>\n",
       "      <td>95</td>\n",
       "      <td>1.0</td>\n",
       "    </tr>\n",
       "  </tbody>\n",
       "</table>\n",
       "</div>"
      ],
      "text/plain": [
       "       enrollee_id      city  city_development_index gender  \\\n",
       "7002         31531   city_16                   0.910   Male   \n",
       "10879         1490  city_104                   0.924    NaN   \n",
       "8632         10494  city_114                   0.926   Male   \n",
       "5810          1672  city_160                   0.920   Male   \n",
       "10221        18386   city_21                   0.624    NaN   \n",
       "\n",
       "           relevent_experience enrolled_university education_level  \\\n",
       "7002   Has relevent experience       no_enrollment        Graduate   \n",
       "10879   No relevent experience       no_enrollment     High School   \n",
       "8632   Has relevent experience       no_enrollment         Masters   \n",
       "5810   Has relevent experience       no_enrollment        Graduate   \n",
       "10221   No relevent experience       no_enrollment        Graduate   \n",
       "\n",
       "      major_discipline experience company_size   company_type last_new_job  \\\n",
       "7002              STEM         12    1000-4999        Pvt Ltd            4   \n",
       "10879              NaN          5          NaN            NaN        never   \n",
       "8632              STEM         10      100-500        Pvt Ltd            1   \n",
       "5810              STEM          5       10000+        Pvt Ltd            1   \n",
       "10221             STEM         <1        50-99  Public Sector            1   \n",
       "\n",
       "       training_hours  target  \n",
       "7002              108     0.0  \n",
       "10879              24     0.0  \n",
       "8632               28     0.0  \n",
       "5810               49     0.0  \n",
       "10221              95     1.0  "
      ]
     },
     "execution_count": 7,
     "metadata": {},
     "output_type": "execute_result"
    }
   ],
   "source": [
    "data.sample(5)"
   ]
  },
  {
   "cell_type": "markdown",
   "id": "c8e2feb6-6d9b-4bb4-bbe9-18bf4d1d9018",
   "metadata": {
    "tags": []
   },
   "source": [
    "# Statistical Summary"
   ]
  },
  {
   "cell_type": "code",
   "execution_count": 8,
   "id": "baeeca93-3e79-4064-be27-fb95bc33364a",
   "metadata": {},
   "outputs": [],
   "source": [
    "nums = ['city_development_index', 'training_hours', 'target']\n",
    "cats = ['city', 'gender', 'relevent_experience', 'enrolled_university', 'education_level', 'major_discipline', 'experience', 'company_size', 'company_type', 'last_new_job']"
   ]
  },
  {
   "cell_type": "code",
   "execution_count": 9,
   "id": "7bcebc48-f443-47ff-a579-0ea4ad2e54c6",
   "metadata": {},
   "outputs": [
    {
     "data": {
      "text/html": [
       "<div>\n",
       "<style scoped>\n",
       "    .dataframe tbody tr th:only-of-type {\n",
       "        vertical-align: middle;\n",
       "    }\n",
       "\n",
       "    .dataframe tbody tr th {\n",
       "        vertical-align: top;\n",
       "    }\n",
       "\n",
       "    .dataframe thead th {\n",
       "        text-align: right;\n",
       "    }\n",
       "</style>\n",
       "<table border=\"1\" class=\"dataframe\">\n",
       "  <thead>\n",
       "    <tr style=\"text-align: right;\">\n",
       "      <th></th>\n",
       "      <th>city_development_index</th>\n",
       "      <th>training_hours</th>\n",
       "      <th>target</th>\n",
       "    </tr>\n",
       "  </thead>\n",
       "  <tbody>\n",
       "    <tr>\n",
       "      <th>count</th>\n",
       "      <td>19158.000000</td>\n",
       "      <td>19158.000000</td>\n",
       "      <td>19158.000000</td>\n",
       "    </tr>\n",
       "    <tr>\n",
       "      <th>mean</th>\n",
       "      <td>0.828848</td>\n",
       "      <td>65.366896</td>\n",
       "      <td>0.249348</td>\n",
       "    </tr>\n",
       "    <tr>\n",
       "      <th>std</th>\n",
       "      <td>0.123362</td>\n",
       "      <td>60.058462</td>\n",
       "      <td>0.432647</td>\n",
       "    </tr>\n",
       "    <tr>\n",
       "      <th>min</th>\n",
       "      <td>0.448000</td>\n",
       "      <td>1.000000</td>\n",
       "      <td>0.000000</td>\n",
       "    </tr>\n",
       "    <tr>\n",
       "      <th>25%</th>\n",
       "      <td>0.740000</td>\n",
       "      <td>23.000000</td>\n",
       "      <td>0.000000</td>\n",
       "    </tr>\n",
       "    <tr>\n",
       "      <th>50%</th>\n",
       "      <td>0.903000</td>\n",
       "      <td>47.000000</td>\n",
       "      <td>0.000000</td>\n",
       "    </tr>\n",
       "    <tr>\n",
       "      <th>75%</th>\n",
       "      <td>0.920000</td>\n",
       "      <td>88.000000</td>\n",
       "      <td>0.000000</td>\n",
       "    </tr>\n",
       "    <tr>\n",
       "      <th>max</th>\n",
       "      <td>0.949000</td>\n",
       "      <td>336.000000</td>\n",
       "      <td>1.000000</td>\n",
       "    </tr>\n",
       "  </tbody>\n",
       "</table>\n",
       "</div>"
      ],
      "text/plain": [
       "       city_development_index  training_hours        target\n",
       "count            19158.000000    19158.000000  19158.000000\n",
       "mean                 0.828848       65.366896      0.249348\n",
       "std                  0.123362       60.058462      0.432647\n",
       "min                  0.448000        1.000000      0.000000\n",
       "25%                  0.740000       23.000000      0.000000\n",
       "50%                  0.903000       47.000000      0.000000\n",
       "75%                  0.920000       88.000000      0.000000\n",
       "max                  0.949000      336.000000      1.000000"
      ]
     },
     "execution_count": 9,
     "metadata": {},
     "output_type": "execute_result"
    }
   ],
   "source": [
    "data[nums].describe()"
   ]
  },
  {
   "cell_type": "markdown",
   "id": "63c54626-6ff9-408c-9439-1e280a0279fd",
   "metadata": {},
   "source": [
    "Pengamatan:\n",
    "1. Kolom `city_development_index` dan `target` tampak sudah cukup simetrik distribusinya (mean dan median tak berbeda jauh)\n",
    "2. Kolom `target` dan `training_hours` tampaknya skew ke kanan (long-right tail)\n",
    "3. Kolom `city_developmet_index`  tampaknya skew ke kiri (long-left tail)\n",
    "3. Kolom `training_hours` dan `target` ternyata bernilai boolean/binary"
   ]
  },
  {
   "cell_type": "code",
   "execution_count": 10,
   "id": "f1b7827e-15d4-40f9-9c86-40fea2fd1894",
   "metadata": {},
   "outputs": [
    {
     "data": {
      "text/html": [
       "<div>\n",
       "<style scoped>\n",
       "    .dataframe tbody tr th:only-of-type {\n",
       "        vertical-align: middle;\n",
       "    }\n",
       "\n",
       "    .dataframe tbody tr th {\n",
       "        vertical-align: top;\n",
       "    }\n",
       "\n",
       "    .dataframe thead th {\n",
       "        text-align: right;\n",
       "    }\n",
       "</style>\n",
       "<table border=\"1\" class=\"dataframe\">\n",
       "  <thead>\n",
       "    <tr style=\"text-align: right;\">\n",
       "      <th></th>\n",
       "      <th>city</th>\n",
       "      <th>gender</th>\n",
       "      <th>relevent_experience</th>\n",
       "      <th>enrolled_university</th>\n",
       "      <th>education_level</th>\n",
       "      <th>major_discipline</th>\n",
       "      <th>experience</th>\n",
       "      <th>company_size</th>\n",
       "      <th>company_type</th>\n",
       "      <th>last_new_job</th>\n",
       "    </tr>\n",
       "  </thead>\n",
       "  <tbody>\n",
       "    <tr>\n",
       "      <th>count</th>\n",
       "      <td>19158</td>\n",
       "      <td>14650</td>\n",
       "      <td>19158</td>\n",
       "      <td>18772</td>\n",
       "      <td>18698</td>\n",
       "      <td>16345</td>\n",
       "      <td>19093</td>\n",
       "      <td>13220</td>\n",
       "      <td>13018</td>\n",
       "      <td>18735</td>\n",
       "    </tr>\n",
       "    <tr>\n",
       "      <th>unique</th>\n",
       "      <td>123</td>\n",
       "      <td>3</td>\n",
       "      <td>2</td>\n",
       "      <td>3</td>\n",
       "      <td>5</td>\n",
       "      <td>6</td>\n",
       "      <td>22</td>\n",
       "      <td>8</td>\n",
       "      <td>6</td>\n",
       "      <td>6</td>\n",
       "    </tr>\n",
       "    <tr>\n",
       "      <th>top</th>\n",
       "      <td>city_103</td>\n",
       "      <td>Male</td>\n",
       "      <td>Has relevent experience</td>\n",
       "      <td>no_enrollment</td>\n",
       "      <td>Graduate</td>\n",
       "      <td>STEM</td>\n",
       "      <td>&gt;20</td>\n",
       "      <td>50-99</td>\n",
       "      <td>Pvt Ltd</td>\n",
       "      <td>1</td>\n",
       "    </tr>\n",
       "    <tr>\n",
       "      <th>freq</th>\n",
       "      <td>4355</td>\n",
       "      <td>13221</td>\n",
       "      <td>13792</td>\n",
       "      <td>13817</td>\n",
       "      <td>11598</td>\n",
       "      <td>14492</td>\n",
       "      <td>3286</td>\n",
       "      <td>3083</td>\n",
       "      <td>9817</td>\n",
       "      <td>8040</td>\n",
       "    </tr>\n",
       "  </tbody>\n",
       "</table>\n",
       "</div>"
      ],
      "text/plain": [
       "            city gender      relevent_experience enrolled_university  \\\n",
       "count      19158  14650                    19158               18772   \n",
       "unique       123      3                        2                   3   \n",
       "top     city_103   Male  Has relevent experience       no_enrollment   \n",
       "freq        4355  13221                    13792               13817   \n",
       "\n",
       "       education_level major_discipline experience company_size company_type  \\\n",
       "count            18698            16345      19093        13220        13018   \n",
       "unique               5                6         22            8            6   \n",
       "top           Graduate             STEM        >20        50-99      Pvt Ltd   \n",
       "freq             11598            14492       3286         3083         9817   \n",
       "\n",
       "       last_new_job  \n",
       "count         18735  \n",
       "unique            6  \n",
       "top               1  \n",
       "freq           8040  "
      ]
     },
     "execution_count": 10,
     "metadata": {},
     "output_type": "execute_result"
    }
   ],
   "source": [
    "data[cats].describe()"
   ]
  },
  {
   "cell_type": "markdown",
   "id": "1b67a6da-5671-4a97-bea3-1808b416f126",
   "metadata": {},
   "source": [
    "Beberapa pengamatan:\n",
    "1. Data dinominasi (proporsi lebih dari 80% dari jumlah baris data) oleh kaum Male (`gender`), memiliki pengalaman (`relevant_experience`), major_discipline dipenuhi STEM (`major_discipline`) dan berpendidikan S1 (`education_level`)\n",
    "2. Kolom yang menduduki posisi pertama dengan jumlah unique values yang tinggi (memiliki kardinalitas) jatuh pada kolom `city` yaitu 123 dan posisi kedua diduduki oleh kolom `experience` yaitu berjumlah 22. "
   ]
  },
  {
   "cell_type": "markdown",
   "id": "83ee50c3-3522-4534-b79f-be0bc12a0690",
   "metadata": {
    "tags": []
   },
   "source": [
    "# Drop Kolom"
   ]
  },
  {
   "cell_type": "code",
   "execution_count": 11,
   "id": "3a0a803f-af9f-476d-87b1-7e8296935aba",
   "metadata": {},
   "outputs": [],
   "source": [
    "#drop kolom city\n",
    "data = data.drop(columns='city')"
   ]
  },
  {
   "cell_type": "code",
   "execution_count": 12,
   "id": "cea6d096-2a63-4228-9d2a-173d2432a765",
   "metadata": {},
   "outputs": [],
   "source": [
    "#drop kolom experience\n",
    "data = data.drop(columns='experience')"
   ]
  },
  {
   "cell_type": "markdown",
   "id": "737af12d-6daa-4d9a-972b-daa0df504ba2",
   "metadata": {
    "tags": []
   },
   "source": [
    "# Missing Data"
   ]
  },
  {
   "cell_type": "code",
   "execution_count": 13,
   "id": "68c43e54-c795-4eac-adbe-b2ed3e5bf6e5",
   "metadata": {},
   "outputs": [
    {
     "data": {
      "text/plain": [
       "enrollee_id                  0\n",
       "city_development_index       0\n",
       "gender                    4508\n",
       "relevent_experience          0\n",
       "enrolled_university        386\n",
       "education_level            460\n",
       "major_discipline          2813\n",
       "company_size              5938\n",
       "company_type              6140\n",
       "last_new_job               423\n",
       "training_hours               0\n",
       "target                       0\n",
       "dtype: int64"
      ]
     },
     "execution_count": 13,
     "metadata": {},
     "output_type": "execute_result"
    }
   ],
   "source": [
    "data.isna().sum()"
   ]
  },
  {
   "cell_type": "markdown",
   "id": "a91d3752-a86d-4752-ad9c-da5c9058f7a5",
   "metadata": {},
   "source": [
    "* `enrolled_university`, `last_new_job`, `education_level` \\: Drop karena nilainya kecil\n",
    "*  `gender`, `major_discipline`, `company_size`, `company_type` \\: Menggunakan modus"
   ]
  },
  {
   "cell_type": "code",
   "execution_count": 14,
   "id": "b326bc22-8dc7-4fd8-ab05-6afd0f9b108c",
   "metadata": {},
   "outputs": [],
   "source": [
    "# yang menggunakan mode\n",
    "data['gender'].fillna(data['gender'].mode()[0], inplace=True)\n",
    "data['major_discipline'].fillna(data['major_discipline'].mode()[0], inplace=True)\n",
    "data['company_size'].fillna(data['company_size'].mode()[0], inplace=True)\n",
    "data['company_type'].fillna(data['company_type'].mode()[0], inplace=True)"
   ]
  },
  {
   "cell_type": "code",
   "execution_count": 15,
   "id": "9528afbb-68eb-411a-9b9e-93c94b5ee226",
   "metadata": {},
   "outputs": [
    {
     "data": {
      "text/plain": [
       "enrollee_id                 0\n",
       "city_development_index      0\n",
       "gender                      0\n",
       "relevent_experience         0\n",
       "enrolled_university       386\n",
       "education_level           460\n",
       "major_discipline            0\n",
       "company_size                0\n",
       "company_type                0\n",
       "last_new_job              423\n",
       "training_hours              0\n",
       "target                      0\n",
       "dtype: int64"
      ]
     },
     "execution_count": 15,
     "metadata": {},
     "output_type": "execute_result"
    }
   ],
   "source": [
    "data.isna().sum()"
   ]
  },
  {
   "cell_type": "code",
   "execution_count": 16,
   "id": "2db0ea1b-03c8-440b-9470-72ee4c1aa862",
   "metadata": {},
   "outputs": [
    {
     "data": {
      "text/plain": [
       "enrollee_id               0\n",
       "city_development_index    0\n",
       "gender                    0\n",
       "relevent_experience       0\n",
       "enrolled_university       0\n",
       "education_level           0\n",
       "major_discipline          0\n",
       "company_size              0\n",
       "company_type              0\n",
       "last_new_job              0\n",
       "training_hours            0\n",
       "target                    0\n",
       "dtype: int64"
      ]
     },
     "execution_count": 16,
     "metadata": {},
     "output_type": "execute_result"
    }
   ],
   "source": [
    "data = data.dropna(subset=['enrolled_university', 'last_new_job', 'education_level'])\n",
    "data.isna().sum()"
   ]
  },
  {
   "cell_type": "markdown",
   "id": "042466f1-f1ac-48ef-913b-115b6d60145a",
   "metadata": {
    "tags": []
   },
   "source": [
    "# Data Duplicated"
   ]
  },
  {
   "cell_type": "code",
   "execution_count": 17,
   "id": "8b80b6de-6559-4c31-ab89-1146defccc99",
   "metadata": {},
   "outputs": [
    {
     "data": {
      "text/plain": [
       "0"
      ]
     },
     "execution_count": 17,
     "metadata": {},
     "output_type": "execute_result"
    }
   ],
   "source": [
    "data.duplicated().sum()"
   ]
  },
  {
   "cell_type": "code",
   "execution_count": 17,
   "id": "b1483af5-96eb-45f0-8988-183df97e461c",
   "metadata": {},
   "outputs": [
    {
     "data": {
      "text/plain": [
       "12104"
      ]
     },
     "execution_count": 17,
     "metadata": {},
     "output_type": "execute_result"
    }
   ],
   "source": [
    "data.duplicated(subset=['training_hours','city_development_index', 'gender']).sum()"
   ]
  },
  {
   "cell_type": "code",
   "execution_count": 18,
   "id": "4f41919f-4441-4346-9d97-8298b5302b03",
   "metadata": {},
   "outputs": [
    {
     "data": {
      "text/plain": [
       "12836"
      ]
     },
     "execution_count": 18,
     "metadata": {},
     "output_type": "execute_result"
    }
   ],
   "source": [
    "data.duplicated(subset=['training_hours','city_development_index']).sum()"
   ]
  },
  {
   "cell_type": "code",
   "execution_count": 19,
   "id": "71d47046-e94e-485d-af26-bd902f845b7f",
   "metadata": {},
   "outputs": [
    {
     "name": "stdout",
     "output_type": "stream",
     "text": [
      "Jumlah row duplicated sebelum dihapus 0\n",
      "Jumlah row duplicated SETELAH dihapus 0\n"
     ]
    }
   ],
   "source": [
    "print(f'Jumlah row duplicated sebelum dihapus {data.duplicated().sum()}')\n",
    "data.drop_duplicates(inplace=True) # note: default-nya keep='First' (tidak perlu ditulis)\n",
    "print(f'Jumlah row duplicated SETELAH dihapus {data.duplicated().sum()}')"
   ]
  },
  {
   "cell_type": "markdown",
   "id": "7784e225-73ef-4544-b74f-567fd0f3eeb1",
   "metadata": {
    "tags": []
   },
   "source": [
    "# Outliers Handling"
   ]
  },
  {
   "cell_type": "code",
   "execution_count": 18,
   "id": "6362c078-7e73-4f94-b9e4-a10be8f8ba9f",
   "metadata": {},
   "outputs": [],
   "source": [
    "from scipy import stats"
   ]
  },
  {
   "cell_type": "code",
   "execution_count": 19,
   "id": "38bccbaa-b237-4a19-b4ec-f6bc2f1e71ae",
   "metadata": {},
   "outputs": [
    {
     "name": "stdout",
     "output_type": "stream",
     "text": [
      "Jumlah baris sebelum memfilter outlier: 18044\n",
      "Jumlah baris setelah memfilter outlier: 17605\n"
     ]
    }
   ],
   "source": [
    "print(f'Jumlah baris sebelum memfilter outlier: {len(data)}')\n",
    "\n",
    "filtered_entries = np.array([True] * len(data))\n",
    "\n",
    "for col in nums:\n",
    "    zscore = abs(stats.zscore(data[col])) # hitung absolute z-scorenya\n",
    "    filtered_entries = (zscore < 3) & filtered_entries # keep yang kurang dari 3 absolute z-scorenya\n",
    "    \n",
    "data = data[filtered_entries] # filter, cuma ambil yang z-scorenya dibawah 3\n",
    "\n",
    "print(f'Jumlah baris setelah memfilter outlier: {len(data)}')"
   ]
  },
  {
   "cell_type": "markdown",
   "id": "accdaa40-2b88-42d8-9ec0-b2d9409b8d08",
   "metadata": {
    "tags": []
   },
   "source": [
    "# Log / Exp Transformation"
   ]
  },
  {
   "cell_type": "code",
   "execution_count": 20,
   "id": "6caec6af-48d5-4ffe-a4fe-aa5dbbce1c0e",
   "metadata": {},
   "outputs": [
    {
     "data": {
      "text/plain": [
       "<AxesSubplot:xlabel='city_development_index', ylabel='Density'>"
      ]
     },
     "execution_count": 20,
     "metadata": {},
     "output_type": "execute_result"
    },
    {
     "data": {
      "image/png": "[encoded data removed]",
      "text/plain": [
       "<Figure size 432x288 with 1 Axes>"
      ]
     },
     "metadata": {
      "needs_background": "light"
     },
     "output_type": "display_data"
    }
   ],
   "source": [
    "#Distribusi city_developmemnt_index asli\n",
    "sns.kdeplot(\n",
    "   data=data, x='city_development_index', \n",
    "   fill=True, common_norm=False, palette=\"crest\",\n",
    ")"
   ]
  },
  {
   "cell_type": "code",
   "execution_count": 21,
   "id": "5a1440fb-a3f5-4373-838a-2942a1235d80",
   "metadata": {},
   "outputs": [
    {
     "data": {
      "text/plain": [
       "<AxesSubplot:ylabel='Density'>"
      ]
     },
     "execution_count": 21,
     "metadata": {},
     "output_type": "execute_result"
    },
    {
     "data": {
      "image/png": "[encoded data removed]",
      "text/plain": [
       "<Figure size 432x288 with 1 Axes>"
      ]
     },
     "metadata": {
      "needs_background": "light"
     },
     "output_type": "display_data"
    }
   ],
   "source": [
    "from scipy.stats import skewnorm\n",
    "\n",
    "sns.kdeplot(skewnorm.rvs(data['city_development_index']))"
   ]
  },
  {
   "cell_type": "code",
   "execution_count": 22,
   "id": "edde0720-7a07-49cb-a460-32d389836162",
   "metadata": {},
   "outputs": [],
   "source": [
    "data['skewnorm_city_development_index'] = skewnorm.rvs(data['city_development_index'])\n",
    "data = data.drop(columns='city_development_index')"
   ]
  },
  {
   "cell_type": "code",
   "execution_count": 23,
   "id": "952914c4-b461-44fc-986c-b7723fd34297",
   "metadata": {},
   "outputs": [
    {
     "data": {
      "text/plain": [
       "<AxesSubplot:xlabel='training_hours', ylabel='Density'>"
      ]
     },
     "execution_count": 23,
     "metadata": {},
     "output_type": "execute_result"
    },
    {
     "data": {
      "image/png": "[encoded data removed]",
      "text/plain": [
       "<Figure size 432x288 with 1 Axes>"
      ]
     },
     "metadata": {
      "needs_background": "light"
     },
     "output_type": "display_data"
    }
   ],
   "source": [
    "# distribusi training_hours (nilai asli)\n",
    "sns.kdeplot(data['training_hours'])"
   ]
  },
  {
   "cell_type": "code",
   "execution_count": 24,
   "id": "cd747493-3bc5-4e51-8898-27decd4d6c0f",
   "metadata": {},
   "outputs": [
    {
     "data": {
      "text/plain": [
       "<AxesSubplot:xlabel='training_hours', ylabel='Density'>"
      ]
     },
     "execution_count": 24,
     "metadata": {},
     "output_type": "execute_result"
    },
    {
     "data": {
      "image/png": "[encoded data removed]",
      "text/plain": [
       "<Figure size 432x288 with 1 Axes>"
      ]
     },
     "metadata": {
      "needs_background": "light"
     },
     "output_type": "display_data"
    }
   ],
   "source": [
    "sns.kdeplot(np.log(data['training_hours']))"
   ]
  },
  {
   "cell_type": "code",
   "execution_count": 25,
   "id": "fb9f566d-36c5-46fe-8657-4bb090a64cbf",
   "metadata": {},
   "outputs": [],
   "source": [
    "data['log_training_hours'] = np.log(data['training_hours'])"
   ]
  },
  {
   "cell_type": "code",
   "execution_count": 26,
   "id": "8b6ed05a-7044-4d53-b521-77cb52d85240",
   "metadata": {},
   "outputs": [],
   "source": [
    "# drop kolom training_hours (nilai asli)\n",
    "data = data.drop(columns='training_hours')"
   ]
  },
  {
   "cell_type": "markdown",
   "id": "32dbd428-8d4a-4f7b-8e50-16a41ef3a4c9",
   "metadata": {
    "tags": []
   },
   "source": [
    "# Normalization / Standarzitation"
   ]
  },
  {
   "cell_type": "code",
   "execution_count": 27,
   "id": "266bf65b-6a55-4fd6-91db-60ad9576ae54",
   "metadata": {},
   "outputs": [
    {
     "data": {
      "text/html": [
       "<div>\n",
       "<style scoped>\n",
       "    .dataframe tbody tr th:only-of-type {\n",
       "        vertical-align: middle;\n",
       "    }\n",
       "\n",
       "    .dataframe tbody tr th {\n",
       "        vertical-align: top;\n",
       "    }\n",
       "\n",
       "    .dataframe thead th {\n",
       "        text-align: right;\n",
       "    }\n",
       "</style>\n",
       "<table border=\"1\" class=\"dataframe\">\n",
       "  <thead>\n",
       "    <tr style=\"text-align: right;\">\n",
       "      <th></th>\n",
       "      <th>enrollee_id</th>\n",
       "      <th>target</th>\n",
       "      <th>skewnorm_city_development_index</th>\n",
       "      <th>log_training_hours</th>\n",
       "    </tr>\n",
       "  </thead>\n",
       "  <tbody>\n",
       "    <tr>\n",
       "      <th>count</th>\n",
       "      <td>17605.000000</td>\n",
       "      <td>17605.000000</td>\n",
       "      <td>17605.000000</td>\n",
       "      <td>17605.000000</td>\n",
       "    </tr>\n",
       "    <tr>\n",
       "      <th>mean</th>\n",
       "      <td>16903.373701</td>\n",
       "      <td>0.246294</td>\n",
       "      <td>0.504558</td>\n",
       "      <td>3.716371</td>\n",
       "    </tr>\n",
       "    <tr>\n",
       "      <th>std</th>\n",
       "      <td>9661.905849</td>\n",
       "      <td>0.430864</td>\n",
       "      <td>0.861437</td>\n",
       "      <td>0.951938</td>\n",
       "    </tr>\n",
       "    <tr>\n",
       "      <th>min</th>\n",
       "      <td>1.000000</td>\n",
       "      <td>0.000000</td>\n",
       "      <td>-2.692133</td>\n",
       "      <td>0.000000</td>\n",
       "    </tr>\n",
       "    <tr>\n",
       "      <th>25%</th>\n",
       "      <td>8535.000000</td>\n",
       "      <td>0.000000</td>\n",
       "      <td>-0.084231</td>\n",
       "      <td>3.135494</td>\n",
       "    </tr>\n",
       "    <tr>\n",
       "      <th>50%</th>\n",
       "      <td>17023.000000</td>\n",
       "      <td>0.000000</td>\n",
       "      <td>0.490293</td>\n",
       "      <td>3.828641</td>\n",
       "    </tr>\n",
       "    <tr>\n",
       "      <th>75%</th>\n",
       "      <td>25317.000000</td>\n",
       "      <td>0.000000</td>\n",
       "      <td>1.074405</td>\n",
       "      <td>4.430817</td>\n",
       "    </tr>\n",
       "    <tr>\n",
       "      <th>max</th>\n",
       "      <td>33380.000000</td>\n",
       "      <td>1.000000</td>\n",
       "      <td>4.407913</td>\n",
       "      <td>5.497168</td>\n",
       "    </tr>\n",
       "  </tbody>\n",
       "</table>\n",
       "</div>"
      ],
      "text/plain": [
       "        enrollee_id        target  skewnorm_city_development_index  \\\n",
       "count  17605.000000  17605.000000                     17605.000000   \n",
       "mean   16903.373701      0.246294                         0.504558   \n",
       "std     9661.905849      0.430864                         0.861437   \n",
       "min        1.000000      0.000000                        -2.692133   \n",
       "25%     8535.000000      0.000000                        -0.084231   \n",
       "50%    17023.000000      0.000000                         0.490293   \n",
       "75%    25317.000000      0.000000                         1.074405   \n",
       "max    33380.000000      1.000000                         4.407913   \n",
       "\n",
       "       log_training_hours  \n",
       "count        17605.000000  \n",
       "mean             3.716371  \n",
       "std              0.951938  \n",
       "min              0.000000  \n",
       "25%              3.135494  \n",
       "50%              3.828641  \n",
       "75%              4.430817  \n",
       "max              5.497168  "
      ]
     },
     "execution_count": 27,
     "metadata": {},
     "output_type": "execute_result"
    }
   ],
   "source": [
    "data.describe()"
   ]
  },
  {
   "cell_type": "code",
   "execution_count": 28,
   "id": "cd31384b-d2a1-4062-8dff-f8e0c1e4a483",
   "metadata": {},
   "outputs": [],
   "source": [
    "from sklearn.preprocessing import MinMaxScaler, StandardScaler\n",
    "data['log_training_hours_std'] = StandardScaler().fit_transform(data['log_training_hours'].values.reshape(len(data), 1))\n",
    "data['skewnorm_city_development_index_std'] = StandardScaler().fit_transform(data['skewnorm_city_development_index'].values.reshape(len(data), 1))"
   ]
  },
  {
   "cell_type": "code",
   "execution_count": 29,
   "id": "29af3e8e-0ca7-4cbd-b8ee-50736268dd4d",
   "metadata": {},
   "outputs": [
    {
     "data": {
      "text/html": [
       "<div>\n",
       "<style scoped>\n",
       "    .dataframe tbody tr th:only-of-type {\n",
       "        vertical-align: middle;\n",
       "    }\n",
       "\n",
       "    .dataframe tbody tr th {\n",
       "        vertical-align: top;\n",
       "    }\n",
       "\n",
       "    .dataframe thead th {\n",
       "        text-align: right;\n",
       "    }\n",
       "</style>\n",
       "<table border=\"1\" class=\"dataframe\">\n",
       "  <thead>\n",
       "    <tr style=\"text-align: right;\">\n",
       "      <th></th>\n",
       "      <th>enrollee_id</th>\n",
       "      <th>target</th>\n",
       "      <th>skewnorm_city_development_index</th>\n",
       "      <th>log_training_hours</th>\n",
       "      <th>log_training_hours_std</th>\n",
       "      <th>skewnorm_city_development_index_std</th>\n",
       "    </tr>\n",
       "  </thead>\n",
       "  <tbody>\n",
       "    <tr>\n",
       "      <th>count</th>\n",
       "      <td>17605.000000</td>\n",
       "      <td>17605.000000</td>\n",
       "      <td>17605.000000</td>\n",
       "      <td>17605.000000</td>\n",
       "      <td>1.760500e+04</td>\n",
       "      <td>1.760500e+04</td>\n",
       "    </tr>\n",
       "    <tr>\n",
       "      <th>mean</th>\n",
       "      <td>16903.373701</td>\n",
       "      <td>0.246294</td>\n",
       "      <td>0.504558</td>\n",
       "      <td>3.716371</td>\n",
       "      <td>3.900317e-16</td>\n",
       "      <td>-9.375094e-17</td>\n",
       "    </tr>\n",
       "    <tr>\n",
       "      <th>std</th>\n",
       "      <td>9661.905849</td>\n",
       "      <td>0.430864</td>\n",
       "      <td>0.861437</td>\n",
       "      <td>0.951938</td>\n",
       "      <td>1.000028e+00</td>\n",
       "      <td>1.000028e+00</td>\n",
       "    </tr>\n",
       "    <tr>\n",
       "      <th>min</th>\n",
       "      <td>1.000000</td>\n",
       "      <td>0.000000</td>\n",
       "      <td>-2.692133</td>\n",
       "      <td>0.000000</td>\n",
       "      <td>-3.904117e+00</td>\n",
       "      <td>-3.710988e+00</td>\n",
       "    </tr>\n",
       "    <tr>\n",
       "      <th>25%</th>\n",
       "      <td>8535.000000</td>\n",
       "      <td>0.000000</td>\n",
       "      <td>-0.084231</td>\n",
       "      <td>3.135494</td>\n",
       "      <td>-6.102215e-01</td>\n",
       "      <td>-6.835156e-01</td>\n",
       "    </tr>\n",
       "    <tr>\n",
       "      <th>50%</th>\n",
       "      <td>17023.000000</td>\n",
       "      <td>0.000000</td>\n",
       "      <td>0.490293</td>\n",
       "      <td>3.828641</td>\n",
       "      <td>1.179426e-01</td>\n",
       "      <td>-1.656008e-02</td>\n",
       "    </tr>\n",
       "    <tr>\n",
       "      <th>75%</th>\n",
       "      <td>25317.000000</td>\n",
       "      <td>0.000000</td>\n",
       "      <td>1.074405</td>\n",
       "      <td>4.430817</td>\n",
       "      <td>7.505392e-01</td>\n",
       "      <td>6.615262e-01</td>\n",
       "    </tr>\n",
       "    <tr>\n",
       "      <th>max</th>\n",
       "      <td>33380.000000</td>\n",
       "      <td>1.000000</td>\n",
       "      <td>4.407913</td>\n",
       "      <td>5.497168</td>\n",
       "      <td>1.870761e+00</td>\n",
       "      <td>4.531343e+00</td>\n",
       "    </tr>\n",
       "  </tbody>\n",
       "</table>\n",
       "</div>"
      ],
      "text/plain": [
       "        enrollee_id        target  skewnorm_city_development_index  \\\n",
       "count  17605.000000  17605.000000                     17605.000000   \n",
       "mean   16903.373701      0.246294                         0.504558   \n",
       "std     9661.905849      0.430864                         0.861437   \n",
       "min        1.000000      0.000000                        -2.692133   \n",
       "25%     8535.000000      0.000000                        -0.084231   \n",
       "50%    17023.000000      0.000000                         0.490293   \n",
       "75%    25317.000000      0.000000                         1.074405   \n",
       "max    33380.000000      1.000000                         4.407913   \n",
       "\n",
       "       log_training_hours  log_training_hours_std  \\\n",
       "count        17605.000000            1.760500e+04   \n",
       "mean             3.716371            3.900317e-16   \n",
       "std              0.951938            1.000028e+00   \n",
       "min              0.000000           -3.904117e+00   \n",
       "25%              3.135494           -6.102215e-01   \n",
       "50%              3.828641            1.179426e-01   \n",
       "75%              4.430817            7.505392e-01   \n",
       "max              5.497168            1.870761e+00   \n",
       "\n",
       "       skewnorm_city_development_index_std  \n",
       "count                         1.760500e+04  \n",
       "mean                         -9.375094e-17  \n",
       "std                           1.000028e+00  \n",
       "min                          -3.710988e+00  \n",
       "25%                          -6.835156e-01  \n",
       "50%                          -1.656008e-02  \n",
       "75%                           6.615262e-01  \n",
       "max                           4.531343e+00  "
      ]
     },
     "execution_count": 29,
     "metadata": {},
     "output_type": "execute_result"
    }
   ],
   "source": [
    "data.describe()"
   ]
  },
  {
   "cell_type": "markdown",
   "id": "c4047f2f-94b4-443f-bfcf-13c823d89941",
   "metadata": {
    "tags": []
   },
   "source": [
    "# Feature Encoding"
   ]
  },
  {
   "cell_type": "code",
   "execution_count": 30,
   "id": "c2170d95-5f39-46f3-9156-33d20ab25855",
   "metadata": {},
   "outputs": [
    {
     "name": "stdout",
     "output_type": "stream",
     "text": [
      "value counts of column gender\n",
      "Male      16252\n",
      "Female     1182\n",
      "Other       171\n",
      "Name: gender, dtype: int64\n",
      "------------------------------ \n",
      "\n",
      "value counts of column relevent_experience\n",
      "Has relevent experience    12891\n",
      "No relevent experience      4714\n",
      "Name: relevent_experience, dtype: int64\n",
      "------------------------------ \n",
      "\n",
      "value counts of column enrolled_university\n",
      "no_enrollment       13049\n",
      "Full time course     3444\n",
      "Part time course     1112\n",
      "Name: enrolled_university, dtype: int64\n",
      "------------------------------ \n",
      "\n",
      "value counts of column education_level\n",
      "Graduate          10931\n",
      "Masters            4140\n",
      "High School        1862\n",
      "Phd                 388\n",
      "Primary School      284\n",
      "Name: education_level, dtype: int64\n",
      "------------------------------ \n",
      "\n",
      "value counts of column major_discipline\n",
      "STEM               15836\n",
      "Humanities           641\n",
      "Other                359\n",
      "Business Degree      316\n",
      "Arts                 246\n",
      "No Major             207\n",
      "Name: major_discipline, dtype: int64\n",
      "------------------------------ \n",
      "\n",
      "value counts of column company_size\n",
      "50-99        8068\n",
      "100-500      2425\n",
      "10000+       1917\n",
      "10/49        1357\n",
      "1000-4999    1259\n",
      "<10          1212\n",
      "500-999       829\n",
      "5000-9999     538\n",
      "Name: company_size, dtype: int64\n",
      "------------------------------ \n",
      "\n",
      "value counts of column company_type\n",
      "Pvt Ltd                14621\n",
      "Funded Startup           950\n",
      "Public Sector            895\n",
      "Early Stage Startup      548\n",
      "NGO                      480\n",
      "Other                    111\n",
      "Name: company_type, dtype: int64\n",
      "------------------------------ \n",
      "\n",
      "value counts of column last_new_job\n",
      "1        7609\n",
      ">4       3151\n",
      "2        2755\n",
      "never    2135\n",
      "4         987\n",
      "3         968\n",
      "Name: last_new_job, dtype: int64\n",
      "------------------------------ \n",
      "\n"
     ]
    }
   ],
   "source": [
    "cats_updated = ['gender', 'relevent_experience', 'enrolled_university', 'education_level', 'major_discipline', 'company_size', 'company_type', 'last_new_job']\n",
    "\n",
    "for col in cats_updated:\n",
    "  print(f'value counts of column {col}')\n",
    "  print(data[col].value_counts())\n",
    "  print('---'*10, '\\n')"
   ]
  },
  {
   "cell_type": "code",
   "execution_count": 31,
   "id": "44710f54-2f14-4458-adb9-3d16b4ad70d3",
   "metadata": {},
   "outputs": [
    {
     "data": {
      "text/html": [
       "<div>\n",
       "<style scoped>\n",
       "    .dataframe tbody tr th:only-of-type {\n",
       "        vertical-align: middle;\n",
       "    }\n",
       "\n",
       "    .dataframe tbody tr th {\n",
       "        vertical-align: top;\n",
       "    }\n",
       "\n",
       "    .dataframe thead th {\n",
       "        text-align: right;\n",
       "    }\n",
       "</style>\n",
       "<table border=\"1\" class=\"dataframe\">\n",
       "  <thead>\n",
       "    <tr style=\"text-align: right;\">\n",
       "      <th></th>\n",
       "      <th>enrollee_id</th>\n",
       "      <th>gender</th>\n",
       "      <th>relevent_experience</th>\n",
       "      <th>enrolled_university</th>\n",
       "      <th>education_level</th>\n",
       "      <th>major_discipline</th>\n",
       "      <th>company_size</th>\n",
       "      <th>company_type</th>\n",
       "      <th>last_new_job</th>\n",
       "      <th>target</th>\n",
       "      <th>skewnorm_city_development_index</th>\n",
       "      <th>log_training_hours</th>\n",
       "      <th>log_training_hours_std</th>\n",
       "      <th>skewnorm_city_development_index_std</th>\n",
       "    </tr>\n",
       "  </thead>\n",
       "  <tbody>\n",
       "    <tr>\n",
       "      <th>0</th>\n",
       "      <td>8949</td>\n",
       "      <td>Male</td>\n",
       "      <td>Has relevent experience</td>\n",
       "      <td>no_enrollment</td>\n",
       "      <td>Graduate</td>\n",
       "      <td>STEM</td>\n",
       "      <td>50-99</td>\n",
       "      <td>Pvt Ltd</td>\n",
       "      <td>1</td>\n",
       "      <td>1.0</td>\n",
       "      <td>1.370617</td>\n",
       "      <td>3.583519</td>\n",
       "      <td>-0.139563</td>\n",
       "      <td>1.005394</td>\n",
       "    </tr>\n",
       "    <tr>\n",
       "      <th>1</th>\n",
       "      <td>29725</td>\n",
       "      <td>Male</td>\n",
       "      <td>No relevent experience</td>\n",
       "      <td>no_enrollment</td>\n",
       "      <td>Graduate</td>\n",
       "      <td>STEM</td>\n",
       "      <td>50-99</td>\n",
       "      <td>Pvt Ltd</td>\n",
       "      <td>&gt;4</td>\n",
       "      <td>0.0</td>\n",
       "      <td>-0.573087</td>\n",
       "      <td>3.850148</td>\n",
       "      <td>0.140535</td>\n",
       "      <td>-1.251021</td>\n",
       "    </tr>\n",
       "    <tr>\n",
       "      <th>2</th>\n",
       "      <td>11561</td>\n",
       "      <td>Male</td>\n",
       "      <td>No relevent experience</td>\n",
       "      <td>Full time course</td>\n",
       "      <td>Graduate</td>\n",
       "      <td>STEM</td>\n",
       "      <td>50-99</td>\n",
       "      <td>Pvt Ltd</td>\n",
       "      <td>never</td>\n",
       "      <td>0.0</td>\n",
       "      <td>0.900871</td>\n",
       "      <td>4.418841</td>\n",
       "      <td>0.737958</td>\n",
       "      <td>0.460074</td>\n",
       "    </tr>\n",
       "    <tr>\n",
       "      <th>4</th>\n",
       "      <td>666</td>\n",
       "      <td>Male</td>\n",
       "      <td>Has relevent experience</td>\n",
       "      <td>no_enrollment</td>\n",
       "      <td>Masters</td>\n",
       "      <td>STEM</td>\n",
       "      <td>50-99</td>\n",
       "      <td>Funded Startup</td>\n",
       "      <td>4</td>\n",
       "      <td>0.0</td>\n",
       "      <td>-0.435975</td>\n",
       "      <td>2.079442</td>\n",
       "      <td>-1.719625</td>\n",
       "      <td>-1.091850</td>\n",
       "    </tr>\n",
       "    <tr>\n",
       "      <th>5</th>\n",
       "      <td>21651</td>\n",
       "      <td>Male</td>\n",
       "      <td>Has relevent experience</td>\n",
       "      <td>Part time course</td>\n",
       "      <td>Graduate</td>\n",
       "      <td>STEM</td>\n",
       "      <td>50-99</td>\n",
       "      <td>Pvt Ltd</td>\n",
       "      <td>1</td>\n",
       "      <td>1.0</td>\n",
       "      <td>0.500914</td>\n",
       "      <td>3.178054</td>\n",
       "      <td>-0.565512</td>\n",
       "      <td>-0.004230</td>\n",
       "    </tr>\n",
       "    <tr>\n",
       "      <th>...</th>\n",
       "      <td>...</td>\n",
       "      <td>...</td>\n",
       "      <td>...</td>\n",
       "      <td>...</td>\n",
       "      <td>...</td>\n",
       "      <td>...</td>\n",
       "      <td>...</td>\n",
       "      <td>...</td>\n",
       "      <td>...</td>\n",
       "      <td>...</td>\n",
       "      <td>...</td>\n",
       "      <td>...</td>\n",
       "      <td>...</td>\n",
       "      <td>...</td>\n",
       "    </tr>\n",
       "    <tr>\n",
       "      <th>19153</th>\n",
       "      <td>7386</td>\n",
       "      <td>Male</td>\n",
       "      <td>No relevent experience</td>\n",
       "      <td>no_enrollment</td>\n",
       "      <td>Graduate</td>\n",
       "      <td>Humanities</td>\n",
       "      <td>50-99</td>\n",
       "      <td>Pvt Ltd</td>\n",
       "      <td>1</td>\n",
       "      <td>1.0</td>\n",
       "      <td>0.932097</td>\n",
       "      <td>3.737670</td>\n",
       "      <td>0.022375</td>\n",
       "      <td>0.496324</td>\n",
       "    </tr>\n",
       "    <tr>\n",
       "      <th>19154</th>\n",
       "      <td>31398</td>\n",
       "      <td>Male</td>\n",
       "      <td>Has relevent experience</td>\n",
       "      <td>no_enrollment</td>\n",
       "      <td>Graduate</td>\n",
       "      <td>STEM</td>\n",
       "      <td>50-99</td>\n",
       "      <td>Pvt Ltd</td>\n",
       "      <td>4</td>\n",
       "      <td>1.0</td>\n",
       "      <td>0.838312</td>\n",
       "      <td>3.951244</td>\n",
       "      <td>0.246739</td>\n",
       "      <td>0.387450</td>\n",
       "    </tr>\n",
       "    <tr>\n",
       "      <th>19155</th>\n",
       "      <td>24576</td>\n",
       "      <td>Male</td>\n",
       "      <td>Has relevent experience</td>\n",
       "      <td>no_enrollment</td>\n",
       "      <td>Graduate</td>\n",
       "      <td>STEM</td>\n",
       "      <td>50-99</td>\n",
       "      <td>Pvt Ltd</td>\n",
       "      <td>4</td>\n",
       "      <td>0.0</td>\n",
       "      <td>-0.276882</td>\n",
       "      <td>3.784190</td>\n",
       "      <td>0.071245</td>\n",
       "      <td>-0.907162</td>\n",
       "    </tr>\n",
       "    <tr>\n",
       "      <th>19156</th>\n",
       "      <td>5756</td>\n",
       "      <td>Male</td>\n",
       "      <td>Has relevent experience</td>\n",
       "      <td>no_enrollment</td>\n",
       "      <td>High School</td>\n",
       "      <td>STEM</td>\n",
       "      <td>500-999</td>\n",
       "      <td>Pvt Ltd</td>\n",
       "      <td>2</td>\n",
       "      <td>0.0</td>\n",
       "      <td>2.459866</td>\n",
       "      <td>4.574711</td>\n",
       "      <td>0.901703</td>\n",
       "      <td>2.269887</td>\n",
       "    </tr>\n",
       "    <tr>\n",
       "      <th>19157</th>\n",
       "      <td>23834</td>\n",
       "      <td>Male</td>\n",
       "      <td>No relevent experience</td>\n",
       "      <td>no_enrollment</td>\n",
       "      <td>Primary School</td>\n",
       "      <td>STEM</td>\n",
       "      <td>50-99</td>\n",
       "      <td>Pvt Ltd</td>\n",
       "      <td>1</td>\n",
       "      <td>0.0</td>\n",
       "      <td>0.326478</td>\n",
       "      <td>4.844187</td>\n",
       "      <td>1.184792</td>\n",
       "      <td>-0.206730</td>\n",
       "    </tr>\n",
       "  </tbody>\n",
       "</table>\n",
       "<p>17434 rows × 14 columns</p>\n",
       "</div>"
      ],
      "text/plain": [
       "       enrollee_id gender      relevent_experience enrolled_university  \\\n",
       "0             8949   Male  Has relevent experience       no_enrollment   \n",
       "1            29725   Male   No relevent experience       no_enrollment   \n",
       "2            11561   Male   No relevent experience    Full time course   \n",
       "4              666   Male  Has relevent experience       no_enrollment   \n",
       "5            21651   Male  Has relevent experience    Part time course   \n",
       "...            ...    ...                      ...                 ...   \n",
       "19153         7386   Male   No relevent experience       no_enrollment   \n",
       "19154        31398   Male  Has relevent experience       no_enrollment   \n",
       "19155        24576   Male  Has relevent experience       no_enrollment   \n",
       "19156         5756   Male  Has relevent experience       no_enrollment   \n",
       "19157        23834   Male   No relevent experience       no_enrollment   \n",
       "\n",
       "      education_level major_discipline company_size    company_type  \\\n",
       "0            Graduate             STEM        50-99         Pvt Ltd   \n",
       "1            Graduate             STEM        50-99         Pvt Ltd   \n",
       "2            Graduate             STEM        50-99         Pvt Ltd   \n",
       "4             Masters             STEM        50-99  Funded Startup   \n",
       "5            Graduate             STEM        50-99         Pvt Ltd   \n",
       "...               ...              ...          ...             ...   \n",
       "19153        Graduate       Humanities        50-99         Pvt Ltd   \n",
       "19154        Graduate             STEM        50-99         Pvt Ltd   \n",
       "19155        Graduate             STEM        50-99         Pvt Ltd   \n",
       "19156     High School             STEM      500-999         Pvt Ltd   \n",
       "19157  Primary School             STEM        50-99         Pvt Ltd   \n",
       "\n",
       "      last_new_job  target  skewnorm_city_development_index  \\\n",
       "0                1     1.0                         1.370617   \n",
       "1               >4     0.0                        -0.573087   \n",
       "2            never     0.0                         0.900871   \n",
       "4                4     0.0                        -0.435975   \n",
       "5                1     1.0                         0.500914   \n",
       "...            ...     ...                              ...   \n",
       "19153            1     1.0                         0.932097   \n",
       "19154            4     1.0                         0.838312   \n",
       "19155            4     0.0                        -0.276882   \n",
       "19156            2     0.0                         2.459866   \n",
       "19157            1     0.0                         0.326478   \n",
       "\n",
       "       log_training_hours  log_training_hours_std  \\\n",
       "0                3.583519               -0.139563   \n",
       "1                3.850148                0.140535   \n",
       "2                4.418841                0.737958   \n",
       "4                2.079442               -1.719625   \n",
       "5                3.178054               -0.565512   \n",
       "...                   ...                     ...   \n",
       "19153            3.737670                0.022375   \n",
       "19154            3.951244                0.246739   \n",
       "19155            3.784190                0.071245   \n",
       "19156            4.574711                0.901703   \n",
       "19157            4.844187                1.184792   \n",
       "\n",
       "       skewnorm_city_development_index_std  \n",
       "0                                 1.005394  \n",
       "1                                -1.251021  \n",
       "2                                 0.460074  \n",
       "4                                -1.091850  \n",
       "5                                -0.004230  \n",
       "...                                    ...  \n",
       "19153                             0.496324  \n",
       "19154                             0.387450  \n",
       "19155                            -0.907162  \n",
       "19156                             2.269887  \n",
       "19157                            -0.206730  \n",
       "\n",
       "[17434 rows x 14 columns]"
      ]
     },
     "execution_count": 31,
     "metadata": {},
     "output_type": "execute_result"
    }
   ],
   "source": [
    "# menghapus Other pada feature Gender karena tidak relate dengan gender manapun dan nilainya kecil sehingga bisa didrop, sehingga gender bisa Label Encoding\n",
    "data = data[ ~(data['gender'] == 'Other')]\n",
    "data"
   ]
  },
  {
   "cell_type": "code",
   "execution_count": 32,
   "id": "c477c53d-fcf7-44f4-b771-afb378b95516",
   "metadata": {},
   "outputs": [
    {
     "data": {
      "text/plain": [
       "Male      16252\n",
       "Female     1182\n",
       "Name: gender, dtype: int64"
      ]
     },
     "execution_count": 32,
     "metadata": {},
     "output_type": "execute_result"
    }
   ],
   "source": [
    "data['gender'].value_counts()"
   ]
  },
  {
   "cell_type": "markdown",
   "id": "9ff0b416-4cea-4e68-bb25-4b37e60b8a83",
   "metadata": {},
   "source": [
    "* `gender`, `relevent_experience`, `enrolled_university`, & `education_level`: Label encoding\n",
    "* `major_discipline`, `company_size`, `company_type`, `last_new_job`: One Hot Encoding"
   ]
  },
  {
   "cell_type": "code",
   "execution_count": 33,
   "id": "3db95bfb-5e6a-4127-800e-a70b088358da",
   "metadata": {},
   "outputs": [],
   "source": [
    "mapping_gender = {\n",
    "    'Male' : 0,\n",
    "    'Female' : 1\n",
    "}\n",
    "\n",
    "mapping_pengalaman = {\n",
    "    'No relevent experience' : 0,\n",
    "    'Has relevent experience' : 1\n",
    "}\n",
    "\n",
    "mapping_enrolled_university = {\n",
    "    'no_enrollment' : 0,\n",
    "    'Part time course' : 1,\n",
    "    'Full time course' : 2\n",
    "}\n",
    "\n",
    "mapping_pendidikan = {\n",
    "    'Primary School' : 0,\n",
    "    'High School' : 1,\n",
    "    'Graduate' : 2,\n",
    "    'Masters' : 3,\n",
    "    'Phd' : 4\n",
    "}\n",
    "\n",
    "data['gender'] = data['gender'].map(mapping_gender)\n",
    "data['relevent_experience'] = data['relevent_experience'].map(mapping_pengalaman)\n",
    "data['enrolled_university'] = data['enrolled_university'].map(mapping_enrolled_university)\n",
    "data['education_level'] = data['education_level'].map(mapping_pendidikan)"
   ]
  },
  {
   "cell_type": "code",
   "execution_count": 34,
   "id": "210deb6c-54e4-4052-bee8-f4a389720a66",
   "metadata": {},
   "outputs": [],
   "source": [
    "for cat in ['major_discipline', 'company_size', 'company_type', 'last_new_job']:\n",
    "    onehots = pd.get_dummies(data[cat], prefix=cat)\n",
    "    data = data.join(onehots)"
   ]
  },
  {
   "cell_type": "code",
   "execution_count": 35,
   "id": "5364e2a6-68ec-4403-ba65-6e52fe42e0f5",
   "metadata": {},
   "outputs": [],
   "source": [
    "# drop kolom major_discipline, company_size, company_type, last_new_job yang asli (karena sudah di-encoding)\n",
    "data_prep = data.drop(columns=['major_discipline','company_size','company_type', 'last_new_job',])"
   ]
  },
  {
   "cell_type": "code",
   "execution_count": 36,
   "id": "8133ff12-7738-4ca3-a7e3-e20dd27a3981",
   "metadata": {},
   "outputs": [
    {
     "data": {
      "text/html": [
       "<div>\n",
       "<style scoped>\n",
       "    .dataframe tbody tr th:only-of-type {\n",
       "        vertical-align: middle;\n",
       "    }\n",
       "\n",
       "    .dataframe tbody tr th {\n",
       "        vertical-align: top;\n",
       "    }\n",
       "\n",
       "    .dataframe thead th {\n",
       "        text-align: right;\n",
       "    }\n",
       "</style>\n",
       "<table border=\"1\" class=\"dataframe\">\n",
       "  <thead>\n",
       "    <tr style=\"text-align: right;\">\n",
       "      <th></th>\n",
       "      <th>enrollee_id</th>\n",
       "      <th>gender</th>\n",
       "      <th>relevent_experience</th>\n",
       "      <th>enrolled_university</th>\n",
       "      <th>education_level</th>\n",
       "      <th>target</th>\n",
       "      <th>skewnorm_city_development_index</th>\n",
       "      <th>log_training_hours</th>\n",
       "      <th>log_training_hours_std</th>\n",
       "      <th>skewnorm_city_development_index_std</th>\n",
       "      <th>...</th>\n",
       "      <th>company_type_NGO</th>\n",
       "      <th>company_type_Other</th>\n",
       "      <th>company_type_Public Sector</th>\n",
       "      <th>company_type_Pvt Ltd</th>\n",
       "      <th>last_new_job_1</th>\n",
       "      <th>last_new_job_2</th>\n",
       "      <th>last_new_job_3</th>\n",
       "      <th>last_new_job_4</th>\n",
       "      <th>last_new_job_&gt;4</th>\n",
       "      <th>last_new_job_never</th>\n",
       "    </tr>\n",
       "  </thead>\n",
       "  <tbody>\n",
       "    <tr>\n",
       "      <th>0</th>\n",
       "      <td>8949</td>\n",
       "      <td>0</td>\n",
       "      <td>1</td>\n",
       "      <td>0</td>\n",
       "      <td>2</td>\n",
       "      <td>1.0</td>\n",
       "      <td>1.370617</td>\n",
       "      <td>3.583519</td>\n",
       "      <td>-0.139563</td>\n",
       "      <td>1.005394</td>\n",
       "      <td>...</td>\n",
       "      <td>0</td>\n",
       "      <td>0</td>\n",
       "      <td>0</td>\n",
       "      <td>1</td>\n",
       "      <td>1</td>\n",
       "      <td>0</td>\n",
       "      <td>0</td>\n",
       "      <td>0</td>\n",
       "      <td>0</td>\n",
       "      <td>0</td>\n",
       "    </tr>\n",
       "    <tr>\n",
       "      <th>1</th>\n",
       "      <td>29725</td>\n",
       "      <td>0</td>\n",
       "      <td>0</td>\n",
       "      <td>0</td>\n",
       "      <td>2</td>\n",
       "      <td>0.0</td>\n",
       "      <td>-0.573087</td>\n",
       "      <td>3.850148</td>\n",
       "      <td>0.140535</td>\n",
       "      <td>-1.251021</td>\n",
       "      <td>...</td>\n",
       "      <td>0</td>\n",
       "      <td>0</td>\n",
       "      <td>0</td>\n",
       "      <td>1</td>\n",
       "      <td>0</td>\n",
       "      <td>0</td>\n",
       "      <td>0</td>\n",
       "      <td>0</td>\n",
       "      <td>1</td>\n",
       "      <td>0</td>\n",
       "    </tr>\n",
       "    <tr>\n",
       "      <th>2</th>\n",
       "      <td>11561</td>\n",
       "      <td>0</td>\n",
       "      <td>0</td>\n",
       "      <td>2</td>\n",
       "      <td>2</td>\n",
       "      <td>0.0</td>\n",
       "      <td>0.900871</td>\n",
       "      <td>4.418841</td>\n",
       "      <td>0.737958</td>\n",
       "      <td>0.460074</td>\n",
       "      <td>...</td>\n",
       "      <td>0</td>\n",
       "      <td>0</td>\n",
       "      <td>0</td>\n",
       "      <td>1</td>\n",
       "      <td>0</td>\n",
       "      <td>0</td>\n",
       "      <td>0</td>\n",
       "      <td>0</td>\n",
       "      <td>0</td>\n",
       "      <td>1</td>\n",
       "    </tr>\n",
       "    <tr>\n",
       "      <th>4</th>\n",
       "      <td>666</td>\n",
       "      <td>0</td>\n",
       "      <td>1</td>\n",
       "      <td>0</td>\n",
       "      <td>3</td>\n",
       "      <td>0.0</td>\n",
       "      <td>-0.435975</td>\n",
       "      <td>2.079442</td>\n",
       "      <td>-1.719625</td>\n",
       "      <td>-1.091850</td>\n",
       "      <td>...</td>\n",
       "      <td>0</td>\n",
       "      <td>0</td>\n",
       "      <td>0</td>\n",
       "      <td>0</td>\n",
       "      <td>0</td>\n",
       "      <td>0</td>\n",
       "      <td>0</td>\n",
       "      <td>1</td>\n",
       "      <td>0</td>\n",
       "      <td>0</td>\n",
       "    </tr>\n",
       "    <tr>\n",
       "      <th>5</th>\n",
       "      <td>21651</td>\n",
       "      <td>0</td>\n",
       "      <td>1</td>\n",
       "      <td>1</td>\n",
       "      <td>2</td>\n",
       "      <td>1.0</td>\n",
       "      <td>0.500914</td>\n",
       "      <td>3.178054</td>\n",
       "      <td>-0.565512</td>\n",
       "      <td>-0.004230</td>\n",
       "      <td>...</td>\n",
       "      <td>0</td>\n",
       "      <td>0</td>\n",
       "      <td>0</td>\n",
       "      <td>1</td>\n",
       "      <td>1</td>\n",
       "      <td>0</td>\n",
       "      <td>0</td>\n",
       "      <td>0</td>\n",
       "      <td>0</td>\n",
       "      <td>0</td>\n",
       "    </tr>\n",
       "    <tr>\n",
       "      <th>...</th>\n",
       "      <td>...</td>\n",
       "      <td>...</td>\n",
       "      <td>...</td>\n",
       "      <td>...</td>\n",
       "      <td>...</td>\n",
       "      <td>...</td>\n",
       "      <td>...</td>\n",
       "      <td>...</td>\n",
       "      <td>...</td>\n",
       "      <td>...</td>\n",
       "      <td>...</td>\n",
       "      <td>...</td>\n",
       "      <td>...</td>\n",
       "      <td>...</td>\n",
       "      <td>...</td>\n",
       "      <td>...</td>\n",
       "      <td>...</td>\n",
       "      <td>...</td>\n",
       "      <td>...</td>\n",
       "      <td>...</td>\n",
       "      <td>...</td>\n",
       "    </tr>\n",
       "    <tr>\n",
       "      <th>19153</th>\n",
       "      <td>7386</td>\n",
       "      <td>0</td>\n",
       "      <td>0</td>\n",
       "      <td>0</td>\n",
       "      <td>2</td>\n",
       "      <td>1.0</td>\n",
       "      <td>0.932097</td>\n",
       "      <td>3.737670</td>\n",
       "      <td>0.022375</td>\n",
       "      <td>0.496324</td>\n",
       "      <td>...</td>\n",
       "      <td>0</td>\n",
       "      <td>0</td>\n",
       "      <td>0</td>\n",
       "      <td>1</td>\n",
       "      <td>1</td>\n",
       "      <td>0</td>\n",
       "      <td>0</td>\n",
       "      <td>0</td>\n",
       "      <td>0</td>\n",
       "      <td>0</td>\n",
       "    </tr>\n",
       "    <tr>\n",
       "      <th>19154</th>\n",
       "      <td>31398</td>\n",
       "      <td>0</td>\n",
       "      <td>1</td>\n",
       "      <td>0</td>\n",
       "      <td>2</td>\n",
       "      <td>1.0</td>\n",
       "      <td>0.838312</td>\n",
       "      <td>3.951244</td>\n",
       "      <td>0.246739</td>\n",
       "      <td>0.387450</td>\n",
       "      <td>...</td>\n",
       "      <td>0</td>\n",
       "      <td>0</td>\n",
       "      <td>0</td>\n",
       "      <td>1</td>\n",
       "      <td>0</td>\n",
       "      <td>0</td>\n",
       "      <td>0</td>\n",
       "      <td>1</td>\n",
       "      <td>0</td>\n",
       "      <td>0</td>\n",
       "    </tr>\n",
       "    <tr>\n",
       "      <th>19155</th>\n",
       "      <td>24576</td>\n",
       "      <td>0</td>\n",
       "      <td>1</td>\n",
       "      <td>0</td>\n",
       "      <td>2</td>\n",
       "      <td>0.0</td>\n",
       "      <td>-0.276882</td>\n",
       "      <td>3.784190</td>\n",
       "      <td>0.071245</td>\n",
       "      <td>-0.907162</td>\n",
       "      <td>...</td>\n",
       "      <td>0</td>\n",
       "      <td>0</td>\n",
       "      <td>0</td>\n",
       "      <td>1</td>\n",
       "      <td>0</td>\n",
       "      <td>0</td>\n",
       "      <td>0</td>\n",
       "      <td>1</td>\n",
       "      <td>0</td>\n",
       "      <td>0</td>\n",
       "    </tr>\n",
       "    <tr>\n",
       "      <th>19156</th>\n",
       "      <td>5756</td>\n",
       "      <td>0</td>\n",
       "      <td>1</td>\n",
       "      <td>0</td>\n",
       "      <td>1</td>\n",
       "      <td>0.0</td>\n",
       "      <td>2.459866</td>\n",
       "      <td>4.574711</td>\n",
       "      <td>0.901703</td>\n",
       "      <td>2.269887</td>\n",
       "      <td>...</td>\n",
       "      <td>0</td>\n",
       "      <td>0</td>\n",
       "      <td>0</td>\n",
       "      <td>1</td>\n",
       "      <td>0</td>\n",
       "      <td>1</td>\n",
       "      <td>0</td>\n",
       "      <td>0</td>\n",
       "      <td>0</td>\n",
       "      <td>0</td>\n",
       "    </tr>\n",
       "    <tr>\n",
       "      <th>19157</th>\n",
       "      <td>23834</td>\n",
       "      <td>0</td>\n",
       "      <td>0</td>\n",
       "      <td>0</td>\n",
       "      <td>0</td>\n",
       "      <td>0.0</td>\n",
       "      <td>0.326478</td>\n",
       "      <td>4.844187</td>\n",
       "      <td>1.184792</td>\n",
       "      <td>-0.206730</td>\n",
       "      <td>...</td>\n",
       "      <td>0</td>\n",
       "      <td>0</td>\n",
       "      <td>0</td>\n",
       "      <td>1</td>\n",
       "      <td>1</td>\n",
       "      <td>0</td>\n",
       "      <td>0</td>\n",
       "      <td>0</td>\n",
       "      <td>0</td>\n",
       "      <td>0</td>\n",
       "    </tr>\n",
       "  </tbody>\n",
       "</table>\n",
       "<p>17434 rows × 36 columns</p>\n",
       "</div>"
      ],
      "text/plain": [
       "       enrollee_id  gender  relevent_experience  enrolled_university  \\\n",
       "0             8949       0                    1                    0   \n",
       "1            29725       0                    0                    0   \n",
       "2            11561       0                    0                    2   \n",
       "4              666       0                    1                    0   \n",
       "5            21651       0                    1                    1   \n",
       "...            ...     ...                  ...                  ...   \n",
       "19153         7386       0                    0                    0   \n",
       "19154        31398       0                    1                    0   \n",
       "19155        24576       0                    1                    0   \n",
       "19156         5756       0                    1                    0   \n",
       "19157        23834       0                    0                    0   \n",
       "\n",
       "       education_level  target  skewnorm_city_development_index  \\\n",
       "0                    2     1.0                         1.370617   \n",
       "1                    2     0.0                        -0.573087   \n",
       "2                    2     0.0                         0.900871   \n",
       "4                    3     0.0                        -0.435975   \n",
       "5                    2     1.0                         0.500914   \n",
       "...                ...     ...                              ...   \n",
       "19153                2     1.0                         0.932097   \n",
       "19154                2     1.0                         0.838312   \n",
       "19155                2     0.0                        -0.276882   \n",
       "19156                1     0.0                         2.459866   \n",
       "19157                0     0.0                         0.326478   \n",
       "\n",
       "       log_training_hours  log_training_hours_std  \\\n",
       "0                3.583519               -0.139563   \n",
       "1                3.850148                0.140535   \n",
       "2                4.418841                0.737958   \n",
       "4                2.079442               -1.719625   \n",
       "5                3.178054               -0.565512   \n",
       "...                   ...                     ...   \n",
       "19153            3.737670                0.022375   \n",
       "19154            3.951244                0.246739   \n",
       "19155            3.784190                0.071245   \n",
       "19156            4.574711                0.901703   \n",
       "19157            4.844187                1.184792   \n",
       "\n",
       "       skewnorm_city_development_index_std  ...  company_type_NGO  \\\n",
       "0                                 1.005394  ...                 0   \n",
       "1                                -1.251021  ...                 0   \n",
       "2                                 0.460074  ...                 0   \n",
       "4                                -1.091850  ...                 0   \n",
       "5                                -0.004230  ...                 0   \n",
       "...                                    ...  ...               ...   \n",
       "19153                             0.496324  ...                 0   \n",
       "19154                             0.387450  ...                 0   \n",
       "19155                            -0.907162  ...                 0   \n",
       "19156                             2.269887  ...                 0   \n",
       "19157                            -0.206730  ...                 0   \n",
       "\n",
       "       company_type_Other  company_type_Public Sector  company_type_Pvt Ltd  \\\n",
       "0                       0                           0                     1   \n",
       "1                       0                           0                     1   \n",
       "2                       0                           0                     1   \n",
       "4                       0                           0                     0   \n",
       "5                       0                           0                     1   \n",
       "...                   ...                         ...                   ...   \n",
       "19153                   0                           0                     1   \n",
       "19154                   0                           0                     1   \n",
       "19155                   0                           0                     1   \n",
       "19156                   0                           0                     1   \n",
       "19157                   0                           0                     1   \n",
       "\n",
       "       last_new_job_1  last_new_job_2  last_new_job_3  last_new_job_4  \\\n",
       "0                   1               0               0               0   \n",
       "1                   0               0               0               0   \n",
       "2                   0               0               0               0   \n",
       "4                   0               0               0               1   \n",
       "5                   1               0               0               0   \n",
       "...               ...             ...             ...             ...   \n",
       "19153               1               0               0               0   \n",
       "19154               0               0               0               1   \n",
       "19155               0               0               0               1   \n",
       "19156               0               1               0               0   \n",
       "19157               1               0               0               0   \n",
       "\n",
       "       last_new_job_>4  last_new_job_never  \n",
       "0                    0                   0  \n",
       "1                    1                   0  \n",
       "2                    0                   1  \n",
       "4                    0                   0  \n",
       "5                    0                   0  \n",
       "...                ...                 ...  \n",
       "19153                0                   0  \n",
       "19154                0                   0  \n",
       "19155                0                   0  \n",
       "19156                0                   0  \n",
       "19157                0                   0  \n",
       "\n",
       "[17434 rows x 36 columns]"
      ]
     },
     "execution_count": 36,
     "metadata": {},
     "output_type": "execute_result"
    }
   ],
   "source": [
    "data_prep"
   ]
  },
  {
   "cell_type": "code",
   "execution_count": 37,
   "id": "99f63d24-6a6d-417b-87aa-4fd855d9c420",
   "metadata": {},
   "outputs": [
    {
     "name": "stdout",
     "output_type": "stream",
     "text": [
      "<class 'pandas.core.frame.DataFrame'>\n",
      "Int64Index: 17434 entries, 0 to 19157\n",
      "Data columns (total 36 columns):\n",
      " #   Column                               Non-Null Count  Dtype  \n",
      "---  ------                               --------------  -----  \n",
      " 0   enrollee_id                          17434 non-null  int64  \n",
      " 1   gender                               17434 non-null  int64  \n",
      " 2   relevent_experience                  17434 non-null  int64  \n",
      " 3   enrolled_university                  17434 non-null  int64  \n",
      " 4   education_level                      17434 non-null  int64  \n",
      " 5   target                               17434 non-null  float64\n",
      " 6   skewnorm_city_development_index      17434 non-null  float64\n",
      " 7   log_training_hours                   17434 non-null  float64\n",
      " 8   log_training_hours_std               17434 non-null  float64\n",
      " 9   skewnorm_city_development_index_std  17434 non-null  float64\n",
      " 10  major_discipline_Arts                17434 non-null  uint8  \n",
      " 11  major_discipline_Business Degree     17434 non-null  uint8  \n",
      " 12  major_discipline_Humanities          17434 non-null  uint8  \n",
      " 13  major_discipline_No Major            17434 non-null  uint8  \n",
      " 14  major_discipline_Other               17434 non-null  uint8  \n",
      " 15  major_discipline_STEM                17434 non-null  uint8  \n",
      " 16  company_size_10/49                   17434 non-null  uint8  \n",
      " 17  company_size_100-500                 17434 non-null  uint8  \n",
      " 18  company_size_1000-4999               17434 non-null  uint8  \n",
      " 19  company_size_10000+                  17434 non-null  uint8  \n",
      " 20  company_size_50-99                   17434 non-null  uint8  \n",
      " 21  company_size_500-999                 17434 non-null  uint8  \n",
      " 22  company_size_5000-9999               17434 non-null  uint8  \n",
      " 23  company_size_<10                     17434 non-null  uint8  \n",
      " 24  company_type_Early Stage Startup     17434 non-null  uint8  \n",
      " 25  company_type_Funded Startup          17434 non-null  uint8  \n",
      " 26  company_type_NGO                     17434 non-null  uint8  \n",
      " 27  company_type_Other                   17434 non-null  uint8  \n",
      " 28  company_type_Public Sector           17434 non-null  uint8  \n",
      " 29  company_type_Pvt Ltd                 17434 non-null  uint8  \n",
      " 30  last_new_job_1                       17434 non-null  uint8  \n",
      " 31  last_new_job_2                       17434 non-null  uint8  \n",
      " 32  last_new_job_3                       17434 non-null  uint8  \n",
      " 33  last_new_job_4                       17434 non-null  uint8  \n",
      " 34  last_new_job_>4                      17434 non-null  uint8  \n",
      " 35  last_new_job_never                   17434 non-null  uint8  \n",
      "dtypes: float64(5), int64(5), uint8(26)\n",
      "memory usage: 2.4 MB\n"
     ]
    }
   ],
   "source": [
    "data_prep.info()"
   ]
  },
  {
   "cell_type": "code",
   "execution_count": 38,
   "id": "c980dc33-6f97-4c09-804e-2a3b296b5790",
   "metadata": {},
   "outputs": [
    {
     "data": {
      "text/plain": [
       "0.0    13141\n",
       "1.0     4293\n",
       "Name: target, dtype: int64"
      ]
     },
     "execution_count": 38,
     "metadata": {},
     "output_type": "execute_result"
    }
   ],
   "source": [
    "data_prep['target'].value_counts()"
   ]
  },
  {
   "cell_type": "markdown",
   "id": "d882da17-4d91-4c84-8446-75e74802e8fb",
   "metadata": {
    "tags": []
   },
   "source": [
    "# Handle Class Imbalance"
   ]
  },
  {
   "cell_type": "code",
   "execution_count": 39,
   "id": "e5eaa126-3f6a-4868-90bf-48d77f578e4e",
   "metadata": {},
   "outputs": [
    {
     "data": {
      "text/plain": [
       "False    13141\n",
       "True      4293\n",
       "Name: target_class, dtype: int64"
      ]
     },
     "execution_count": 39,
     "metadata": {},
     "output_type": "execute_result"
    }
   ],
   "source": [
    "# pembuatan binary label target\n",
    "data_prep['target_class'] = data_prep['target'] > 0.8\n",
    "data_prep['target_class'].value_counts()"
   ]
  },
  {
   "cell_type": "code",
   "execution_count": 40,
   "id": "66efda2e-b1a9-44e0-b2b8-a190d0fb65cb",
   "metadata": {},
   "outputs": [
    {
     "name": "stdout",
     "output_type": "stream",
     "text": [
      "(17434, 35)\n",
      "(17434,)\n"
     ]
    }
   ],
   "source": [
    "# pemisahan features vs target\n",
    "X = data_prep[[col for col in data_prep.columns if (str(data_prep[col].dtype) != 'object') and col not in ['target', 'target_class']]]\n",
    "y = data_prep['target_class'].values\n",
    "print(X.shape)\n",
    "print(y.shape)"
   ]
  },
  {
   "cell_type": "code",
   "execution_count": 41,
   "id": "4ee58cf8-1c85-40e5-b904-eeff4d8c316d",
   "metadata": {},
   "outputs": [],
   "source": [
    "from imblearn import under_sampling, over_sampling\n",
    "X_under, y_under = under_sampling.RandomUnderSampler(0.5).fit_resample(X, y)\n",
    "X_over, y_over = over_sampling.RandomOverSampler(0.5).fit_resample(X, y)\n",
    "X_over_SMOTE, y_over_SMOTE = over_sampling.SMOTE(0.5).fit_resample(X, y)"
   ]
  },
  {
   "cell_type": "code",
   "execution_count": 42,
   "id": "3b6430f7-c5e6-4fd7-b620-e419243ad2ba",
   "metadata": {},
   "outputs": [
    {
     "name": "stdout",
     "output_type": "stream",
     "text": [
      "Original\n",
      "False    13141\n",
      "True      4293\n",
      "dtype: int64\n",
      "\n",
      "\n",
      "UNDERSAMPLING\n",
      "False    8586\n",
      "True     4293\n",
      "dtype: int64\n",
      "\n",
      "\n",
      "OVERSAMPLING\n",
      "False    13141\n",
      "True      6570\n",
      "dtype: int64\n",
      "\n",
      "\n",
      "SMOTE\n",
      "False    13141\n",
      "True      6570\n",
      "dtype: int64\n"
     ]
    }
   ],
   "source": [
    "print('Original')\n",
    "print(pd.Series(y).value_counts())\n",
    "print('\\n')\n",
    "print('UNDERSAMPLING')\n",
    "print(pd.Series(y_under).value_counts())\n",
    "print('\\n')\n",
    "print('OVERSAMPLING')\n",
    "print(pd.Series(y_over).value_counts())\n",
    "print('\\n')\n",
    "print('SMOTE')\n",
    "print(pd.Series(y_over_SMOTE).value_counts())"
   ]
  },
  {
   "cell_type": "markdown",
   "id": "17013475-ba5c-4f36-89cc-e2ba08b95238",
   "metadata": {},
   "source": [
    "# HW 3"
   ]
  },
  {
   "cell_type": "code",
   "execution_count": 43,
   "id": "9a216652-7912-43f5-ba47-79f72bd035b8",
   "metadata": {},
   "outputs": [],
   "source": [
    "from sklearn.metrics import accuracy_score, precision_score, recall_score, f1_score\n",
    "from sklearn.metrics import roc_curve, auc\n",
    "\n",
    "def eval_classification(model, pred, xtrain, ytrain, xtest, ytest):\n",
    "    print(\"Accuracy (Test Set): %.2f\" % accuracy_score(ytest, pred))\n",
    "    print(\"Precision (Test Set): %.2f\" % precision_score(ytest, pred))\n",
    "    print(\"Recall (Test Set): %.2f\" % recall_score(ytest, pred))\n",
    "    print(\"F1-Score (Test Set): %.2f\" % f1_score(ytest, pred))\n",
    "    \n",
    "    fpr, tpr, thresholds = roc_curve(ytest, pred, pos_label=1) # pos_label: label yang kita anggap positive\n",
    "    print(\"AUC: %.2f\" % auc(fpr, tpr))\n",
    "\n",
    "def show_feature_importance(model):\n",
    "    feat_importances = pd.Series(model.feature_importances_, index=x.columns)\n",
    "    ax = feat_importances.nlargest(25).plot(kind='barh', figsize=(10, 8))\n",
    "    ax.invert_yaxis()\n",
    "\n",
    "    plt.xlabel('score')\n",
    "    plt.ylabel('feature')\n",
    "    plt.title('feature importance score')\n",
    "\n",
    "def show_best_hyperparameter(model, hyperparameters):\n",
    "    for key, value in hyperparameters.items() :\n",
    "        print('Best '+key+':', model.get_params()[key])"
   ]
  },
  {
   "cell_type": "code",
   "execution_count": 44,
   "id": "b98dd6d2-cb8d-4342-a1b3-d887dedffaca",
   "metadata": {},
   "outputs": [],
   "source": [
    "from sklearn.metrics import accuracy_score, precision_score, recall_score, f1_score\n",
    "from sklearn.metrics import roc_curve, auc\n",
    "\n",
    "def eval_classification(model, pred, xtrain, ytrain, xtest, ytest):\n",
    "    print(\"Accuracy (Test Set): %.2f\" % accuracy_score(ytest, pred))\n",
    "    print(\"Precision (Test Set): %.2f\" % precision_score(ytest, pred))\n",
    "    print(\"Recall (Test Set): %.2f\" % recall_score(ytest, pred))\n",
    "    print(\"F1-Score (Test Set): %.2f\" % f1_score(ytest, pred))\n",
    "    \n",
    "    fpr, tpr, thresholds = roc_curve(ytest, pred, pos_label=1) # pos_label: label yang kita anggap positive\n",
    "    print(\"AUC: %.2f\" % auc(fpr, tpr))"
   ]
  },
  {
   "cell_type": "markdown",
   "id": "894073bd-8bf2-40da-b2b3-6943df7b7e0a",
   "metadata": {
    "tags": []
   },
   "source": [
    "## Split test and train"
   ]
  },
  {
   "cell_type": "code",
   "execution_count": 45,
   "id": "2fdcfa3a-1969-4dba-90a5-cfff26831e8d",
   "metadata": {},
   "outputs": [
    {
     "name": "stdout",
     "output_type": "stream",
     "text": [
      "<class 'pandas.core.frame.DataFrame'>\n",
      "Int64Index: 17434 entries, 0 to 19157\n",
      "Data columns (total 37 columns):\n",
      " #   Column                               Non-Null Count  Dtype  \n",
      "---  ------                               --------------  -----  \n",
      " 0   enrollee_id                          17434 non-null  int64  \n",
      " 1   gender                               17434 non-null  int64  \n",
      " 2   relevent_experience                  17434 non-null  int64  \n",
      " 3   enrolled_university                  17434 non-null  int64  \n",
      " 4   education_level                      17434 non-null  int64  \n",
      " 5   target                               17434 non-null  float64\n",
      " 6   skewnorm_city_development_index      17434 non-null  float64\n",
      " 7   log_training_hours                   17434 non-null  float64\n",
      " 8   log_training_hours_std               17434 non-null  float64\n",
      " 9   skewnorm_city_development_index_std  17434 non-null  float64\n",
      " 10  major_discipline_Arts                17434 non-null  uint8  \n",
      " 11  major_discipline_Business Degree     17434 non-null  uint8  \n",
      " 12  major_discipline_Humanities          17434 non-null  uint8  \n",
      " 13  major_discipline_No Major            17434 non-null  uint8  \n",
      " 14  major_discipline_Other               17434 non-null  uint8  \n",
      " 15  major_discipline_STEM                17434 non-null  uint8  \n",
      " 16  company_size_10/49                   17434 non-null  uint8  \n",
      " 17  company_size_100-500                 17434 non-null  uint8  \n",
      " 18  company_size_1000-4999               17434 non-null  uint8  \n",
      " 19  company_size_10000+                  17434 non-null  uint8  \n",
      " 20  company_size_50-99                   17434 non-null  uint8  \n",
      " 21  company_size_500-999                 17434 non-null  uint8  \n",
      " 22  company_size_5000-9999               17434 non-null  uint8  \n",
      " 23  company_size_<10                     17434 non-null  uint8  \n",
      " 24  company_type_Early Stage Startup     17434 non-null  uint8  \n",
      " 25  company_type_Funded Startup          17434 non-null  uint8  \n",
      " 26  company_type_NGO                     17434 non-null  uint8  \n",
      " 27  company_type_Other                   17434 non-null  uint8  \n",
      " 28  company_type_Public Sector           17434 non-null  uint8  \n",
      " 29  company_type_Pvt Ltd                 17434 non-null  uint8  \n",
      " 30  last_new_job_1                       17434 non-null  uint8  \n",
      " 31  last_new_job_2                       17434 non-null  uint8  \n",
      " 32  last_new_job_3                       17434 non-null  uint8  \n",
      " 33  last_new_job_4                       17434 non-null  uint8  \n",
      " 34  last_new_job_>4                      17434 non-null  uint8  \n",
      " 35  last_new_job_never                   17434 non-null  uint8  \n",
      " 36  target_class                         17434 non-null  bool   \n",
      "dtypes: bool(1), float64(5), int64(5), uint8(26)\n",
      "memory usage: 2.4 MB\n"
     ]
    }
   ],
   "source": [
    "data_prep.info()"
   ]
  },
  {
   "cell_type": "code",
   "execution_count": 46,
   "id": "3c1a6984-5f50-42fa-9d75-415f52500601",
   "metadata": {},
   "outputs": [],
   "source": [
    "x = data_prep.drop(columns=['target','enrollee_id', 'skewnorm_city_development_index','log_training_hours', 'target_class'])\n",
    "y = data_prep['target']"
   ]
  },
  {
   "cell_type": "code",
   "execution_count": 47,
   "id": "4e2800cf-8253-47a1-9b35-b5f85044da12",
   "metadata": {},
   "outputs": [
    {
     "data": {
      "text/html": [
       "<div>\n",
       "<style scoped>\n",
       "    .dataframe tbody tr th:only-of-type {\n",
       "        vertical-align: middle;\n",
       "    }\n",
       "\n",
       "    .dataframe tbody tr th {\n",
       "        vertical-align: top;\n",
       "    }\n",
       "\n",
       "    .dataframe thead th {\n",
       "        text-align: right;\n",
       "    }\n",
       "</style>\n",
       "<table border=\"1\" class=\"dataframe\">\n",
       "  <thead>\n",
       "    <tr style=\"text-align: right;\">\n",
       "      <th></th>\n",
       "      <th>gender</th>\n",
       "      <th>relevent_experience</th>\n",
       "      <th>enrolled_university</th>\n",
       "      <th>education_level</th>\n",
       "      <th>log_training_hours_std</th>\n",
       "      <th>skewnorm_city_development_index_std</th>\n",
       "      <th>major_discipline_Arts</th>\n",
       "      <th>major_discipline_Business Degree</th>\n",
       "      <th>major_discipline_Humanities</th>\n",
       "      <th>major_discipline_No Major</th>\n",
       "      <th>...</th>\n",
       "      <th>company_type_NGO</th>\n",
       "      <th>company_type_Other</th>\n",
       "      <th>company_type_Public Sector</th>\n",
       "      <th>company_type_Pvt Ltd</th>\n",
       "      <th>last_new_job_1</th>\n",
       "      <th>last_new_job_2</th>\n",
       "      <th>last_new_job_3</th>\n",
       "      <th>last_new_job_4</th>\n",
       "      <th>last_new_job_&gt;4</th>\n",
       "      <th>last_new_job_never</th>\n",
       "    </tr>\n",
       "  </thead>\n",
       "  <tbody>\n",
       "    <tr>\n",
       "      <th>0</th>\n",
       "      <td>0</td>\n",
       "      <td>1</td>\n",
       "      <td>0</td>\n",
       "      <td>2</td>\n",
       "      <td>-0.139563</td>\n",
       "      <td>1.005394</td>\n",
       "      <td>0</td>\n",
       "      <td>0</td>\n",
       "      <td>0</td>\n",
       "      <td>0</td>\n",
       "      <td>...</td>\n",
       "      <td>0</td>\n",
       "      <td>0</td>\n",
       "      <td>0</td>\n",
       "      <td>1</td>\n",
       "      <td>1</td>\n",
       "      <td>0</td>\n",
       "      <td>0</td>\n",
       "      <td>0</td>\n",
       "      <td>0</td>\n",
       "      <td>0</td>\n",
       "    </tr>\n",
       "    <tr>\n",
       "      <th>1</th>\n",
       "      <td>0</td>\n",
       "      <td>0</td>\n",
       "      <td>0</td>\n",
       "      <td>2</td>\n",
       "      <td>0.140535</td>\n",
       "      <td>-1.251021</td>\n",
       "      <td>0</td>\n",
       "      <td>0</td>\n",
       "      <td>0</td>\n",
       "      <td>0</td>\n",
       "      <td>...</td>\n",
       "      <td>0</td>\n",
       "      <td>0</td>\n",
       "      <td>0</td>\n",
       "      <td>1</td>\n",
       "      <td>0</td>\n",
       "      <td>0</td>\n",
       "      <td>0</td>\n",
       "      <td>0</td>\n",
       "      <td>1</td>\n",
       "      <td>0</td>\n",
       "    </tr>\n",
       "    <tr>\n",
       "      <th>2</th>\n",
       "      <td>0</td>\n",
       "      <td>0</td>\n",
       "      <td>2</td>\n",
       "      <td>2</td>\n",
       "      <td>0.737958</td>\n",
       "      <td>0.460074</td>\n",
       "      <td>0</td>\n",
       "      <td>0</td>\n",
       "      <td>0</td>\n",
       "      <td>0</td>\n",
       "      <td>...</td>\n",
       "      <td>0</td>\n",
       "      <td>0</td>\n",
       "      <td>0</td>\n",
       "      <td>1</td>\n",
       "      <td>0</td>\n",
       "      <td>0</td>\n",
       "      <td>0</td>\n",
       "      <td>0</td>\n",
       "      <td>0</td>\n",
       "      <td>1</td>\n",
       "    </tr>\n",
       "    <tr>\n",
       "      <th>4</th>\n",
       "      <td>0</td>\n",
       "      <td>1</td>\n",
       "      <td>0</td>\n",
       "      <td>3</td>\n",
       "      <td>-1.719625</td>\n",
       "      <td>-1.091850</td>\n",
       "      <td>0</td>\n",
       "      <td>0</td>\n",
       "      <td>0</td>\n",
       "      <td>0</td>\n",
       "      <td>...</td>\n",
       "      <td>0</td>\n",
       "      <td>0</td>\n",
       "      <td>0</td>\n",
       "      <td>0</td>\n",
       "      <td>0</td>\n",
       "      <td>0</td>\n",
       "      <td>0</td>\n",
       "      <td>1</td>\n",
       "      <td>0</td>\n",
       "      <td>0</td>\n",
       "    </tr>\n",
       "    <tr>\n",
       "      <th>5</th>\n",
       "      <td>0</td>\n",
       "      <td>1</td>\n",
       "      <td>1</td>\n",
       "      <td>2</td>\n",
       "      <td>-0.565512</td>\n",
       "      <td>-0.004230</td>\n",
       "      <td>0</td>\n",
       "      <td>0</td>\n",
       "      <td>0</td>\n",
       "      <td>0</td>\n",
       "      <td>...</td>\n",
       "      <td>0</td>\n",
       "      <td>0</td>\n",
       "      <td>0</td>\n",
       "      <td>1</td>\n",
       "      <td>1</td>\n",
       "      <td>0</td>\n",
       "      <td>0</td>\n",
       "      <td>0</td>\n",
       "      <td>0</td>\n",
       "      <td>0</td>\n",
       "    </tr>\n",
       "  </tbody>\n",
       "</table>\n",
       "<p>5 rows × 32 columns</p>\n",
       "</div>"
      ],
      "text/plain": [
       "   gender  relevent_experience  enrolled_university  education_level  \\\n",
       "0       0                    1                    0                2   \n",
       "1       0                    0                    0                2   \n",
       "2       0                    0                    2                2   \n",
       "4       0                    1                    0                3   \n",
       "5       0                    1                    1                2   \n",
       "\n",
       "   log_training_hours_std  skewnorm_city_development_index_std  \\\n",
       "0               -0.139563                             1.005394   \n",
       "1                0.140535                            -1.251021   \n",
       "2                0.737958                             0.460074   \n",
       "4               -1.719625                            -1.091850   \n",
       "5               -0.565512                            -0.004230   \n",
       "\n",
       "   major_discipline_Arts  major_discipline_Business Degree  \\\n",
       "0                      0                                 0   \n",
       "1                      0                                 0   \n",
       "2                      0                                 0   \n",
       "4                      0                                 0   \n",
       "5                      0                                 0   \n",
       "\n",
       "   major_discipline_Humanities  major_discipline_No Major  ...  \\\n",
       "0                            0                          0  ...   \n",
       "1                            0                          0  ...   \n",
       "2                            0                          0  ...   \n",
       "4                            0                          0  ...   \n",
       "5                            0                          0  ...   \n",
       "\n",
       "   company_type_NGO  company_type_Other  company_type_Public Sector  \\\n",
       "0                 0                   0                           0   \n",
       "1                 0                   0                           0   \n",
       "2                 0                   0                           0   \n",
       "4                 0                   0                           0   \n",
       "5                 0                   0                           0   \n",
       "\n",
       "   company_type_Pvt Ltd  last_new_job_1  last_new_job_2  last_new_job_3  \\\n",
       "0                     1               1               0               0   \n",
       "1                     1               0               0               0   \n",
       "2                     1               0               0               0   \n",
       "4                     0               0               0               0   \n",
       "5                     1               1               0               0   \n",
       "\n",
       "   last_new_job_4  last_new_job_>4  last_new_job_never  \n",
       "0               0                0                   0  \n",
       "1               0                1                   0  \n",
       "2               0                0                   1  \n",
       "4               1                0                   0  \n",
       "5               0                0                   0  \n",
       "\n",
       "[5 rows x 32 columns]"
      ]
     },
     "execution_count": 47,
     "metadata": {},
     "output_type": "execute_result"
    }
   ],
   "source": [
    "x.head()"
   ]
  },
  {
   "cell_type": "markdown",
   "id": "51249c76-dbc4-4c7c-9211-533fa37a1e0e",
   "metadata": {
    "tags": []
   },
   "source": [
    "## Evaluation Reg Linear"
   ]
  },
  {
   "cell_type": "code",
   "execution_count": 48,
   "id": "1f922854-53c0-416c-9e0d-5158fd436e94",
   "metadata": {},
   "outputs": [],
   "source": [
    "from sklearn.model_selection import train_test_split\n",
    "xtrain, xtest, ytrain, ytest = train_test_split(x,y,test_size=1/3, random_state=42)"
   ]
  },
  {
   "cell_type": "code",
   "execution_count": 49,
   "id": "9dc0e42d-cc01-4c2b-b0ab-4719e497fc5d",
   "metadata": {},
   "outputs": [],
   "source": [
    "from sklearn.linear_model import LinearRegression\n",
    "from sklearn.metrics import mean_squared_error, r2_score"
   ]
  },
  {
   "cell_type": "code",
   "execution_count": 50,
   "id": "f4c293f3-8228-4047-a37a-3205f0e18a42",
   "metadata": {},
   "outputs": [
    {
     "data": {
      "text/plain": [
       "LinearRegression()"
      ]
     },
     "execution_count": 50,
     "metadata": {},
     "output_type": "execute_result"
    }
   ],
   "source": [
    "\n",
    "\n",
    "model = LinearRegression() #inisiasi model\n",
    "model.fit(xtrain, ytrain) #fit model, dari garis lurus menjadi miring hingga jaraknya minimum antara titik dan garis"
   ]
  },
  {
   "cell_type": "code",
   "execution_count": 51,
   "id": "a7dae752-9ef8-404f-ae30-4e667cc2c79a",
   "metadata": {},
   "outputs": [],
   "source": [
    "y_pred = model.predict(xtest)"
   ]
  },
  {
   "cell_type": "code",
   "execution_count": 52,
   "id": "fb9d86d7-fd41-4c62-8690-0d8cc82aa61f",
   "metadata": {},
   "outputs": [
    {
     "data": {
      "text/plain": [
       "array([0.42736816, 0.18798828, 0.27716064, ..., 0.38104248, 0.17077637,\n",
       "       0.14477539])"
      ]
     },
     "execution_count": 52,
     "metadata": {},
     "output_type": "execute_result"
    }
   ],
   "source": [
    "y_pred"
   ]
  },
  {
   "cell_type": "code",
   "execution_count": 53,
   "id": "2c623c97-f0f7-4c32-ad3a-ebf89f9c59f1",
   "metadata": {},
   "outputs": [
    {
     "data": {
      "text/plain": [
       "0.05470749503875638"
      ]
     },
     "execution_count": 53,
     "metadata": {},
     "output_type": "execute_result"
    }
   ],
   "source": [
    "#r-squared\n",
    "r2_score(ytest,y_pred)"
   ]
  },
  {
   "cell_type": "code",
   "execution_count": 54,
   "id": "82ca96ea-81c7-4ec1-b525-ad47f18afc92",
   "metadata": {},
   "outputs": [
    {
     "data": {
      "text/plain": [
       "0.4213872172360953"
      ]
     },
     "execution_count": 54,
     "metadata": {},
     "output_type": "execute_result"
    }
   ],
   "source": [
    "#rmse \n",
    "mean_squared_error(ytest,y_pred, squared=False)"
   ]
  },
  {
   "cell_type": "code",
   "execution_count": 55,
   "id": "c5f866d2-bac7-491b-832f-d3434c0d4985",
   "metadata": {
    "scrolled": true,
    "tags": []
   },
   "outputs": [
    {
     "data": {
      "text/plain": [
       "array([ 2.78539102e-02, -6.07320168e-02,  5.52196935e-02,  3.05436877e-02,\n",
       "       -3.77867044e-03, -1.87644289e-02, -1.82076200e+11, -1.82076200e+11,\n",
       "       -1.82076200e+11, -1.82076200e+11, -1.82076200e+11, -1.82076200e+11,\n",
       "        1.14651093e+11,  1.14651093e+11,  1.14651093e+11,  1.14651093e+11,\n",
       "        1.14651093e+11,  1.14651093e+11,  1.14651093e+11,  1.14651093e+11,\n",
       "       -1.58610829e+10, -1.58610829e+10, -1.58610829e+10, -1.58610829e+10,\n",
       "       -1.58610829e+10, -1.58610829e+10, -1.98924956e+11, -1.98924956e+11,\n",
       "       -1.98924956e+11, -1.98924956e+11, -1.98924956e+11, -1.98924956e+11])"
      ]
     },
     "execution_count": 55,
     "metadata": {},
     "output_type": "execute_result"
    }
   ],
   "source": [
    "model.coef_"
   ]
  },
  {
   "cell_type": "code",
   "execution_count": 56,
   "id": "02037b02-39da-4a30-bfe5-2810ce8ef62b",
   "metadata": {
    "scrolled": true,
    "tags": []
   },
   "outputs": [
    {
     "data": {
      "text/plain": [
       "Index(['gender', 'relevent_experience', 'enrolled_university',\n",
       "       'education_level', 'log_training_hours_std',\n",
       "       'skewnorm_city_development_index_std', 'major_discipline_Arts',\n",
       "       'major_discipline_Business Degree', 'major_discipline_Humanities',\n",
       "       'major_discipline_No Major', 'major_discipline_Other',\n",
       "       'major_discipline_STEM', 'company_size_10/49', 'company_size_100-500',\n",
       "       'company_size_1000-4999', 'company_size_10000+', 'company_size_50-99',\n",
       "       'company_size_500-999', 'company_size_5000-9999', 'company_size_<10',\n",
       "       'company_type_Early Stage Startup', 'company_type_Funded Startup',\n",
       "       'company_type_NGO', 'company_type_Other', 'company_type_Public Sector',\n",
       "       'company_type_Pvt Ltd', 'last_new_job_1', 'last_new_job_2',\n",
       "       'last_new_job_3', 'last_new_job_4', 'last_new_job_>4',\n",
       "       'last_new_job_never'],\n",
       "      dtype='object')"
      ]
     },
     "execution_count": 56,
     "metadata": {},
     "output_type": "execute_result"
    }
   ],
   "source": [
    "x.columns"
   ]
  },
  {
   "cell_type": "code",
   "execution_count": 57,
   "id": "851e45a9-50f9-4ccb-a9c9-4c80652c3535",
   "metadata": {},
   "outputs": [],
   "source": [
    "feat_imp = pd.DataFrame(model.coef_, columns = ['Importances']).join(pd.DataFrame(xtrain.columns,columns = ['Features']))"
   ]
  },
  {
   "cell_type": "code",
   "execution_count": 58,
   "id": "06b89d88-9a52-4753-90e2-583684e84747",
   "metadata": {
    "scrolled": true,
    "tags": []
   },
   "outputs": [
    {
     "data": {
      "text/html": [
       "<div>\n",
       "<style scoped>\n",
       "    .dataframe tbody tr th:only-of-type {\n",
       "        vertical-align: middle;\n",
       "    }\n",
       "\n",
       "    .dataframe tbody tr th {\n",
       "        vertical-align: top;\n",
       "    }\n",
       "\n",
       "    .dataframe thead th {\n",
       "        text-align: right;\n",
       "    }\n",
       "</style>\n",
       "<table border=\"1\" class=\"dataframe\">\n",
       "  <thead>\n",
       "    <tr style=\"text-align: right;\">\n",
       "      <th></th>\n",
       "      <th>Importances</th>\n",
       "      <th>Features</th>\n",
       "    </tr>\n",
       "  </thead>\n",
       "  <tbody>\n",
       "    <tr>\n",
       "      <th>16</th>\n",
       "      <td>1.146511e+11</td>\n",
       "      <td>company_size_50-99</td>\n",
       "    </tr>\n",
       "    <tr>\n",
       "      <th>12</th>\n",
       "      <td>1.146511e+11</td>\n",
       "      <td>company_size_10/49</td>\n",
       "    </tr>\n",
       "    <tr>\n",
       "      <th>18</th>\n",
       "      <td>1.146511e+11</td>\n",
       "      <td>company_size_5000-9999</td>\n",
       "    </tr>\n",
       "    <tr>\n",
       "      <th>19</th>\n",
       "      <td>1.146511e+11</td>\n",
       "      <td>company_size_&lt;10</td>\n",
       "    </tr>\n",
       "    <tr>\n",
       "      <th>17</th>\n",
       "      <td>1.146511e+11</td>\n",
       "      <td>company_size_500-999</td>\n",
       "    </tr>\n",
       "    <tr>\n",
       "      <th>15</th>\n",
       "      <td>1.146511e+11</td>\n",
       "      <td>company_size_10000+</td>\n",
       "    </tr>\n",
       "    <tr>\n",
       "      <th>13</th>\n",
       "      <td>1.146511e+11</td>\n",
       "      <td>company_size_100-500</td>\n",
       "    </tr>\n",
       "    <tr>\n",
       "      <th>14</th>\n",
       "      <td>1.146511e+11</td>\n",
       "      <td>company_size_1000-4999</td>\n",
       "    </tr>\n",
       "    <tr>\n",
       "      <th>2</th>\n",
       "      <td>5.521969e-02</td>\n",
       "      <td>enrolled_university</td>\n",
       "    </tr>\n",
       "    <tr>\n",
       "      <th>3</th>\n",
       "      <td>3.054369e-02</td>\n",
       "      <td>education_level</td>\n",
       "    </tr>\n",
       "    <tr>\n",
       "      <th>0</th>\n",
       "      <td>2.785391e-02</td>\n",
       "      <td>gender</td>\n",
       "    </tr>\n",
       "    <tr>\n",
       "      <th>4</th>\n",
       "      <td>-3.778670e-03</td>\n",
       "      <td>log_training_hours_std</td>\n",
       "    </tr>\n",
       "    <tr>\n",
       "      <th>5</th>\n",
       "      <td>-1.876443e-02</td>\n",
       "      <td>skewnorm_city_development_index_std</td>\n",
       "    </tr>\n",
       "    <tr>\n",
       "      <th>1</th>\n",
       "      <td>-6.073202e-02</td>\n",
       "      <td>relevent_experience</td>\n",
       "    </tr>\n",
       "    <tr>\n",
       "      <th>23</th>\n",
       "      <td>-1.586108e+10</td>\n",
       "      <td>company_type_Other</td>\n",
       "    </tr>\n",
       "    <tr>\n",
       "      <th>25</th>\n",
       "      <td>-1.586108e+10</td>\n",
       "      <td>company_type_Pvt Ltd</td>\n",
       "    </tr>\n",
       "    <tr>\n",
       "      <th>20</th>\n",
       "      <td>-1.586108e+10</td>\n",
       "      <td>company_type_Early Stage Startup</td>\n",
       "    </tr>\n",
       "    <tr>\n",
       "      <th>24</th>\n",
       "      <td>-1.586108e+10</td>\n",
       "      <td>company_type_Public Sector</td>\n",
       "    </tr>\n",
       "    <tr>\n",
       "      <th>22</th>\n",
       "      <td>-1.586108e+10</td>\n",
       "      <td>company_type_NGO</td>\n",
       "    </tr>\n",
       "    <tr>\n",
       "      <th>21</th>\n",
       "      <td>-1.586108e+10</td>\n",
       "      <td>company_type_Funded Startup</td>\n",
       "    </tr>\n",
       "    <tr>\n",
       "      <th>7</th>\n",
       "      <td>-1.820762e+11</td>\n",
       "      <td>major_discipline_Business Degree</td>\n",
       "    </tr>\n",
       "    <tr>\n",
       "      <th>9</th>\n",
       "      <td>-1.820762e+11</td>\n",
       "      <td>major_discipline_No Major</td>\n",
       "    </tr>\n",
       "    <tr>\n",
       "      <th>11</th>\n",
       "      <td>-1.820762e+11</td>\n",
       "      <td>major_discipline_STEM</td>\n",
       "    </tr>\n",
       "    <tr>\n",
       "      <th>10</th>\n",
       "      <td>-1.820762e+11</td>\n",
       "      <td>major_discipline_Other</td>\n",
       "    </tr>\n",
       "    <tr>\n",
       "      <th>6</th>\n",
       "      <td>-1.820762e+11</td>\n",
       "      <td>major_discipline_Arts</td>\n",
       "    </tr>\n",
       "    <tr>\n",
       "      <th>8</th>\n",
       "      <td>-1.820762e+11</td>\n",
       "      <td>major_discipline_Humanities</td>\n",
       "    </tr>\n",
       "    <tr>\n",
       "      <th>26</th>\n",
       "      <td>-1.989250e+11</td>\n",
       "      <td>last_new_job_1</td>\n",
       "    </tr>\n",
       "    <tr>\n",
       "      <th>28</th>\n",
       "      <td>-1.989250e+11</td>\n",
       "      <td>last_new_job_3</td>\n",
       "    </tr>\n",
       "    <tr>\n",
       "      <th>27</th>\n",
       "      <td>-1.989250e+11</td>\n",
       "      <td>last_new_job_2</td>\n",
       "    </tr>\n",
       "    <tr>\n",
       "      <th>29</th>\n",
       "      <td>-1.989250e+11</td>\n",
       "      <td>last_new_job_4</td>\n",
       "    </tr>\n",
       "    <tr>\n",
       "      <th>31</th>\n",
       "      <td>-1.989250e+11</td>\n",
       "      <td>last_new_job_never</td>\n",
       "    </tr>\n",
       "    <tr>\n",
       "      <th>30</th>\n",
       "      <td>-1.989250e+11</td>\n",
       "      <td>last_new_job_&gt;4</td>\n",
       "    </tr>\n",
       "  </tbody>\n",
       "</table>\n",
       "</div>"
      ],
      "text/plain": [
       "     Importances                             Features\n",
       "16  1.146511e+11                   company_size_50-99\n",
       "12  1.146511e+11                   company_size_10/49\n",
       "18  1.146511e+11               company_size_5000-9999\n",
       "19  1.146511e+11                     company_size_<10\n",
       "17  1.146511e+11                 company_size_500-999\n",
       "15  1.146511e+11                  company_size_10000+\n",
       "13  1.146511e+11                 company_size_100-500\n",
       "14  1.146511e+11               company_size_1000-4999\n",
       "2   5.521969e-02                  enrolled_university\n",
       "3   3.054369e-02                      education_level\n",
       "0   2.785391e-02                               gender\n",
       "4  -3.778670e-03               log_training_hours_std\n",
       "5  -1.876443e-02  skewnorm_city_development_index_std\n",
       "1  -6.073202e-02                  relevent_experience\n",
       "23 -1.586108e+10                   company_type_Other\n",
       "25 -1.586108e+10                 company_type_Pvt Ltd\n",
       "20 -1.586108e+10     company_type_Early Stage Startup\n",
       "24 -1.586108e+10           company_type_Public Sector\n",
       "22 -1.586108e+10                     company_type_NGO\n",
       "21 -1.586108e+10          company_type_Funded Startup\n",
       "7  -1.820762e+11     major_discipline_Business Degree\n",
       "9  -1.820762e+11            major_discipline_No Major\n",
       "11 -1.820762e+11                major_discipline_STEM\n",
       "10 -1.820762e+11               major_discipline_Other\n",
       "6  -1.820762e+11                major_discipline_Arts\n",
       "8  -1.820762e+11          major_discipline_Humanities\n",
       "26 -1.989250e+11                       last_new_job_1\n",
       "28 -1.989250e+11                       last_new_job_3\n",
       "27 -1.989250e+11                       last_new_job_2\n",
       "29 -1.989250e+11                       last_new_job_4\n",
       "31 -1.989250e+11                   last_new_job_never\n",
       "30 -1.989250e+11                      last_new_job_>4"
      ]
     },
     "execution_count": 58,
     "metadata": {},
     "output_type": "execute_result"
    }
   ],
   "source": [
    "feat_imp.sort_values(by='Importances', ascending = False)"
   ]
  },
  {
   "cell_type": "code",
   "execution_count": 59,
   "id": "1dc23bfd-09c9-4ca0-bc0d-9655b2660a36",
   "metadata": {},
   "outputs": [],
   "source": [
    "correlation = pd.DataFrame(data.corr().target.sort_values(ascending = False)).reset_index()"
   ]
  },
  {
   "cell_type": "code",
   "execution_count": 60,
   "id": "de3dd293-fe7f-441c-9661-46cfdf8bb85d",
   "metadata": {
    "scrolled": true,
    "tags": []
   },
   "outputs": [
    {
     "data": {
      "text/html": [
       "<div>\n",
       "<style scoped>\n",
       "    .dataframe tbody tr th:only-of-type {\n",
       "        vertical-align: middle;\n",
       "    }\n",
       "\n",
       "    .dataframe tbody tr th {\n",
       "        vertical-align: top;\n",
       "    }\n",
       "\n",
       "    .dataframe thead th {\n",
       "        text-align: right;\n",
       "    }\n",
       "</style>\n",
       "<table border=\"1\" class=\"dataframe\">\n",
       "  <thead>\n",
       "    <tr style=\"text-align: right;\">\n",
       "      <th></th>\n",
       "      <th>index</th>\n",
       "      <th>target</th>\n",
       "    </tr>\n",
       "  </thead>\n",
       "  <tbody>\n",
       "    <tr>\n",
       "      <th>0</th>\n",
       "      <td>target</td>\n",
       "      <td>1.000000</td>\n",
       "    </tr>\n",
       "    <tr>\n",
       "      <th>1</th>\n",
       "      <td>company_size_50-99</td>\n",
       "      <td>0.180517</td>\n",
       "    </tr>\n",
       "    <tr>\n",
       "      <th>2</th>\n",
       "      <td>enrolled_university</td>\n",
       "      <td>0.151606</td>\n",
       "    </tr>\n",
       "    <tr>\n",
       "      <th>3</th>\n",
       "      <td>company_type_Pvt Ltd</td>\n",
       "      <td>0.061975</td>\n",
       "    </tr>\n",
       "    <tr>\n",
       "      <th>4</th>\n",
       "      <td>last_new_job_never</td>\n",
       "      <td>0.059068</td>\n",
       "    </tr>\n",
       "    <tr>\n",
       "      <th>5</th>\n",
       "      <td>enrollee_id</td>\n",
       "      <td>0.048287</td>\n",
       "    </tr>\n",
       "    <tr>\n",
       "      <th>6</th>\n",
       "      <td>last_new_job_1</td>\n",
       "      <td>0.033410</td>\n",
       "    </tr>\n",
       "    <tr>\n",
       "      <th>7</th>\n",
       "      <td>gender</td>\n",
       "      <td>0.010560</td>\n",
       "    </tr>\n",
       "    <tr>\n",
       "      <th>8</th>\n",
       "      <td>major_discipline_STEM</td>\n",
       "      <td>0.009854</td>\n",
       "    </tr>\n",
       "    <tr>\n",
       "      <th>9</th>\n",
       "      <td>major_discipline_Business Degree</td>\n",
       "      <td>0.006945</td>\n",
       "    </tr>\n",
       "    <tr>\n",
       "      <th>10</th>\n",
       "      <td>major_discipline_Other</td>\n",
       "      <td>0.003145</td>\n",
       "    </tr>\n",
       "    <tr>\n",
       "      <th>11</th>\n",
       "      <td>major_discipline_No Major</td>\n",
       "      <td>0.002187</td>\n",
       "    </tr>\n",
       "    <tr>\n",
       "      <th>12</th>\n",
       "      <td>company_type_Other</td>\n",
       "      <td>-0.001827</td>\n",
       "    </tr>\n",
       "    <tr>\n",
       "      <th>13</th>\n",
       "      <td>last_new_job_2</td>\n",
       "      <td>-0.005584</td>\n",
       "    </tr>\n",
       "    <tr>\n",
       "      <th>14</th>\n",
       "      <td>company_type_Early Stage Startup</td>\n",
       "      <td>-0.008571</td>\n",
       "    </tr>\n",
       "    <tr>\n",
       "      <th>15</th>\n",
       "      <td>log_training_hours</td>\n",
       "      <td>-0.010990</td>\n",
       "    </tr>\n",
       "    <tr>\n",
       "      <th>16</th>\n",
       "      <td>log_training_hours_std</td>\n",
       "      <td>-0.010990</td>\n",
       "    </tr>\n",
       "    <tr>\n",
       "      <th>17</th>\n",
       "      <td>major_discipline_Arts</td>\n",
       "      <td>-0.011281</td>\n",
       "    </tr>\n",
       "    <tr>\n",
       "      <th>18</th>\n",
       "      <td>company_size_10/49</td>\n",
       "      <td>-0.012928</td>\n",
       "    </tr>\n",
       "    <tr>\n",
       "      <th>19</th>\n",
       "      <td>education_level</td>\n",
       "      <td>-0.013577</td>\n",
       "    </tr>\n",
       "    <tr>\n",
       "      <th>20</th>\n",
       "      <td>last_new_job_3</td>\n",
       "      <td>-0.014411</td>\n",
       "    </tr>\n",
       "    <tr>\n",
       "      <th>21</th>\n",
       "      <td>last_new_job_4</td>\n",
       "      <td>-0.014942</td>\n",
       "    </tr>\n",
       "    <tr>\n",
       "      <th>22</th>\n",
       "      <td>major_discipline_Humanities</td>\n",
       "      <td>-0.017315</td>\n",
       "    </tr>\n",
       "    <tr>\n",
       "      <th>23</th>\n",
       "      <td>company_type_Public Sector</td>\n",
       "      <td>-0.018290</td>\n",
       "    </tr>\n",
       "    <tr>\n",
       "      <th>24</th>\n",
       "      <td>company_size_5000-9999</td>\n",
       "      <td>-0.026486</td>\n",
       "    </tr>\n",
       "    <tr>\n",
       "      <th>25</th>\n",
       "      <td>company_type_NGO</td>\n",
       "      <td>-0.027133</td>\n",
       "    </tr>\n",
       "    <tr>\n",
       "      <th>26</th>\n",
       "      <td>skewnorm_city_development_index</td>\n",
       "      <td>-0.035035</td>\n",
       "    </tr>\n",
       "    <tr>\n",
       "      <th>27</th>\n",
       "      <td>skewnorm_city_development_index_std</td>\n",
       "      <td>-0.035035</td>\n",
       "    </tr>\n",
       "    <tr>\n",
       "      <th>28</th>\n",
       "      <td>company_size_500-999</td>\n",
       "      <td>-0.038212</td>\n",
       "    </tr>\n",
       "    <tr>\n",
       "      <th>29</th>\n",
       "      <td>company_size_10000+</td>\n",
       "      <td>-0.047416</td>\n",
       "    </tr>\n",
       "    <tr>\n",
       "      <th>30</th>\n",
       "      <td>company_size_&lt;10</td>\n",
       "      <td>-0.051380</td>\n",
       "    </tr>\n",
       "    <tr>\n",
       "      <th>31</th>\n",
       "      <td>company_type_Funded Startup</td>\n",
       "      <td>-0.058404</td>\n",
       "    </tr>\n",
       "    <tr>\n",
       "      <th>32</th>\n",
       "      <td>company_size_1000-4999</td>\n",
       "      <td>-0.067094</td>\n",
       "    </tr>\n",
       "    <tr>\n",
       "      <th>33</th>\n",
       "      <td>last_new_job_&gt;4</td>\n",
       "      <td>-0.070564</td>\n",
       "    </tr>\n",
       "    <tr>\n",
       "      <th>34</th>\n",
       "      <td>company_size_100-500</td>\n",
       "      <td>-0.083268</td>\n",
       "    </tr>\n",
       "    <tr>\n",
       "      <th>35</th>\n",
       "      <td>relevent_experience</td>\n",
       "      <td>-0.135479</td>\n",
       "    </tr>\n",
       "  </tbody>\n",
       "</table>\n",
       "</div>"
      ],
      "text/plain": [
       "                                  index    target\n",
       "0                                target  1.000000\n",
       "1                    company_size_50-99  0.180517\n",
       "2                   enrolled_university  0.151606\n",
       "3                  company_type_Pvt Ltd  0.061975\n",
       "4                    last_new_job_never  0.059068\n",
       "5                           enrollee_id  0.048287\n",
       "6                        last_new_job_1  0.033410\n",
       "7                                gender  0.010560\n",
       "8                 major_discipline_STEM  0.009854\n",
       "9      major_discipline_Business Degree  0.006945\n",
       "10               major_discipline_Other  0.003145\n",
       "11            major_discipline_No Major  0.002187\n",
       "12                   company_type_Other -0.001827\n",
       "13                       last_new_job_2 -0.005584\n",
       "14     company_type_Early Stage Startup -0.008571\n",
       "15                   log_training_hours -0.010990\n",
       "16               log_training_hours_std -0.010990\n",
       "17                major_discipline_Arts -0.011281\n",
       "18                   company_size_10/49 -0.012928\n",
       "19                      education_level -0.013577\n",
       "20                       last_new_job_3 -0.014411\n",
       "21                       last_new_job_4 -0.014942\n",
       "22          major_discipline_Humanities -0.017315\n",
       "23           company_type_Public Sector -0.018290\n",
       "24               company_size_5000-9999 -0.026486\n",
       "25                     company_type_NGO -0.027133\n",
       "26      skewnorm_city_development_index -0.035035\n",
       "27  skewnorm_city_development_index_std -0.035035\n",
       "28                 company_size_500-999 -0.038212\n",
       "29                  company_size_10000+ -0.047416\n",
       "30                     company_size_<10 -0.051380\n",
       "31          company_type_Funded Startup -0.058404\n",
       "32               company_size_1000-4999 -0.067094\n",
       "33                      last_new_job_>4 -0.070564\n",
       "34                 company_size_100-500 -0.083268\n",
       "35                  relevent_experience -0.135479"
      ]
     },
     "execution_count": 60,
     "metadata": {},
     "output_type": "execute_result"
    }
   ],
   "source": [
    "correlation"
   ]
  },
  {
   "cell_type": "markdown",
   "id": "58b7b69a-5874-4b11-aa54-f13a221e3e3a",
   "metadata": {},
   "source": [
    "pengamatan:"
   ]
  },
  {
   "cell_type": "markdown",
   "id": "9493baeb-6707-489b-a342-74ce8aa14693",
   "metadata": {},
   "source": [
    "### Hyperparameter Tuning"
   ]
  },
  {
   "cell_type": "code",
   "execution_count": 61,
   "id": "3ea2a45b-9614-4d39-8461-a603ae1569b2",
   "metadata": {},
   "outputs": [],
   "source": [
    "#hyperparameter tuning\n",
    "from sklearn.model_selection import RandomizedSearchCV, GridSearchCV"
   ]
  },
  {
   "cell_type": "code",
   "execution_count": 62,
   "id": "4003d03b-4ffe-4504-bb44-40b74229277a",
   "metadata": {},
   "outputs": [],
   "source": [
    "alpha_try   = [0.01,0.1,1]\n",
    "solver_try  = ['auto','lsqr','cholesky', 'sag', 'saga']\n",
    "hyperparams = dict(alpha = alpha_try, solver = solver_try)"
   ]
  },
  {
   "cell_type": "code",
   "execution_count": 63,
   "id": "72d251e6-d70e-4e27-a249-7c3010f3e92a",
   "metadata": {},
   "outputs": [],
   "source": [
    "from sklearn.linear_model import Ridge\n",
    "ridge = Ridge()"
   ]
  },
  {
   "cell_type": "code",
   "execution_count": 64,
   "id": "1f852b36-e84e-417e-a866-be94f4b00172",
   "metadata": {},
   "outputs": [],
   "source": [
    "rs = RandomizedSearchCV(ridge, hyperparams, cv = 5,  random_state = 42)"
   ]
  },
  {
   "cell_type": "code",
   "execution_count": 65,
   "id": "dd400b3f-9d6e-4b55-9f8d-df1738c87c5a",
   "metadata": {},
   "outputs": [
    {
     "data": {
      "text/plain": [
       "RandomizedSearchCV(cv=5, estimator=Ridge(),\n",
       "                   param_distributions={'alpha': [0.01, 0.1, 1],\n",
       "                                        'solver': ['auto', 'lsqr', 'cholesky',\n",
       "                                                   'sag', 'saga']},\n",
       "                   random_state=42)"
      ]
     },
     "execution_count": 65,
     "metadata": {},
     "output_type": "execute_result"
    }
   ],
   "source": [
    "rs.fit(xtrain, ytrain)"
   ]
  },
  {
   "cell_type": "code",
   "execution_count": 66,
   "id": "1a22d258-898f-4961-8ccb-6b0a08d7b387",
   "metadata": {},
   "outputs": [],
   "source": [
    "y_pred = rs.predict(xtest)"
   ]
  },
  {
   "cell_type": "code",
   "execution_count": 67,
   "id": "6b12771b-3fef-49d2-a936-05e33c20f409",
   "metadata": {},
   "outputs": [
    {
     "data": {
      "text/plain": [
       "0.05472349454048486"
      ]
     },
     "execution_count": 67,
     "metadata": {},
     "output_type": "execute_result"
    }
   ],
   "source": [
    "r2_score(ytest,y_pred)"
   ]
  },
  {
   "cell_type": "code",
   "execution_count": 68,
   "id": "c3a8d9ab-c092-4d06-bd1f-1e1baf47bb73",
   "metadata": {},
   "outputs": [
    {
     "data": {
      "text/plain": [
       "{'alpha': 1,\n",
       " 'copy_X': True,\n",
       " 'fit_intercept': True,\n",
       " 'max_iter': None,\n",
       " 'normalize': 'deprecated',\n",
       " 'positive': False,\n",
       " 'random_state': None,\n",
       " 'solver': 'sag',\n",
       " 'tol': 0.001}"
      ]
     },
     "execution_count": 68,
     "metadata": {},
     "output_type": "execute_result"
    }
   ],
   "source": [
    "rs.best_estimator_.get_params()"
   ]
  },
  {
   "cell_type": "markdown",
   "id": "95c987bb-ebb3-4c12-b876-f338ca06e2ee",
   "metadata": {
    "tags": []
   },
   "source": [
    "## Evaluation Decision Tree"
   ]
  },
  {
   "cell_type": "code",
   "execution_count": 76,
   "id": "5db48b51-8fb5-4c2c-9302-843a8cf20fc0",
   "metadata": {},
   "outputs": [
    {
     "name": "stdout",
     "output_type": "stream",
     "text": [
      "r2 (test):-0.8520770310319477\n",
      "rmse(test):0.5898312425606322\n"
     ]
    }
   ],
   "source": [
    "from sklearn.tree import DecisionTreeRegressor\n",
    "\n",
    "dt = DecisionTreeRegressor()\n",
    "dt.fit(xtrain,ytrain)\n",
    "y_pred = dt.predict (xtest)\n",
    "print('r2 (test):' + str(r2_score(ytest,y_pred)))\n",
    "print('rmse(test):' + str(mean_squared_error(ytest,y_pred,squared = False)))"
   ]
  },
  {
   "cell_type": "code",
   "execution_count": 77,
   "id": "95f602b8-b818-498b-aa93-c1469baf454a",
   "metadata": {},
   "outputs": [
    {
     "name": "stdout",
     "output_type": "stream",
     "text": [
      "Accuracy (Test Set): 0.65\n",
      "Precision (Test Set): 0.30\n",
      "Recall (Test Set): 0.31\n",
      "F1-Score (Test Set): 0.31\n",
      "AUC: 0.54\n"
     ]
    }
   ],
   "source": [
    "from sklearn.tree import DecisionTreeClassifier\n",
    "model = DecisionTreeClassifier(random_state=42)\n",
    "model.fit(xtrain,ytrain)\n",
    "\n",
    "y_pred = model.predict(xtest)\n",
    "eval_classification(model, y_pred, xtrain, ytrain, xtest, ytest)"
   ]
  },
  {
   "cell_type": "code",
   "execution_count": 78,
   "id": "829a4a44-fec8-447a-85a3-bf090e1f3cb3",
   "metadata": {},
   "outputs": [
    {
     "name": "stdout",
     "output_type": "stream",
     "text": [
      "Train score: 1.0\n",
      "Test score:0.6484858912594632\n"
     ]
    }
   ],
   "source": [
    "print('Train score: ' + str(model.score(xtrain, ytrain))) #accuracy\n",
    "print('Test score:' + str(model.score(xtest, ytest))) #accuracy"
   ]
  },
  {
   "cell_type": "markdown",
   "id": "e7d0263e-ad00-4740-96f0-ee904abb0743",
   "metadata": {},
   "source": [
    "Overfit, Train>test"
   ]
  },
  {
   "cell_type": "markdown",
   "id": "13d2c718-a2ce-4d22-826e-b3774409a492",
   "metadata": {
    "tags": []
   },
   "source": [
    "### Hyperparameter Tuning"
   ]
  },
  {
   "cell_type": "code",
   "execution_count": 79,
   "id": "85034921-87d1-4c68-a247-770f001518cd",
   "metadata": {},
   "outputs": [],
   "source": [
    "from sklearn.model_selection import RandomizedSearchCV\n",
    "from scipy.stats import uniform\n",
    "import numpy as np\n",
    "\n",
    "# List of hyperparameter\n",
    "max_depth = [int(x) for x in np.linspace(1, 110, num = 30)] # Maximum number of levels in tree\n",
    "min_samples_split = [2, 5, 10, 100] # Minimum number of samples required to split a node\n",
    "min_samples_leaf = [1, 2, 4, 10, 20, 50] # Minimum number of samples required at each leaf node\n",
    "max_features = ['auto', 'sqrt'] # Number of features to consider at every split\n",
    "\n",
    "hyperparameters = dict(max_depth=max_depth, \n",
    "                       min_samples_split=min_samples_split, \n",
    "                       min_samples_leaf=min_samples_leaf,\n",
    "                       max_features=max_features\n",
    "                      )"
   ]
  },
  {
   "cell_type": "code",
   "execution_count": 80,
   "id": "66d24ce1-33da-4d67-8567-4cde6223b7e6",
   "metadata": {},
   "outputs": [
    {
     "data": {
      "text/plain": [
       "RandomizedSearchCV(cv=5, estimator=DecisionTreeClassifier(random_state=42),\n",
       "                   param_distributions={'max_depth': [1, 4, 8, 12, 16, 19, 23,\n",
       "                                                      27, 31, 34, 38, 42, 46,\n",
       "                                                      49, 53, 57, 61, 64, 68,\n",
       "                                                      72, 76, 79, 83, 87, 91,\n",
       "                                                      94, 98, 102, 106, 110],\n",
       "                                        'max_features': ['auto', 'sqrt'],\n",
       "                                        'min_samples_leaf': [1, 2, 4, 10, 20,\n",
       "                                                             50],\n",
       "                                        'min_samples_split': [2, 5, 10, 100]},\n",
       "                   random_state=42, scoring='precision')"
      ]
     },
     "execution_count": 80,
     "metadata": {},
     "output_type": "execute_result"
    }
   ],
   "source": [
    "# Inisialisasi Model\n",
    "dt = DecisionTreeClassifier(random_state=42)\n",
    "model = RandomizedSearchCV(dt, hyperparameters, cv=5, random_state=42, scoring='precision')\n",
    "model.fit(xtrain, ytrain)"
   ]
  },
  {
   "cell_type": "code",
   "execution_count": 81,
   "id": "30f7ad63-f289-45bf-b8ad-9099b97ef686",
   "metadata": {},
   "outputs": [
    {
     "name": "stdout",
     "output_type": "stream",
     "text": [
      "Accuracy (Test Set): 0.75\n",
      "Precision (Test Set): 0.47\n",
      "Recall (Test Set): 0.13\n",
      "F1-Score (Test Set): 0.20\n",
      "AUC: 0.54\n"
     ]
    }
   ],
   "source": [
    "# Predict & Evaluation\n",
    "y_pred = model.predict(xtest)#Check performa dari model\n",
    "eval_classification(model, y_pred, xtrain, ytrain, xtest, ytest)"
   ]
  },
  {
   "cell_type": "code",
   "execution_count": 82,
   "id": "dd6cfb79-10bf-4840-a43f-d1dddcbdaf05",
   "metadata": {},
   "outputs": [
    {
     "name": "stdout",
     "output_type": "stream",
     "text": [
      "Best max_depth: 87\n",
      "Best min_samples_split: 10\n",
      "Best min_samples_leaf: 50\n",
      "Best max_features: auto\n"
     ]
    }
   ],
   "source": [
    "print('Best max_depth:', model.best_estimator_.get_params()['max_depth'])\n",
    "print('Best min_samples_split:', model.best_estimator_.get_params()['min_samples_split'])\n",
    "print('Best min_samples_leaf:', model.best_estimator_.get_params()['min_samples_leaf'])\n",
    "print('Best max_features:', model.best_estimator_.get_params()['max_features'])"
   ]
  },
  {
   "cell_type": "code",
   "execution_count": 83,
   "id": "430f1dbd-7738-4f83-9d7b-552d6cb040da",
   "metadata": {},
   "outputs": [
    {
     "name": "stdout",
     "output_type": "stream",
     "text": [
      "Train score: 0.554380664652568\n",
      "Test score:0.47474747474747475\n"
     ]
    }
   ],
   "source": [
    "print('Train score: ' + str(model.score(xtrain, ytrain)))\n",
    "print('Test score:' + str(model.score(xtest, ytest)))"
   ]
  },
  {
   "cell_type": "code",
   "execution_count": 84,
   "id": "508a5fb2-42ac-4d12-a160-5b58b710ebc7",
   "metadata": {
    "scrolled": true,
    "tags": []
   },
   "outputs": [
    {
     "data": {
      "image/png": "[encoded data removed]",
      "text/plain": [
       "<Figure size 5400x1440 with 1 Axes>"
      ]
     },
     "metadata": {
      "needs_background": "light"
     },
     "output_type": "display_data"
    }
   ],
   "source": [
    "from sklearn import tree\n",
    "import matplotlib.pyplot as plt\n",
    "fig, ax = plt.subplots(figsize=(75, 20))\n",
    "tree.plot_tree(model.best_estimator_,\n",
    "               feature_names = x.columns.tolist(), \n",
    "               class_names=['0','1'],\n",
    "               filled = True, max_depth=5, fontsize=12)\n",
    "plt.show()"
   ]
  },
  {
   "cell_type": "code",
   "execution_count": 85,
   "id": "9c336bab-308d-4549-a2ed-58b82ba331bf",
   "metadata": {},
   "outputs": [
    {
     "data": {
      "text/plain": [
       "Text(0.5, 1.0, 'feature importance score')"
      ]
     },
     "execution_count": 85,
     "metadata": {},
     "output_type": "execute_result"
    },
    {
     "data": {
      "image/png": "[encoded data removed]",
      "text/plain": [
       "<Figure size 720x576 with 1 Axes>"
      ]
     },
     "metadata": {
      "needs_background": "light"
     },
     "output_type": "display_data"
    }
   ],
   "source": [
    "# plt.figsize(10, 8)\n",
    "feat_importances = pd.Series(model.best_estimator_.feature_importances_, index=x.columns)\n",
    "ax = feat_importances.nlargest(25).plot(kind='barh', figsize=(10, 8))\n",
    "ax.invert_yaxis()\n",
    "\n",
    "plt.xlabel('score')\n",
    "plt.ylabel('feature')\n",
    "plt.title('feature importance score')"
   ]
  },
  {
   "cell_type": "markdown",
   "id": "9acbfb3a-24fe-4a7c-83d8-6225646e4dfb",
   "metadata": {
    "tags": []
   },
   "source": [
    "## K- Nearest Neighbor"
   ]
  },
  {
   "cell_type": "code",
   "execution_count": 86,
   "id": "b1b26ba0-2961-4a65-83b0-8b342883ccbb",
   "metadata": {},
   "outputs": [
    {
     "name": "stdout",
     "output_type": "stream",
     "text": [
      "Accuracy (Test Set): 0.75\n",
      "Precision (Test Set): 0.47\n",
      "Recall (Test Set): 0.13\n",
      "F1-Score (Test Set): 0.20\n",
      "AUC: 0.54\n"
     ]
    }
   ],
   "source": [
    "from sklearn.neighbors import KNeighborsClassifier# import knn dari sklearn\n",
    "knn = KNeighborsClassifier() # inisiasi object dengan nama knn\n",
    "knn.fit(xtrain, ytrain)\n",
    "\n",
    "y_pred = model.predict(xtest)\n",
    "eval_classification(model, y_pred, xtrain, ytrain, xtest, ytest)"
   ]
  },
  {
   "cell_type": "code",
   "execution_count": 87,
   "id": "2fad6457-8e3f-4d02-995a-e8d542529c10",
   "metadata": {},
   "outputs": [
    {
     "name": "stdout",
     "output_type": "stream",
     "text": [
      "Train score: 0.554380664652568\n",
      "Test score:0.47474747474747475\n"
     ]
    }
   ],
   "source": [
    "print('Train score: ' + str(model.score(xtrain, ytrain))) #accuracy\n",
    "print('Test score:' + str(model.score(xtest, ytest))) #accuracy"
   ]
  },
  {
   "cell_type": "markdown",
   "id": "97ee96b8-03d3-41df-9a41-e435e047885c",
   "metadata": {},
   "source": [
    "### Hyperpara Tuning"
   ]
  },
  {
   "cell_type": "code",
   "execution_count": 88,
   "id": "3d0c7f09-978f-46c7-a8ac-bf0a66c4d096",
   "metadata": {},
   "outputs": [
    {
     "name": "stdout",
     "output_type": "stream",
     "text": [
      "Accuracy (Test Set): 0.75\n",
      "Precision (Test Set): 0.48\n",
      "Recall (Test Set): 0.12\n",
      "F1-Score (Test Set): 0.20\n",
      "AUC: 0.54\n"
     ]
    }
   ],
   "source": [
    "from sklearn.model_selection import RandomizedSearchCV\n",
    "from scipy.stats import uniform\n",
    "\n",
    "# List of hyperparameter\n",
    "n_neighbors = list(range(1,30))\n",
    "p=[1,2]\n",
    "algorithm = ['auto', 'ball_tree', 'kd_tree', 'brute']\n",
    "hyperparameters = dict(n_neighbors=n_neighbors, p=p, algorithm=algorithm)\n",
    "\n",
    "# Init model\n",
    "knn = KNeighborsClassifier()\n",
    "model = RandomizedSearchCV(knn, hyperparameters, cv=5, random_state=42, scoring='precision')\n",
    "\n",
    "# Fit Model & Evaluasi\n",
    "model.fit(xtrain, ytrain)\n",
    "y_pred = model.predict(xtest)\n",
    "eval_classification(model, y_pred, xtrain, ytrain, xtest, ytest)"
   ]
  },
  {
   "cell_type": "code",
   "execution_count": 89,
   "id": "3ba3c40a-16f0-43ba-b2d7-2a991540ffc7",
   "metadata": {},
   "outputs": [
    {
     "name": "stdout",
     "output_type": "stream",
     "text": [
      "Best n_neighbors: 28\n",
      "Best p: 1\n",
      "Best algorithm: kd_tree\n"
     ]
    }
   ],
   "source": [
    "print('Best n_neighbors:', model.best_estimator_.get_params()['n_neighbors'])\n",
    "print('Best p:', model.best_estimator_.get_params()['p'])\n",
    "print('Best algorithm:', model.best_estimator_.get_params()['algorithm'])"
   ]
  },
  {
   "cell_type": "code",
   "execution_count": 90,
   "id": "53bc19f0-6514-4b26-8cd2-596305188413",
   "metadata": {},
   "outputs": [
    {
     "name": "stdout",
     "output_type": "stream",
     "text": [
      "Train score: 0.6005961251862891\n",
      "Test score:0.48118279569892475\n"
     ]
    }
   ],
   "source": [
    "print('Train score: ' + str(model.score(xtrain, ytrain))) #accuracy\n",
    "print('Test score:' + str(model.score(xtest, ytest))) #accuracy"
   ]
  },
  {
   "cell_type": "markdown",
   "id": "606ad91f-2791-4204-a9da-943a681ff411",
   "metadata": {
    "tags": []
   },
   "source": [
    "## Random Forest"
   ]
  },
  {
   "cell_type": "code",
   "execution_count": 91,
   "id": "18bd4b92-73d0-4630-bfe9-7fa03c3f8c2b",
   "metadata": {},
   "outputs": [],
   "source": [
    "from sklearn.ensemble import RandomForestClassifier\n",
    "rf = RandomForestClassifier (random_state=42)\n",
    "#rf.fit(x_norm, y_norm)\n",
    "rf_model = rf.fit(xtrain, ytrain)"
   ]
  },
  {
   "cell_type": "code",
   "execution_count": 92,
   "id": "fad25649-1007-45e7-a1a0-c7afb504c525",
   "metadata": {},
   "outputs": [
    {
     "name": "stdout",
     "output_type": "stream",
     "text": [
      "\n",
      "classification report\n",
      "              precision    recall  f1-score   support\n",
      "\n",
      "         0.0       0.77      0.89      0.82      4355\n",
      "         1.0       0.38      0.21      0.27      1457\n",
      "\n",
      "    accuracy                           0.72      5812\n",
      "   macro avg       0.58      0.55      0.55      5812\n",
      "weighted avg       0.67      0.72      0.68      5812\n",
      "\n",
      "Random Forest: ROC AUC =  54.7 %\n",
      "Random Forest: Precision =  38.0 %\n",
      "Random Forest: Recall =  20.5 %\n",
      "Random Forest: Accuracy =  71.7 %\n",
      "Random Forest: F1-Score =  26.7 %\n"
     ]
    },
    {
     "data": {
      "text/plain": [
       "array([[3868,  487],\n",
       "       [1158,  299]], dtype=int64)"
      ]
     },
     "execution_count": 92,
     "metadata": {},
     "output_type": "execute_result"
    }
   ],
   "source": [
    "y_predicted = rf.predict(xtest)\n",
    "y_predicted_train = rf.predict(xtrain)\n",
    "#eval\n",
    "from sklearn.metrics import classification_report\n",
    "from sklearn.metrics import roc_auc_score\n",
    "from sklearn.metrics import precision_score\n",
    "from sklearn.metrics import recall_score\n",
    "from sklearn.metrics import accuracy_score\n",
    "from sklearn.metrics import confusion_matrix\n",
    "from sklearn.metrics import f1_score\n",
    "\n",
    "print('\\nclassification report')\n",
    "print(classification_report(ytest, y_predicted)) # generate the precision, recall, f-1 score, num\n",
    "print('Random Forest: ROC AUC = ',str(round(roc_auc_score(ytest, y_predicted)*100,1)), '%')\n",
    "print('Random Forest: Precision = ',str(round(precision_score(ytest, y_predicted)*100,1)), '%')\n",
    "print('Random Forest: Recall = ',str(round(recall_score(ytest, y_predicted)*100,1)), '%')\n",
    "print('Random Forest: Accuracy = ',str(round(accuracy_score(ytest, y_predicted)*100,1)), '%')\n",
    "print('Random Forest: F1-Score = ',str(round(f1_score(ytest, y_predicted)*100,1)), '%')\n",
    "confusion_matrix(ytest, y_predicted)"
   ]
  },
  {
   "cell_type": "code",
   "execution_count": 93,
   "id": "203891a2-733f-4502-afba-c48be87d0960",
   "metadata": {},
   "outputs": [],
   "source": [
    "#Save Machine Learning Model\n",
    "import pickle\n",
    "pickle.dump(rf_model, open('RandomForest.pkl', 'wb'))"
   ]
  },
  {
   "cell_type": "code",
   "execution_count": 94,
   "id": "393a6ebd-6664-4657-9546-e479e0e0e22c",
   "metadata": {},
   "outputs": [
    {
     "name": "stdout",
     "output_type": "stream",
     "text": [
      "0.7169649002064694\n"
     ]
    }
   ],
   "source": [
    "#Load and print model score\n",
    "loaded_model = pickle.load(open('RandomForest.pkl', 'rb'))\n",
    "result = loaded_model.score(xtest,ytest)\n",
    "print(result)"
   ]
  },
  {
   "cell_type": "code",
   "execution_count": 95,
   "id": "c1ddbf06-c78c-4cb3-9654-8a4a646c4aa1",
   "metadata": {},
   "outputs": [
    {
     "name": "stdout",
     "output_type": "stream",
     "text": [
      "train score :  99.97 %\n",
      "test score :  71.7 %\n"
     ]
    }
   ],
   "source": [
    "#print model score to check if the model is overfitting or not\n",
    "print('train score : ', str(round(loaded_model.score(xtrain, ytrain)*100,2)), '%')\n",
    "print('test score : ', str(round(loaded_model.score(xtest, ytest)*100,2)),'%')"
   ]
  },
  {
   "cell_type": "markdown",
   "id": "135fa1ac-b736-48f9-91c4-3b89ae9fc625",
   "metadata": {},
   "source": [
    "### Hyperpara Tuning"
   ]
  },
  {
   "cell_type": "code",
   "execution_count": 96,
   "id": "804ac56a-3d43-4d4d-9578-82cce57b5cbf",
   "metadata": {},
   "outputs": [
    {
     "name": "stdout",
     "output_type": "stream",
     "text": [
      "Best n_estimators: 100\n",
      "Best max_features: auto\n",
      "Best max_depth: None\n",
      "Best min_samples_split: 10\n",
      "Best min_samples_leaf: 4\n",
      "\n",
      "classification report\n",
      "              precision    recall  f1-score   support\n",
      "\n",
      "         0.0       0.77      0.97      0.85      4355\n",
      "         1.0       0.54      0.12      0.19      1457\n",
      "\n",
      "    accuracy                           0.75      5812\n",
      "   macro avg       0.65      0.54      0.52      5812\n",
      "weighted avg       0.71      0.75      0.69      5812\n",
      "\n",
      "Random Forest: ROC AUC =  54.2 %\n",
      "Random Forest: Precision =  53.8 %\n",
      "Random Forest: Recall =  11.8 %\n",
      "Random Forest: Accuracy =  75.3 %\n",
      "Random Forest: F1-Score =  19.4 %\n"
     ]
    },
    {
     "data": {
      "text/plain": [
       "array([[4207,  148],\n",
       "       [1285,  172]], dtype=int64)"
      ]
     },
     "execution_count": 96,
     "metadata": {},
     "output_type": "execute_result"
    }
   ],
   "source": [
    "from sklearn.model_selection import RandomizedSearchCV\n",
    "from scipy.stats import uniform\n",
    "import numpy as np\n",
    "\n",
    "#Menjadikan ke dalam bentuk dictionary\n",
    "hyperparameters = {\n",
    "               'min_samples_split': [7,8,9,10],\n",
    "               'min_samples_leaf': [1,2,3,4,5],\n",
    "               'bootstrap': [True],\n",
    "               'n_jobs':[-1]}\n",
    "\n",
    "# Init random forest dengan randomsearch, cross validation = 5\n",
    "rf = RandomForestClassifier(random_state=42)\n",
    "clf = RandomizedSearchCV(rf, hyperparameters, cv=20, random_state=42)\n",
    "\n",
    "#Fitting Model\n",
    "best_model = clf.fit(xtrain,ytrain)\n",
    "\n",
    "#Nilai hyperparameters terbaik\n",
    "print('Best n_estimators:', best_model.best_estimator_.get_params()['n_estimators'])\n",
    "print('Best max_features:', best_model.best_estimator_.get_params()['max_features'])\n",
    "print('Best max_depth:', best_model.best_estimator_.get_params()['max_depth'])\n",
    "print('Best min_samples_split:', best_model.best_estimator_.get_params()['min_samples_split'])\n",
    "print('Best min_samples_leaf:', best_model.best_estimator_.get_params()['min_samples_leaf'])\n",
    "\n",
    "\n",
    "#Prediksi menggunakan model baru\n",
    "y_predicted = best_model.predict(xtest)#Check performa dari model\n",
    "print('\\nclassification report')\n",
    "print(classification_report(ytest, y_predicted)) # generate the precision, recall, f-1 score, num\n",
    "print('Random Forest: ROC AUC = ',str(round(roc_auc_score(ytest, y_predicted)*100,1)), '%')\n",
    "print('Random Forest: Precision = ',str(round(precision_score(ytest, y_predicted)*100,1)), '%')\n",
    "print('Random Forest: Recall = ',str(round(recall_score(ytest, y_predicted)*100,1)), '%')\n",
    "print('Random Forest: Accuracy = ',str(round(accuracy_score(ytest, y_predicted)*100,1)), '%')\n",
    "print('Random Forest: F1-Score = ',str(round(f1_score(ytest, y_predicted)*100,1)), '%')\n",
    "confusion_matrix(ytest, y_predicted)"
   ]
  },
  {
   "cell_type": "code",
   "execution_count": 97,
   "id": "81be2b58-0d74-4402-bb60-44f852604145",
   "metadata": {},
   "outputs": [],
   "source": [
    "import pickle\n",
    "pickle.dump(best_model, open('RandomForest_model.pkl', 'wb'))"
   ]
  },
  {
   "cell_type": "code",
   "execution_count": 98,
   "id": "e48b71b9-61a2-42c1-b698-4059ac83c1a8",
   "metadata": {},
   "outputs": [
    {
     "name": "stdout",
     "output_type": "stream",
     "text": [
      "0.7534411562284927\n"
     ]
    }
   ],
   "source": [
    "loaded_model = pickle.load(open('RandomForest_model.pkl', 'rb'))\n",
    "result = loaded_model.score(xtest,ytest)\n",
    "print(result)"
   ]
  },
  {
   "cell_type": "code",
   "execution_count": 99,
   "id": "ba7e79ec-6882-48da-85c5-8c7852549876",
   "metadata": {},
   "outputs": [
    {
     "name": "stdout",
     "output_type": "stream",
     "text": [
      "train accuracy :  79.40974014799518\n",
      "test accuracy :  75.34411562284927\n"
     ]
    }
   ],
   "source": [
    "print('train accuracy : ', loaded_model.score(xtrain, ytrain)*100)\n",
    "print('test accuracy : ', loaded_model.score(xtest, ytest)*100)"
   ]
  },
  {
   "cell_type": "code",
   "execution_count": null,
   "id": "3afda2ce-12a5-4ca7-bc91-8800c48be64e",
   "metadata": {},
   "outputs": [],
   "source": []
  },
  {
   "cell_type": "markdown",
   "id": "50945c5f-fee9-4913-8869-a88d8d94c4b2",
   "metadata": {
    "tags": []
   },
   "source": [
    "## Xg boost"
   ]
  },
  {
   "cell_type": "code",
   "execution_count": 124,
   "id": "2e5dd96b-03f9-45e4-8ecf-181ae38990d4",
   "metadata": {},
   "outputs": [
    {
     "ename": "ValueError",
     "evalue": "feature_names must be string, and may not contain [, ] or <",
     "output_type": "error",
     "traceback": [
      "\u001b[1;31m---------------------------------------------------------------------------\u001b[0m",
      "\u001b[1;31mValueError\u001b[0m                                Traceback (most recent call last)",
      "\u001b[1;32m~\\AppData\\Local\\Temp/ipykernel_9492/279896124.py\u001b[0m in \u001b[0;36m<module>\u001b[1;34m\u001b[0m\n\u001b[0;32m      9\u001b[0m \u001b[1;32mfrom\u001b[0m \u001b[0msklearn\u001b[0m\u001b[1;33m.\u001b[0m\u001b[0mmetrics\u001b[0m \u001b[1;32mimport\u001b[0m \u001b[0mconfusion_matrix\u001b[0m\u001b[1;33m\u001b[0m\u001b[1;33m\u001b[0m\u001b[0m\n\u001b[0;32m     10\u001b[0m \u001b[1;33m\u001b[0m\u001b[0m\n\u001b[1;32m---> 11\u001b[1;33m \u001b[0mdata_dmatrix\u001b[0m \u001b[1;33m=\u001b[0m \u001b[0mxgb\u001b[0m\u001b[1;33m.\u001b[0m\u001b[0mDMatrix\u001b[0m\u001b[1;33m(\u001b[0m\u001b[0mdata\u001b[0m\u001b[1;33m=\u001b[0m\u001b[0mx\u001b[0m\u001b[1;33m,\u001b[0m \u001b[0mlabel\u001b[0m\u001b[1;33m=\u001b[0m\u001b[0my\u001b[0m\u001b[1;33m)\u001b[0m\u001b[1;33m\u001b[0m\u001b[1;33m\u001b[0m\u001b[0m\n\u001b[0m\u001b[0;32m     12\u001b[0m \u001b[1;33m\u001b[0m\u001b[0m\n\u001b[0;32m     13\u001b[0m xtrain, xtest, ytrain, ytest = train_test_split(x,\n",
      "\u001b[1;32m~\\anaconda3\\lib\\site-packages\\xgboost\\core.py\u001b[0m in \u001b[0;36minner_f\u001b[1;34m(*args, **kwargs)\u001b[0m\n\u001b[0;32m    504\u001b[0m         \u001b[1;32mfor\u001b[0m \u001b[0mk\u001b[0m\u001b[1;33m,\u001b[0m \u001b[0marg\u001b[0m \u001b[1;32min\u001b[0m \u001b[0mzip\u001b[0m\u001b[1;33m(\u001b[0m\u001b[0msig\u001b[0m\u001b[1;33m.\u001b[0m\u001b[0mparameters\u001b[0m\u001b[1;33m,\u001b[0m \u001b[0margs\u001b[0m\u001b[1;33m)\u001b[0m\u001b[1;33m:\u001b[0m\u001b[1;33m\u001b[0m\u001b[1;33m\u001b[0m\u001b[0m\n\u001b[0;32m    505\u001b[0m             \u001b[0mkwargs\u001b[0m\u001b[1;33m[\u001b[0m\u001b[0mk\u001b[0m\u001b[1;33m]\u001b[0m \u001b[1;33m=\u001b[0m \u001b[0marg\u001b[0m\u001b[1;33m\u001b[0m\u001b[1;33m\u001b[0m\u001b[0m\n\u001b[1;32m--> 506\u001b[1;33m         \u001b[1;32mreturn\u001b[0m \u001b[0mf\u001b[0m\u001b[1;33m(\u001b[0m\u001b[1;33m**\u001b[0m\u001b[0mkwargs\u001b[0m\u001b[1;33m)\u001b[0m\u001b[1;33m\u001b[0m\u001b[1;33m\u001b[0m\u001b[0m\n\u001b[0m\u001b[0;32m    507\u001b[0m \u001b[1;33m\u001b[0m\u001b[0m\n\u001b[0;32m    508\u001b[0m     \u001b[1;32mreturn\u001b[0m \u001b[0minner_f\u001b[0m\u001b[1;33m\u001b[0m\u001b[1;33m\u001b[0m\u001b[0m\n",
      "\u001b[1;32m~\\anaconda3\\lib\\site-packages\\xgboost\\core.py\u001b[0m in \u001b[0;36m__init__\u001b[1;34m(self, data, label, weight, base_margin, missing, silent, feature_names, feature_types, nthread, group, qid, label_lower_bound, label_upper_bound, feature_weights, enable_categorical)\u001b[0m\n\u001b[0;32m    637\u001b[0m \u001b[1;33m\u001b[0m\u001b[0m\n\u001b[0;32m    638\u001b[0m         \u001b[1;32mif\u001b[0m \u001b[0mfeature_names\u001b[0m \u001b[1;32mis\u001b[0m \u001b[1;32mnot\u001b[0m \u001b[1;32mNone\u001b[0m\u001b[1;33m:\u001b[0m\u001b[1;33m\u001b[0m\u001b[1;33m\u001b[0m\u001b[0m\n\u001b[1;32m--> 639\u001b[1;33m             \u001b[0mself\u001b[0m\u001b[1;33m.\u001b[0m\u001b[0mfeature_names\u001b[0m \u001b[1;33m=\u001b[0m \u001b[0mfeature_names\u001b[0m\u001b[1;33m\u001b[0m\u001b[1;33m\u001b[0m\u001b[0m\n\u001b[0m\u001b[0;32m    640\u001b[0m         \u001b[1;32mif\u001b[0m \u001b[0mfeature_types\u001b[0m \u001b[1;32mis\u001b[0m \u001b[1;32mnot\u001b[0m \u001b[1;32mNone\u001b[0m\u001b[1;33m:\u001b[0m\u001b[1;33m\u001b[0m\u001b[1;33m\u001b[0m\u001b[0m\n\u001b[0;32m    641\u001b[0m             \u001b[0mself\u001b[0m\u001b[1;33m.\u001b[0m\u001b[0mfeature_types\u001b[0m \u001b[1;33m=\u001b[0m \u001b[0mfeature_types\u001b[0m\u001b[1;33m\u001b[0m\u001b[1;33m\u001b[0m\u001b[0m\n",
      "\u001b[1;32m~\\anaconda3\\lib\\site-packages\\xgboost\\core.py\u001b[0m in \u001b[0;36mfeature_names\u001b[1;34m(self, feature_names)\u001b[0m\n\u001b[0;32m   1007\u001b[0m                        \u001b[1;32mnot\u001b[0m \u001b[0many\u001b[0m\u001b[1;33m(\u001b[0m\u001b[0mx\u001b[0m \u001b[1;32min\u001b[0m \u001b[0mf\u001b[0m \u001b[1;32mfor\u001b[0m \u001b[0mx\u001b[0m \u001b[1;32min\u001b[0m \u001b[0mset\u001b[0m\u001b[1;33m(\u001b[0m\u001b[1;33m(\u001b[0m\u001b[1;34m'['\u001b[0m\u001b[1;33m,\u001b[0m \u001b[1;34m']'\u001b[0m\u001b[1;33m,\u001b[0m \u001b[1;34m'<'\u001b[0m\u001b[1;33m)\u001b[0m\u001b[1;33m)\u001b[0m\u001b[1;33m)\u001b[0m\u001b[1;33m\u001b[0m\u001b[1;33m\u001b[0m\u001b[0m\n\u001b[0;32m   1008\u001b[0m                        for f in feature_names):\n\u001b[1;32m-> 1009\u001b[1;33m                 \u001b[1;32mraise\u001b[0m \u001b[0mValueError\u001b[0m\u001b[1;33m(\u001b[0m\u001b[1;34m'feature_names must be string, and may not contain [, ] or <'\u001b[0m\u001b[1;33m)\u001b[0m\u001b[1;33m\u001b[0m\u001b[1;33m\u001b[0m\u001b[0m\n\u001b[0m\u001b[0;32m   1010\u001b[0m             \u001b[0mc_feature_names\u001b[0m \u001b[1;33m=\u001b[0m \u001b[1;33m[\u001b[0m\u001b[0mbytes\u001b[0m\u001b[1;33m(\u001b[0m\u001b[0mf\u001b[0m\u001b[1;33m,\u001b[0m \u001b[0mencoding\u001b[0m\u001b[1;33m=\u001b[0m\u001b[1;34m'utf-8'\u001b[0m\u001b[1;33m)\u001b[0m \u001b[1;32mfor\u001b[0m \u001b[0mf\u001b[0m \u001b[1;32min\u001b[0m \u001b[0mfeature_names\u001b[0m\u001b[1;33m]\u001b[0m\u001b[1;33m\u001b[0m\u001b[1;33m\u001b[0m\u001b[0m\n\u001b[0;32m   1011\u001b[0m             c_feature_names = (ctypes.c_char_p *\n",
      "\u001b[1;31mValueError\u001b[0m: feature_names must be string, and may not contain [, ] or <"
     ]
    }
   ],
   "source": [
    "import xgboost as xgb\n",
    "from sklearn.model_selection import train_test_split\n",
    "\n",
    "from sklearn.metrics import classification_report\n",
    "from sklearn.metrics import roc_auc_score\n",
    "from sklearn.metrics import precision_score\n",
    "from sklearn.metrics import recall_score\n",
    "from sklearn.metrics import accuracy_score, f1_score\n",
    "from sklearn.metrics import confusion_matrix\n",
    "\n",
    "data_dmatrix = xgb.DMatrix(data=x, label=y)\n",
    "\n",
    "xtrain, xtest, ytrain, ytest = train_test_split(x,\n",
    "                                                y,\n",
    "                                                test_size=0.2,\n",
    "                                                shuffle = True,\n",
    "                                                stratify = y_norm,\n",
    "                                                random_state=42) #Splitting the data into Train and Test\n",
    "\n",
    "xgb_classifier = xgb.XGBClassifier()\n",
    "norm_model = xgb_classifier.fit(x, y)\n",
    "y_predicted = norm_model.predict(xtest)\n",
    "y_predicted_train = norm_model.predict(xtrain)\n",
    "\n",
    "print(\"\\nClassification Report\")\n",
    "print(classification_report(ytest, y_predicted))\n",
    "print('XGBoost: ROC AUC = ', str(round(roc_auc_score(ytest, y_predicted)*100,1)),\"%\")\n",
    "print('XGBoost: Precision = ', str(round(precision_score(ytest, y_predicted)*100,1)),\"%\")\n",
    "print('XGBoost: Recall = ', str(round(recall_score(ytest, y_predicted)*100,1)),\"%\")\n",
    "print('XGBoost: Accuracy = ', str(round(accuracy_score(ytest, y_predicted)*100,1)),\"%\")\n",
    "print(\"XGBoost: F1 Score =  \", str(round(f1_score(ytest, y_predicted)*100,1)),\"%\")\n",
    "from sklearn.metrics import confusion_matrix\n",
    "confusion_matrix(ytest, y_predicted)"
   ]
  },
  {
   "cell_type": "code",
   "execution_count": 123,
   "id": "32b6c02e-4644-4efd-9b3d-fe8790f12d4f",
   "metadata": {},
   "outputs": [],
   "source": [
    "import re\n",
    "\n",
    "regex = re.compile(r\"\\[|\\]|<\", re.IGNORECASE)\n",
    "\n",
    "xtrain.columns = [regex.sub('_', col) if any(x in str(col) for x in set(('[', ']', '<'))) else col for col in xtrain.columns.values]"
   ]
  },
  {
   "cell_type": "markdown",
   "id": "1d493794-4d70-4e62-9b91-02cc2315f7b3",
   "metadata": {
    "jp-MarkdownHeadingCollapsed": true,
    "tags": []
   },
   "source": [
    "## RF"
   ]
  },
  {
   "cell_type": "code",
   "execution_count": 83,
   "id": "16b58549-a919-4b3d-9a73-798254bff897",
   "metadata": {},
   "outputs": [
    {
     "name": "stdout",
     "output_type": "stream",
     "text": [
      "r2 (test):-0.03422500310863219\n",
      "rmse(test):0.4407636454956784\n"
     ]
    }
   ],
   "source": [
    "from sklearn.ensemble import RandomForestRegressor\n",
    "\n",
    "rf = RandomForestRegressor()\n",
    "rf.fit(xtrain,ytrain)\n",
    "y_pred = rf.predict (xtest)\n",
    "print('r2 (test):' + str(r2_score(ytest,y_pred)))\n",
    "print('rmse(test):' + str(mean_squared_error(ytest,y_pred,squared = False)))"
   ]
  },
  {
   "cell_type": "code",
   "execution_count": 84,
   "id": "bd839dc7-e58c-4b94-b1a2-532e97de1322",
   "metadata": {},
   "outputs": [
    {
     "name": "stdout",
     "output_type": "stream",
     "text": [
      "Accuracy (Test Set): 0.72\n",
      "Precision (Test Set): 0.39\n",
      "Recall (Test Set): 0.20\n",
      "F1-Score (Test Set): 0.27\n",
      "AUC: 0.55\n"
     ]
    }
   ],
   "source": [
    "from sklearn.ensemble import RandomForestClassifier\n",
    "rf = RandomForestClassifier(random_state=42)\n",
    "rf.fit(xtrain,ytrain)\n",
    "\n",
    "y_pred = rf.predict(xtest)\n",
    "eval_classification(rf, y_pred, xtrain, ytrain, xtest, ytest)"
   ]
  },
  {
   "cell_type": "code",
   "execution_count": 85,
   "id": "9ab03ed7-b107-4fbc-ae38-033908600e69",
   "metadata": {},
   "outputs": [
    {
     "data": {
      "image/png": "[encoded data removed]",
      "text/plain": [
       "<Figure size 720x576 with 1 Axes>"
      ]
     },
     "metadata": {
      "needs_background": "light"
     },
     "output_type": "display_data"
    }
   ],
   "source": [
    "show_feature_importance(rf)"
   ]
  },
  {
   "cell_type": "code",
   "execution_count": 86,
   "id": "053a376f-aba1-45f2-be8e-2efb791c723c",
   "metadata": {},
   "outputs": [],
   "source": [
    "from sklearn.model_selection import RandomizedSearchCV, GridSearchCV\n",
    "\n",
    "#List Hyperparameters yang akan diuji\n",
    "hyperparameters = dict(\n",
    "                       n_estimators = [int(x) for x in np.linspace(start = 100, stop = 2000, num = 20)], # Jumlah subtree \n",
    "                       bootstrap = [True], # Apakah pakai bootstrapping atau tidak\n",
    "                       criterion = ['gini','entropy'],\n",
    "                       max_depth = [int(x) for x in np.linspace(10, 110, num = 11)],  # Maximum kedalaman tree\n",
    "                       min_samples_split = [int(x) for x in np.linspace(start = 2, stop = 10, num = 5)], # Jumlah minimum samples pada node agar boleh di split menjadi leaf baru\n",
    "                       min_samples_leaf = [int(x) for x in np.linspace(start = 1, stop = 10, num = 5)], # Jumlah minimum samples pada leaf agar boleh terbentuk leaf baru\n",
    "                       max_features = ['auto', 'sqrt', 'log2'], # Jumlah feature yg dipertimbangkan pada masing-masing split\n",
    "                       n_jobs = [-1], # Core untuk parallel computation. -1 untuk menggunakan semua core\n",
    "                      )"
   ]
  },
  {
   "cell_type": "code",
   "execution_count": 87,
   "id": "f01c3eec-b70e-44f4-880b-9c31cca1fd87",
   "metadata": {},
   "outputs": [
    {
     "data": {
      "text/plain": [
       "RandomizedSearchCV(cv=5, estimator=RandomForestClassifier(random_state=42),\n",
       "                   param_distributions={'bootstrap': [True],\n",
       "                                        'criterion': ['gini', 'entropy'],\n",
       "                                        'max_depth': [10, 20, 30, 40, 50, 60,\n",
       "                                                      70, 80, 90, 100, 110],\n",
       "                                        'max_features': ['auto', 'sqrt',\n",
       "                                                         'log2'],\n",
       "                                        'min_samples_leaf': [1, 3, 5, 7, 10],\n",
       "                                        'min_samples_split': [2, 4, 6, 8, 10],\n",
       "                                        'n_estimators': [100, 200, 300, 400,\n",
       "                                                         500, 600, 700, 800,\n",
       "                                                         900, 1000, 1100, 1200,\n",
       "                                                         1300, 1400, 1500, 1600,\n",
       "                                                         1700, 1800, 1900,\n",
       "                                                         2000],\n",
       "                                        'n_jobs': [-1]},\n",
       "                   random_state=42, scoring='recall')"
      ]
     },
     "execution_count": 87,
     "metadata": {},
     "output_type": "execute_result"
    }
   ],
   "source": [
    "# Init\n",
    "rf = RandomForestClassifier(random_state=42)\n",
    "rf_tuned = RandomizedSearchCV(rf, hyperparameters, cv=5, random_state=42, scoring='recall')\n",
    "rf_tuned.fit(xtrain,ytrain)"
   ]
  },
  {
   "cell_type": "code",
   "execution_count": 88,
   "id": "be3ac3c6-d87a-4044-a312-97b6c91058b4",
   "metadata": {},
   "outputs": [
    {
     "name": "stdout",
     "output_type": "stream",
     "text": [
      "Accuracy (Test Set): 0.73\n",
      "Precision (Test Set): 0.41\n",
      "Recall (Test Set): 0.19\n",
      "F1-Score (Test Set): 0.26\n",
      "AUC: 0.55\n"
     ]
    }
   ],
   "source": [
    "# Predict & Evaluation\n",
    "y_pred = rf_tuned.predict(xtest)#Check performa dari model\n",
    "eval_classification(rf_tuned, y_pred, xtrain, ytrain, xtest, ytest)"
   ]
  },
  {
   "cell_type": "code",
   "execution_count": 89,
   "id": "ff10fcd8-87f2-4148-9082-fafd2d9b0f30",
   "metadata": {},
   "outputs": [
    {
     "name": "stdout",
     "output_type": "stream",
     "text": [
      "Best n_estimators: 400\n",
      "Best bootstrap: True\n",
      "Best criterion: gini\n",
      "Best max_depth: 110\n",
      "Best min_samples_split: 4\n",
      "Best min_samples_leaf: 1\n",
      "Best max_features: log2\n",
      "Best n_jobs: -1\n"
     ]
    }
   ],
   "source": [
    "show_best_hyperparameter(rf_tuned.best_estimator_, hyperparameters)"
   ]
  },
  {
   "cell_type": "code",
   "execution_count": 90,
   "id": "81ebd100-b54c-44e2-9d9e-9a1a36eb809e",
   "metadata": {},
   "outputs": [
    {
     "data": {
      "image/png": "[encoded data removed]",
      "text/plain": [
       "<Figure size 720x576 with 1 Axes>"
      ]
     },
     "metadata": {
      "needs_background": "light"
     },
     "output_type": "display_data"
    }
   ],
   "source": [
    "show_feature_importance(rf_tuned.best_estimator_)"
   ]
  },
  {
   "cell_type": "code",
   "execution_count": 94,
   "id": "7746eaa2-b7fc-444e-a958-7119214ff88a",
   "metadata": {},
   "outputs": [
    {
     "name": "stdout",
     "output_type": "stream",
     "text": [
      "Train score: 0.5340909090909091\n",
      "Test score:0.38738738738738737\n"
     ]
    }
   ],
   "source": [
    "print('Train score: ' + str(model.score(xtrain, ytrain)))\n",
    "print('Test score:' + str(model.score(xtest, ytest)))"
   ]
  },
  {
   "cell_type": "markdown",
   "id": "52b3ae4e-35c0-4ffb-a532-630edcd10080",
   "metadata": {
    "tags": []
   },
   "source": [
    "## SVM"
   ]
  },
  {
   "cell_type": "markdown",
   "id": "ead46c53-9623-4703-a1df-5f7348b424c5",
   "metadata": {
    "tags": []
   },
   "source": [
    "### percobaan 1"
   ]
  },
  {
   "cell_type": "code",
   "execution_count": 106,
   "id": "78952033-9073-43f6-8ec3-328824704c16",
   "metadata": {},
   "outputs": [],
   "source": [
    "#Import svm model\n",
    "from sklearn import svm\n",
    "#Create a svm Classifier\n",
    "clf = svm.SVC(kernel='linear') # Linear Kernel\n",
    "#Train the model using the training sets\n",
    "clf.fit(xtrain, ytrain)\n",
    "#Predict the response for test dataset\n",
    "y_pred = clf.predict(xtest)"
   ]
  },
  {
   "cell_type": "code",
   "execution_count": 107,
   "id": "b9d693de-a497-4c36-863b-54bfd5a8ef65",
   "metadata": {},
   "outputs": [
    {
     "data": {
      "text/plain": [
       "array([0., 0., 0., ..., 0., 0., 0.])"
      ]
     },
     "execution_count": 107,
     "metadata": {},
     "output_type": "execute_result"
    }
   ],
   "source": [
    "y_pred"
   ]
  },
  {
   "cell_type": "code",
   "execution_count": 108,
   "id": "1bc62f54-b5d8-4cca-9301-39f10ce942a3",
   "metadata": {},
   "outputs": [
    {
     "data": {
      "text/plain": [
       "4392     1.0\n",
       "18500    0.0\n",
       "16240    1.0\n",
       "11331    1.0\n",
       "4785     1.0\n",
       "        ... \n",
       "16585    0.0\n",
       "13158    0.0\n",
       "10255    1.0\n",
       "2029     0.0\n",
       "15293    1.0\n",
       "Name: target, Length: 5812, dtype: float64"
      ]
     },
     "execution_count": 108,
     "metadata": {},
     "output_type": "execute_result"
    }
   ],
   "source": [
    "ytest"
   ]
  },
  {
   "cell_type": "code",
   "execution_count": 109,
   "id": "ad7a4189-615d-4e47-8699-8bfa737e05b8",
   "metadata": {},
   "outputs": [
    {
     "data": {
      "text/plain": [
       "array([[4355,    0],\n",
       "       [1457,    0]], dtype=int64)"
      ]
     },
     "execution_count": 109,
     "metadata": {},
     "output_type": "execute_result"
    }
   ],
   "source": [
    "from sklearn.metrics import confusion_matrix\n",
    "confusion_matrix(ytest, y_pred)"
   ]
  },
  {
   "cell_type": "code",
   "execution_count": 110,
   "id": "52930722-e94a-4d27-a0b6-107012408862",
   "metadata": {},
   "outputs": [
    {
     "name": "stdout",
     "output_type": "stream",
     "text": [
      "              precision    recall  f1-score   support\n",
      "\n",
      "         0.0       0.75      1.00      0.86      4355\n",
      "         1.0       0.00      0.00      0.00      1457\n",
      "\n",
      "    accuracy                           0.75      5812\n",
      "   macro avg       0.37      0.50      0.43      5812\n",
      "weighted avg       0.56      0.75      0.64      5812\n",
      "\n"
     ]
    }
   ],
   "source": [
    "from sklearn.metrics import classification_report\n",
    "print(classification_report(ytest, y_pred))"
   ]
  },
  {
   "cell_type": "markdown",
   "id": "afafc1c2-be41-4206-883b-33bf277a8a59",
   "metadata": {},
   "source": [
    "### percobaan 2 pake kernel poly"
   ]
  },
  {
   "cell_type": "code",
   "execution_count": 111,
   "id": "5fb5a8b5-7374-487c-835a-8f750a6d4dba",
   "metadata": {},
   "outputs": [
    {
     "data": {
      "text/plain": [
       "SVC(degree=8, kernel='poly')"
      ]
     },
     "execution_count": 111,
     "metadata": {},
     "output_type": "execute_result"
    }
   ],
   "source": [
    "from sklearn.svm import SVC\n",
    "svclassifier = SVC(kernel='poly', degree=8)\n",
    "svclassifier.fit(xtrain, ytrain)"
   ]
  },
  {
   "cell_type": "code",
   "execution_count": 112,
   "id": "9c0b2c58-497f-4955-8d82-705cb770f885",
   "metadata": {},
   "outputs": [],
   "source": [
    "y_pred = svclassifier.predict(xtest)"
   ]
  },
  {
   "cell_type": "code",
   "execution_count": 113,
   "id": "eee8ef64-fc1d-406b-95d6-32ee9870f6d3",
   "metadata": {},
   "outputs": [
    {
     "name": "stdout",
     "output_type": "stream",
     "text": [
      "[[4033  322]\n",
      " [1230  227]]\n",
      "              precision    recall  f1-score   support\n",
      "\n",
      "         0.0       0.77      0.93      0.84      4355\n",
      "         1.0       0.41      0.16      0.23      1457\n",
      "\n",
      "    accuracy                           0.73      5812\n",
      "   macro avg       0.59      0.54      0.53      5812\n",
      "weighted avg       0.68      0.73      0.69      5812\n",
      "\n"
     ]
    }
   ],
   "source": [
    "from sklearn.metrics import classification_report, confusion_matrix\n",
    "print(confusion_matrix(ytest, y_pred))\n",
    "print(classification_report(ytest, y_pred))"
   ]
  },
  {
   "cell_type": "markdown",
   "id": "07c2260d-3fff-4f5e-b4f2-2cbb59620fc1",
   "metadata": {},
   "source": [
    "### Tuning"
   ]
  },
  {
   "cell_type": "code",
   "execution_count": 115,
   "id": "9159200c-2391-40d1-be5d-eee4686241fb",
   "metadata": {
    "scrolled": true,
    "tags": []
   },
   "outputs": [
    {
     "name": "stdout",
     "output_type": "stream",
     "text": [
      "Fitting 5 folds for each of 25 candidates, totalling 125 fits\n",
      "[CV 1/5] END ........C=0.1, gamma=1, kernel=rbf;, score=0.756 total time=  11.2s\n",
      "[CV 2/5] END ........C=0.1, gamma=1, kernel=rbf;, score=0.756 total time=  11.3s\n",
      "[CV 3/5] END ........C=0.1, gamma=1, kernel=rbf;, score=0.756 total time=  12.0s\n",
      "[CV 4/5] END ........C=0.1, gamma=1, kernel=rbf;, score=0.757 total time=  12.2s\n",
      "[CV 5/5] END ........C=0.1, gamma=1, kernel=rbf;, score=0.756 total time=  11.4s\n",
      "[CV 1/5] END ......C=0.1, gamma=0.1, kernel=rbf;, score=0.756 total time=   8.9s\n",
      "[CV 2/5] END ......C=0.1, gamma=0.1, kernel=rbf;, score=0.756 total time=   9.3s\n",
      "[CV 3/5] END ......C=0.1, gamma=0.1, kernel=rbf;, score=0.756 total time=   9.0s\n",
      "[CV 4/5] END ......C=0.1, gamma=0.1, kernel=rbf;, score=0.756 total time=   8.7s\n",
      "[CV 5/5] END ......C=0.1, gamma=0.1, kernel=rbf;, score=0.756 total time=   8.7s\n",
      "[CV 1/5] END .....C=0.1, gamma=0.01, kernel=rbf;, score=0.756 total time=   6.3s\n",
      "[CV 2/5] END .....C=0.1, gamma=0.01, kernel=rbf;, score=0.756 total time=   6.5s\n",
      "[CV 3/5] END .....C=0.1, gamma=0.01, kernel=rbf;, score=0.756 total time=   6.4s\n",
      "[CV 4/5] END .....C=0.1, gamma=0.01, kernel=rbf;, score=0.756 total time=   6.5s\n",
      "[CV 5/5] END .....C=0.1, gamma=0.01, kernel=rbf;, score=0.756 total time=   6.5s\n",
      "[CV 1/5] END ....C=0.1, gamma=0.001, kernel=rbf;, score=0.756 total time=   6.2s\n",
      "[CV 2/5] END ....C=0.1, gamma=0.001, kernel=rbf;, score=0.756 total time=   6.6s\n",
      "[CV 3/5] END ....C=0.1, gamma=0.001, kernel=rbf;, score=0.756 total time=   6.4s\n",
      "[CV 4/5] END ....C=0.1, gamma=0.001, kernel=rbf;, score=0.756 total time=   6.4s\n",
      "[CV 5/5] END ....C=0.1, gamma=0.001, kernel=rbf;, score=0.756 total time=   6.7s\n",
      "[CV 1/5] END ...C=0.1, gamma=0.0001, kernel=rbf;, score=0.756 total time=   6.3s\n",
      "[CV 2/5] END ...C=0.1, gamma=0.0001, kernel=rbf;, score=0.756 total time=   6.3s\n",
      "[CV 3/5] END ...C=0.1, gamma=0.0001, kernel=rbf;, score=0.756 total time=   5.8s\n",
      "[CV 4/5] END ...C=0.1, gamma=0.0001, kernel=rbf;, score=0.756 total time=   6.3s\n",
      "[CV 5/5] END ...C=0.1, gamma=0.0001, kernel=rbf;, score=0.756 total time=   6.5s\n",
      "[CV 1/5] END ..........C=1, gamma=1, kernel=rbf;, score=0.748 total time=  12.8s\n",
      "[CV 2/5] END ..........C=1, gamma=1, kernel=rbf;, score=0.758 total time=  11.8s\n",
      "[CV 3/5] END ..........C=1, gamma=1, kernel=rbf;, score=0.755 total time=  12.7s\n",
      "[CV 4/5] END ..........C=1, gamma=1, kernel=rbf;, score=0.755 total time=  12.7s\n",
      "[CV 5/5] END ..........C=1, gamma=1, kernel=rbf;, score=0.755 total time=  12.8s\n",
      "[CV 1/5] END ........C=1, gamma=0.1, kernel=rbf;, score=0.758 total time=  10.3s\n",
      "[CV 2/5] END ........C=1, gamma=0.1, kernel=rbf;, score=0.757 total time=  10.8s\n",
      "[CV 3/5] END ........C=1, gamma=0.1, kernel=rbf;, score=0.757 total time=  10.7s\n",
      "[CV 4/5] END ........C=1, gamma=0.1, kernel=rbf;, score=0.756 total time=  10.5s\n",
      "[CV 5/5] END ........C=1, gamma=0.1, kernel=rbf;, score=0.756 total time=  11.0s\n",
      "[CV 1/5] END .......C=1, gamma=0.01, kernel=rbf;, score=0.756 total time=   8.6s\n",
      "[CV 2/5] END .......C=1, gamma=0.01, kernel=rbf;, score=0.756 total time=   8.8s\n",
      "[CV 3/5] END .......C=1, gamma=0.01, kernel=rbf;, score=0.756 total time=   8.9s\n",
      "[CV 4/5] END .......C=1, gamma=0.01, kernel=rbf;, score=0.756 total time=   8.0s\n",
      "[CV 5/5] END .......C=1, gamma=0.01, kernel=rbf;, score=0.756 total time=   8.4s\n",
      "[CV 1/5] END ......C=1, gamma=0.001, kernel=rbf;, score=0.756 total time=   6.6s\n",
      "[CV 2/5] END ......C=1, gamma=0.001, kernel=rbf;, score=0.756 total time=   7.0s\n",
      "[CV 3/5] END ......C=1, gamma=0.001, kernel=rbf;, score=0.756 total time=   6.3s\n",
      "[CV 4/5] END ......C=1, gamma=0.001, kernel=rbf;, score=0.756 total time=   6.9s\n",
      "[CV 5/5] END ......C=1, gamma=0.001, kernel=rbf;, score=0.756 total time=   6.4s\n",
      "[CV 1/5] END .....C=1, gamma=0.0001, kernel=rbf;, score=0.756 total time=   6.0s\n",
      "[CV 2/5] END .....C=1, gamma=0.0001, kernel=rbf;, score=0.756 total time=   6.3s\n",
      "[CV 3/5] END .....C=1, gamma=0.0001, kernel=rbf;, score=0.756 total time=   6.0s\n",
      "[CV 4/5] END .....C=1, gamma=0.0001, kernel=rbf;, score=0.756 total time=   6.3s\n",
      "[CV 5/5] END .....C=1, gamma=0.0001, kernel=rbf;, score=0.756 total time=   6.5s\n",
      "[CV 1/5] END .........C=10, gamma=1, kernel=rbf;, score=0.718 total time=  20.1s\n",
      "[CV 2/5] END .........C=10, gamma=1, kernel=rbf;, score=0.709 total time=  27.9s\n",
      "[CV 3/5] END .........C=10, gamma=1, kernel=rbf;, score=0.713 total time=  25.7s\n",
      "[CV 4/5] END .........C=10, gamma=1, kernel=rbf;, score=0.719 total time=  21.7s\n",
      "[CV 5/5] END .........C=10, gamma=1, kernel=rbf;, score=0.718 total time=  22.9s\n",
      "[CV 1/5] END .......C=10, gamma=0.1, kernel=rbf;, score=0.751 total time=  17.2s\n",
      "[CV 2/5] END .......C=10, gamma=0.1, kernel=rbf;, score=0.754 total time=  21.9s\n",
      "[CV 3/5] END .......C=10, gamma=0.1, kernel=rbf;, score=0.757 total time=  19.1s\n",
      "[CV 4/5] END .......C=10, gamma=0.1, kernel=rbf;, score=0.757 total time=  18.1s\n",
      "[CV 5/5] END .......C=10, gamma=0.1, kernel=rbf;, score=0.756 total time=  15.4s\n",
      "[CV 1/5] END ......C=10, gamma=0.01, kernel=rbf;, score=0.756 total time=  18.9s\n",
      "[CV 2/5] END ......C=10, gamma=0.01, kernel=rbf;, score=0.756 total time=  19.6s\n",
      "[CV 3/5] END ......C=10, gamma=0.01, kernel=rbf;, score=0.756 total time=  16.4s\n",
      "[CV 4/5] END ......C=10, gamma=0.01, kernel=rbf;, score=0.756 total time=  16.8s\n",
      "[CV 5/5] END ......C=10, gamma=0.01, kernel=rbf;, score=0.756 total time=  17.8s\n",
      "[CV 1/5] END .....C=10, gamma=0.001, kernel=rbf;, score=0.756 total time=   7.4s\n",
      "[CV 2/5] END .....C=10, gamma=0.001, kernel=rbf;, score=0.756 total time=   7.9s\n",
      "[CV 3/5] END .....C=10, gamma=0.001, kernel=rbf;, score=0.756 total time=   7.5s\n",
      "[CV 4/5] END .....C=10, gamma=0.001, kernel=rbf;, score=0.756 total time=   7.9s\n",
      "[CV 5/5] END .....C=10, gamma=0.001, kernel=rbf;, score=0.756 total time=   7.2s\n",
      "[CV 1/5] END ....C=10, gamma=0.0001, kernel=rbf;, score=0.756 total time=   8.1s\n",
      "[CV 2/5] END ....C=10, gamma=0.0001, kernel=rbf;, score=0.756 total time=   7.6s\n",
      "[CV 3/5] END ....C=10, gamma=0.0001, kernel=rbf;, score=0.756 total time=   8.1s\n",
      "[CV 4/5] END ....C=10, gamma=0.0001, kernel=rbf;, score=0.756 total time=   8.1s\n",
      "[CV 5/5] END ....C=10, gamma=0.0001, kernel=rbf;, score=0.756 total time=   8.0s\n",
      "[CV 1/5] END ........C=100, gamma=1, kernel=rbf;, score=0.706 total time=  29.0s\n",
      "[CV 2/5] END ........C=100, gamma=1, kernel=rbf;, score=0.693 total time=  30.5s\n",
      "[CV 3/5] END ........C=100, gamma=1, kernel=rbf;, score=0.697 total time=  22.4s\n",
      "[CV 4/5] END ........C=100, gamma=1, kernel=rbf;, score=0.688 total time=  32.3s\n",
      "[CV 5/5] END ........C=100, gamma=1, kernel=rbf;, score=0.692 total time=  32.1s\n",
      "[CV 1/5] END ......C=100, gamma=0.1, kernel=rbf;, score=0.720 total time=  34.7s\n",
      "[CV 2/5] END ......C=100, gamma=0.1, kernel=rbf;, score=0.735 total time=  37.2s\n",
      "[CV 3/5] END ......C=100, gamma=0.1, kernel=rbf;, score=0.728 total time=  35.6s\n",
      "[CV 4/5] END ......C=100, gamma=0.1, kernel=rbf;, score=0.740 total time=  34.3s\n",
      "[CV 5/5] END ......C=100, gamma=0.1, kernel=rbf;, score=0.733 total time=  33.5s\n",
      "[CV 1/5] END .....C=100, gamma=0.01, kernel=rbf;, score=0.756 total time=  42.8s\n",
      "[CV 2/5] END .....C=100, gamma=0.01, kernel=rbf;, score=0.756 total time=  46.3s\n",
      "[CV 3/5] END .....C=100, gamma=0.01, kernel=rbf;, score=0.756 total time=  45.9s\n",
      "[CV 4/5] END .....C=100, gamma=0.01, kernel=rbf;, score=0.756 total time=  46.2s\n",
      "[CV 5/5] END .....C=100, gamma=0.01, kernel=rbf;, score=0.756 total time=  49.1s\n",
      "[CV 1/5] END ....C=100, gamma=0.001, kernel=rbf;, score=0.756 total time=  15.4s\n",
      "[CV 2/5] END ....C=100, gamma=0.001, kernel=rbf;, score=0.756 total time=  18.1s\n",
      "[CV 3/5] END ....C=100, gamma=0.001, kernel=rbf;, score=0.756 total time=  17.7s\n",
      "[CV 4/5] END ....C=100, gamma=0.001, kernel=rbf;, score=0.756 total time=  17.8s\n",
      "[CV 5/5] END ....C=100, gamma=0.001, kernel=rbf;, score=0.756 total time=  16.9s\n",
      "[CV 1/5] END ...C=100, gamma=0.0001, kernel=rbf;, score=0.756 total time=   9.1s\n",
      "[CV 2/5] END ...C=100, gamma=0.0001, kernel=rbf;, score=0.756 total time=   8.9s\n",
      "[CV 3/5] END ...C=100, gamma=0.0001, kernel=rbf;, score=0.756 total time=   8.1s\n",
      "[CV 4/5] END ...C=100, gamma=0.0001, kernel=rbf;, score=0.756 total time=   8.7s\n",
      "[CV 5/5] END ...C=100, gamma=0.0001, kernel=rbf;, score=0.756 total time=   8.7s\n",
      "[CV 1/5] END .......C=1000, gamma=1, kernel=rbf;, score=0.687 total time= 2.0min\n",
      "[CV 2/5] END .......C=1000, gamma=1, kernel=rbf;, score=0.677 total time= 1.4min\n",
      "[CV 3/5] END .......C=1000, gamma=1, kernel=rbf;, score=0.683 total time= 1.6min\n",
      "[CV 4/5] END .......C=1000, gamma=1, kernel=rbf;, score=0.682 total time= 1.4min\n",
      "[CV 5/5] END .......C=1000, gamma=1, kernel=rbf;, score=0.685 total time= 1.2min\n",
      "[CV 1/5] END .....C=1000, gamma=0.1, kernel=rbf;, score=0.690 total time= 3.3min\n",
      "[CV 2/5] END .....C=1000, gamma=0.1, kernel=rbf;, score=0.704 total time= 3.0min\n",
      "[CV 3/5] END .....C=1000, gamma=0.1, kernel=rbf;, score=0.698 total time= 3.1min\n",
      "[CV 4/5] END .....C=1000, gamma=0.1, kernel=rbf;, score=0.713 total time= 2.9min\n",
      "[CV 5/5] END .....C=1000, gamma=0.1, kernel=rbf;, score=0.708 total time= 2.7min\n",
      "[CV 1/5] END ....C=1000, gamma=0.01, kernel=rbf;, score=0.757 total time= 1.4min\n",
      "[CV 2/5] END ....C=1000, gamma=0.01, kernel=rbf;, score=0.759 total time= 1.8min\n",
      "[CV 3/5] END ....C=1000, gamma=0.01, kernel=rbf;, score=0.758 total time= 1.7min\n",
      "[CV 4/5] END ....C=1000, gamma=0.01, kernel=rbf;, score=0.757 total time= 1.6min\n",
      "[CV 5/5] END ....C=1000, gamma=0.01, kernel=rbf;, score=0.755 total time= 2.0min\n",
      "[CV 1/5] END ...C=1000, gamma=0.001, kernel=rbf;, score=0.756 total time= 1.9min\n",
      "[CV 2/5] END ...C=1000, gamma=0.001, kernel=rbf;, score=0.756 total time= 2.0min\n",
      "[CV 3/5] END ...C=1000, gamma=0.001, kernel=rbf;, score=0.756 total time= 1.9min\n",
      "[CV 4/5] END ...C=1000, gamma=0.001, kernel=rbf;, score=0.756 total time= 1.9min\n",
      "[CV 5/5] END ...C=1000, gamma=0.001, kernel=rbf;, score=0.756 total time= 2.1min\n",
      "[CV 1/5] END ..C=1000, gamma=0.0001, kernel=rbf;, score=0.756 total time=  29.4s\n",
      "[CV 2/5] END ..C=1000, gamma=0.0001, kernel=rbf;, score=0.756 total time=  31.1s\n",
      "[CV 3/5] END ..C=1000, gamma=0.0001, kernel=rbf;, score=0.756 total time=  29.8s\n",
      "[CV 4/5] END ..C=1000, gamma=0.0001, kernel=rbf;, score=0.756 total time=  29.2s\n",
      "[CV 5/5] END ..C=1000, gamma=0.0001, kernel=rbf;, score=0.756 total time=  30.3s\n"
     ]
    },
    {
     "data": {
      "text/plain": [
       "GridSearchCV(estimator=SVC(),\n",
       "             param_grid={'C': [0.1, 1, 10, 100, 1000],\n",
       "                         'gamma': [1, 0.1, 0.01, 0.001, 0.0001],\n",
       "                         'kernel': ['rbf']},\n",
       "             verbose=3)"
      ]
     },
     "execution_count": 115,
     "metadata": {},
     "output_type": "execute_result"
    }
   ],
   "source": [
    "from sklearn.model_selection import GridSearchCV\n",
    " \n",
    "# defining parameter range\n",
    "param_grid = {'C': [0.1, 1, 10, 100, 1000],\n",
    "              'gamma': [1, 0.1, 0.01, 0.001, 0.0001],\n",
    "              'kernel': ['rbf']}\n",
    " \n",
    "grid = GridSearchCV(SVC(), param_grid, refit = True, verbose = 3)\n",
    " \n",
    "# fitting the model for grid search\n",
    "grid.fit(xtrain, ytrain)"
   ]
  },
  {
   "cell_type": "code",
   "execution_count": 117,
   "id": "71d00e90-0263-4d93-ae1d-f23f3b5ab76e",
   "metadata": {},
   "outputs": [
    {
     "name": "stdout",
     "output_type": "stream",
     "text": [
      "{'C': 1000, 'gamma': 0.01, 'kernel': 'rbf'}\n",
      "SVC(C=1000, gamma=0.01)\n"
     ]
    }
   ],
   "source": [
    "# print best parameter after tuning\n",
    "print(grid.best_params_)\n",
    " \n",
    "# print how our model looks after hyper-parameter tuning\n",
    "print(grid.best_estimator_)"
   ]
  },
  {
   "cell_type": "code",
   "execution_count": 118,
   "id": "f31ac5d2-f8b8-4cc3-8cfd-1683e8ea45c9",
   "metadata": {},
   "outputs": [
    {
     "name": "stdout",
     "output_type": "stream",
     "text": [
      "              precision    recall  f1-score   support\n",
      "\n",
      "         0.0       0.76      0.98      0.85      4355\n",
      "         1.0       0.49      0.05      0.09      1457\n",
      "\n",
      "    accuracy                           0.75      5812\n",
      "   macro avg       0.62      0.52      0.47      5812\n",
      "weighted avg       0.69      0.75      0.66      5812\n",
      "\n"
     ]
    }
   ],
   "source": [
    "grid_predictions = grid.predict(xtest)\n",
    " \n",
    "# print classification report\n",
    "print(classification_report(ytest, grid_predictions))"
   ]
  }
 ],
 "metadata": {
  "kernelspec": {
   "display_name": "Python 3 (ipykernel)",
   "language": "python",
   "name": "python3"
  },
  "language_info": {
   "codemirror_mode": {
    "name": "ipython",
    "version": 3
   },
   "file_extension": ".py",
   "mimetype": "text/x-python",
   "name": "python",
   "nbconvert_exporter": "python",
   "pygments_lexer": "ipython3",
   "version": "3.9.7"
  }
 },
 "nbformat": 4,
 "nbformat_minor": 5
}
